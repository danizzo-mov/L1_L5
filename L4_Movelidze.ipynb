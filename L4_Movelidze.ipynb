{
  "nbformat": 4,
  "nbformat_minor": 0,
  "metadata": {
    "colab": {
      "provenance": []
    },
    "kernelspec": {
      "name": "python3",
      "display_name": "Python 3"
    },
    "language_info": {
      "name": "python"
    }
  },
  "cells": [
    {
      "cell_type": "code",
      "source": [
        "pip install implicit"
      ],
      "metadata": {
        "id": "OPRtsfpClAV3",
        "colab": {
          "base_uri": "https://localhost:8080/"
        },
        "outputId": "aa9e81cc-e036-43e9-e577-597356b51fca"
      },
      "execution_count": 3,
      "outputs": [
        {
          "output_type": "stream",
          "name": "stdout",
          "text": [
            "Collecting implicit\n",
            "  Downloading implicit-0.7.0-cp310-cp310-manylinux2014_x86_64.whl (9.2 MB)\n",
            "\u001b[?25l     \u001b[90m━━━━━━━━━━━━━━━━━━━━━━━━━━━━━━━━━━━━━━━━\u001b[0m \u001b[32m0.0/9.2 MB\u001b[0m \u001b[31m?\u001b[0m eta \u001b[36m-:--:--\u001b[0m\r\u001b[2K     \u001b[91m━\u001b[0m\u001b[90m╺\u001b[0m\u001b[90m━━━━━━━━━━━━━━━━━━━━━━━━━━━━━━━━━━━━━━\u001b[0m \u001b[32m0.3/9.2 MB\u001b[0m \u001b[31m9.7 MB/s\u001b[0m eta \u001b[36m0:00:01\u001b[0m\r\u001b[2K     \u001b[91m━━━━━━━━━━━\u001b[0m\u001b[90m╺\u001b[0m\u001b[90m━━━━━━━━━━━━━━━━━━━━━━━━━━━━\u001b[0m \u001b[32m2.6/9.2 MB\u001b[0m \u001b[31m38.1 MB/s\u001b[0m eta \u001b[36m0:00:01\u001b[0m\r\u001b[2K     \u001b[91m━━━━━━━━━━━━━━━━━━━━━━━━━━━━━━━━━━━━━━━\u001b[0m\u001b[90m╺\u001b[0m \u001b[32m9.0/9.2 MB\u001b[0m \u001b[31m87.3 MB/s\u001b[0m eta \u001b[36m0:00:01\u001b[0m\r\u001b[2K     \u001b[90m━━━━━━━━━━━━━━━━━━━━━━━━━━━━━━━━━━━━━━━━\u001b[0m \u001b[32m9.2/9.2 MB\u001b[0m \u001b[31m69.7 MB/s\u001b[0m eta \u001b[36m0:00:00\u001b[0m\n",
            "\u001b[?25hRequirement already satisfied: numpy in /usr/local/lib/python3.10/dist-packages (from implicit) (1.22.4)\n",
            "Requirement already satisfied: scipy>=0.16 in /usr/local/lib/python3.10/dist-packages (from implicit) (1.10.1)\n",
            "Requirement already satisfied: tqdm>=4.27 in /usr/local/lib/python3.10/dist-packages (from implicit) (4.65.0)\n",
            "Installing collected packages: implicit\n",
            "Successfully installed implicit-0.7.0\n"
          ]
        }
      ]
    },
    {
      "cell_type": "code",
      "source": [
        "!pip install lightfm"
      ],
      "metadata": {
        "colab": {
          "base_uri": "https://localhost:8080/"
        },
        "id": "C7StvBxQJTTc",
        "outputId": "cd9cff85-eb69-4adb-84ae-55669c7af177"
      },
      "execution_count": 6,
      "outputs": [
        {
          "output_type": "stream",
          "name": "stdout",
          "text": [
            "Collecting lightfm\n",
            "  Downloading lightfm-1.17.tar.gz (316 kB)\n",
            "\u001b[?25l     \u001b[90m━━━━━━━━━━━━━━━━━━━━━━━━━━━━━━━━━━━━━━━━\u001b[0m \u001b[32m0.0/316.4 kB\u001b[0m \u001b[31m?\u001b[0m eta \u001b[36m-:--:--\u001b[0m\r\u001b[2K     \u001b[91m━━━━━━━━━━━━━━━━━━━━━━━━━━━━━━━━━━\u001b[0m\u001b[90m╺\u001b[0m\u001b[90m━━━━\u001b[0m \u001b[32m276.5/316.4 kB\u001b[0m \u001b[31m8.4 MB/s\u001b[0m eta \u001b[36m0:00:01\u001b[0m\r\u001b[2K     \u001b[90m━━━━━━━━━━━━━━━━━━━━━━━━━━━━━━━━━━━━━━━\u001b[0m \u001b[32m316.4/316.4 kB\u001b[0m \u001b[31m7.3 MB/s\u001b[0m eta \u001b[36m0:00:00\u001b[0m\n",
            "\u001b[?25h  Preparing metadata (setup.py) ... \u001b[?25l\u001b[?25hdone\n",
            "Requirement already satisfied: numpy in /usr/local/lib/python3.10/dist-packages (from lightfm) (1.22.4)\n",
            "Requirement already satisfied: scipy>=0.17.0 in /usr/local/lib/python3.10/dist-packages (from lightfm) (1.10.1)\n",
            "Requirement already satisfied: requests in /usr/local/lib/python3.10/dist-packages (from lightfm) (2.27.1)\n",
            "Requirement already satisfied: scikit-learn in /usr/local/lib/python3.10/dist-packages (from lightfm) (1.2.2)\n",
            "Requirement already satisfied: urllib3<1.27,>=1.21.1 in /usr/local/lib/python3.10/dist-packages (from requests->lightfm) (1.26.16)\n",
            "Requirement already satisfied: certifi>=2017.4.17 in /usr/local/lib/python3.10/dist-packages (from requests->lightfm) (2023.5.7)\n",
            "Requirement already satisfied: charset-normalizer~=2.0.0 in /usr/local/lib/python3.10/dist-packages (from requests->lightfm) (2.0.12)\n",
            "Requirement already satisfied: idna<4,>=2.5 in /usr/local/lib/python3.10/dist-packages (from requests->lightfm) (3.4)\n",
            "Requirement already satisfied: joblib>=1.1.1 in /usr/local/lib/python3.10/dist-packages (from scikit-learn->lightfm) (1.2.0)\n",
            "Requirement already satisfied: threadpoolctl>=2.0.0 in /usr/local/lib/python3.10/dist-packages (from scikit-learn->lightfm) (3.1.0)\n",
            "Building wheels for collected packages: lightfm\n",
            "  Building wheel for lightfm (setup.py) ... \u001b[?25l\u001b[?25hdone\n",
            "  Created wheel for lightfm: filename=lightfm-1.17-cp310-cp310-linux_x86_64.whl size=867255 sha256=0b18b7f23fa253105fa1eb8447b0a144415630bfed58410b4b4a5e46bf3e1c03\n",
            "  Stored in directory: /root/.cache/pip/wheels/4f/9b/7e/0b256f2168511d8fa4dae4fae0200fdbd729eb424a912ad636\n",
            "Successfully built lightfm\n",
            "Installing collected packages: lightfm\n",
            "Successfully installed lightfm-1.17\n"
          ]
        }
      ]
    },
    {
      "cell_type": "code",
      "source": [
        "pip install lightgbm"
      ],
      "metadata": {
        "id": "tMdsQn_7JUxc"
      },
      "execution_count": null,
      "outputs": []
    },
    {
      "cell_type": "code",
      "execution_count": 41,
      "metadata": {
        "id": "t4PNCY33kwio"
      },
      "outputs": [],
      "source": [
        "import pandas as pd\n",
        "import numpy as np\n",
        "from numpy import save, load\n",
        "from sklearn.preprocessing import LabelEncoder\n",
        "from sklearn.model_selection import train_test_split\n",
        "from scipy import sparse\n",
        "from scipy.sparse import csr_matrix, coo_matrix\n",
        "import itertools\n",
        "import random\n",
        "from tqdm import tqdm\n",
        "from implicit.nearest_neighbours import BM25Recommender, CosineRecommender, TFIDFRecommender\n",
        "from implicit.evaluation import mean_average_precision_at_k, ndcg_at_k, AUC_at_k\n",
        "from implicit.als import AlternatingLeastSquares\n",
        "from lightfm import LightFM\n",
        "from lightfm.evaluation import recall_at_k, precision_at_k, auc_score\n",
        "import lightgbm"
      ]
    },
    {
      "cell_type": "code",
      "source": [
        "path = \"/content/drive/MyDrive/WB School/data.csv.gzip\"\n",
        "df = pd.read_csv(path, compression='gzip')\n",
        "df[\"order_ts\"] = pd.to_datetime(df[\"order_ts\"])"
      ],
      "metadata": {
        "id": "4yR41TD8lKnX"
      },
      "execution_count": 9,
      "outputs": []
    },
    {
      "cell_type": "markdown",
      "source": [
        "# Шаг 1. Подготовка данных"
      ],
      "metadata": {
        "id": "nCjFCyiOmWMG"
      }
    },
    {
      "cell_type": "code",
      "source": [
        "def extract_reluctant_users(df, threshold=5, both=False):\n",
        "\n",
        "  len_df = len(df)\n",
        "  df = df.drop_duplicates()\n",
        "  df_count = df.groupby([\"user_id\", \"item_id\"], as_index=False).count().rename(columns={\"order_ts\": \"counter\"})\n",
        "\n",
        "  df_count_users = df_count.groupby(\"user_id\", as_index=False)[\"counter\"].sum()\n",
        "  users = df_count_users.loc[df_count_users.counter <= threshold, \"user_id\"].values\n",
        "\n",
        "  df_reluctants = df[df.user_id.isin(users)]\n",
        "  df = df[~df.user_id.isin(users)]\n",
        "\n",
        "  if both:\n",
        "    return df_reluctants, df\n",
        "  else:\n",
        "    return df\n",
        "\n",
        "\n",
        "def drop_rare_items(df, threshold=2):\n",
        "\n",
        "  df_temp = df.drop_duplicates()\n",
        "  df_count = df_temp.groupby([\"user_id\", \"item_id\"], as_index=False).count().rename(columns={\"order_ts\": \"counter\"})\n",
        "  df_count_items = df_count.groupby(\"item_id\", as_index=False)[\"counter\"].sum()\n",
        "\n",
        "  items = df_count_items.loc[df_count_items.counter <= threshold, \"item_id\"].values\n",
        "  df = df[~df.item_id.isin(items)]\n",
        "\n",
        "  return df\n",
        "\n",
        "\n",
        "def train_test(df, by, test_weeks=1, test_size=0.2):\n",
        "\n",
        "  if by == \"time\":\n",
        "\n",
        "    n_folds = 13 / test_weeks\n",
        "\n",
        "    delta = (df[\"order_ts\"].max() - df[\"order_ts\"].min()) / n_folds\n",
        "    edge = df[\"order_ts\"].max() - delta\n",
        "\n",
        "    train = df.loc[df[\"order_ts\"] <= edge]\n",
        "    test = df.loc[df[\"order_ts\"] > edge]\n",
        "\n",
        "    return train, test\n",
        "\n",
        "  elif by == \"percents\":\n",
        "\n",
        "    train_size = 1 - test_size\n",
        "    idx = int(len(df) * train_size)\n",
        "\n",
        "    train = df[:idx]\n",
        "    test = df[idx:]\n",
        "\n",
        "    return train, test\n",
        "\n",
        "\n",
        "def common_only(df1, df2, column=\"users\"):\n",
        "\n",
        "  users = list(set(df1[column]).intersection(set(df2[column])))\n",
        "\n",
        "  df1_new = df1[df1[column].isin(users)]\n",
        "  df2_new = df2[df2[column].isin(users)]\n",
        "\n",
        "  return df1_new, df2_new\n",
        "\n",
        "\n",
        "def csr_matrix_via_encoder(train, test): # Датафреймы должны быть сгруппированными!\n",
        "\n",
        "  user_encoder, item_encoder = LabelEncoder(), LabelEncoder()\n",
        "\n",
        "  users_final = set(train.user_id.unique()).intersection(set(test.user_id.unique()))\n",
        "  user_encoder.fit(list(users_final))\n",
        "\n",
        "  all_items = set(train.item_id.unique()).union(set(test.item_id.unique()))\n",
        "  item_encoder.fit(list(all_items))\n",
        "\n",
        "  train[\"user_new_id\"] = user_encoder.transform(train[\"user_id\"])\n",
        "  test[\"user_new_id\"] = user_encoder.transform(test[\"user_id\"])\n",
        "\n",
        "  train[\"item_new_id\"] = item_encoder.transform(train[\"item_id\"])\n",
        "  test[\"item_new_id\"] = item_encoder.transform(test[\"item_id\"])\n",
        "\n",
        "  matrix_shape = len(user_encoder.classes_), len(item_encoder.classes_)\n",
        "\n",
        "  train_sparse = coo_matrix((list(train.counter.astype(np.float32)),\n",
        "                            (list(train.user_new_id.astype(np.int64)),\n",
        "                              list(train.item_new_id.astype(np.int64)))), shape=matrix_shape)\n",
        "\n",
        "  train_csr = train_sparse.tocsr()\n",
        "\n",
        "  test_sparse = coo_matrix((list(test.counter.astype(np.float32)),\n",
        "                           (list(test.user_new_id.astype(np.int64)),\n",
        "                            list(test.item_new_id.astype(np.int64)))), shape=matrix_shape)\n",
        "\n",
        "  test_csr = test_sparse.tocsr()\n",
        "\n",
        "  return train_csr, test_csr, train, test"
      ],
      "metadata": {
        "id": "0pZM0LMy5ft5"
      },
      "execution_count": 10,
      "outputs": []
    },
    {
      "cell_type": "code",
      "source": [
        "df_new = extract_reluctant_users(df, threshold=20)\n",
        "df_new = drop_rare_items(df_new, threshold=10)\n",
        "\n",
        "train_global, test_global = train_test(df_new, by=\"time\", test_weeks=1)\n",
        "\n",
        "train_global, test_global = common_only(train_global, test_global, column=\"user_id\")\n",
        "train_global = extract_reluctant_users(train_global)\n",
        "\n",
        "train_global = drop_rare_items(train_global, threshold=20)\n",
        "\n",
        "train_global, test_global = common_only(train_global, test_global, column=\"user_id\")\n",
        "train_global, test_global = common_only(train_global, test_global, column=\"item_id\")\n",
        "\n",
        "train_global, test_global = common_only(train_global, test_global, column=\"user_id\")\n",
        "train_global, test_global = common_only(train_global, test_global, column=\"item_id\")\n",
        "\n",
        "train_global_grouped = train_global.groupby([\"user_id\", \"item_id\"], as_index=False).count().rename(columns={\"order_ts\": \"counter\"})\n",
        "test_global_grouped = test_global.groupby([\"user_id\", \"item_id\"], as_index=False).count().rename(columns={\"order_ts\": \"counter\"})\n",
        "\n",
        "train_global_grouped = train_global_grouped.sort_values(\"user_id\")\n",
        "test_global_grouped = test_global_grouped.sort_values(\"user_id\")\n",
        "\n",
        "train_global_csr, test_global_csr, train, test = csr_matrix_via_encoder(train_global_grouped, test_global_grouped)"
      ],
      "metadata": {
        "id": "5s0hSIem5ssf"
      },
      "execution_count": 11,
      "outputs": []
    },
    {
      "cell_type": "code",
      "source": [
        "del df\n",
        "del df_new\n",
        "\n",
        "del train_global\n",
        "del test_global"
      ],
      "metadata": {
        "id": "2wJDhqfw6g68"
      },
      "execution_count": 12,
      "outputs": []
    },
    {
      "cell_type": "markdown",
      "source": [
        "# Шаг 2. Простые модели"
      ],
      "metadata": {
        "id": "ddjAOELllQE3"
      }
    },
    {
      "cell_type": "code",
      "source": [
        "model_cos = CosineRecommender(K=10)\n",
        "model_cos.fit(train_global_csr.T)"
      ],
      "metadata": {
        "id": "OaxbyHbuDusD"
      },
      "execution_count": null,
      "outputs": []
    },
    {
      "cell_type": "code",
      "source": [
        "model_tfidf = TFIDFRecommender()\n",
        "model_tfidf.fit(train_global_csr.T)"
      ],
      "metadata": {
        "id": "RfCIBTUnDvb6"
      },
      "execution_count": null,
      "outputs": []
    },
    {
      "cell_type": "code",
      "source": [
        "model_BM25 = BM25Recommender(K=1.2,\n",
        "                             K1=100,\n",
        "                             B=0.8)\n",
        "model_BM25.fit(train_global_csr)"
      ],
      "metadata": {
        "id": "ws2jqrzClT2n"
      },
      "execution_count": null,
      "outputs": []
    },
    {
      "cell_type": "code",
      "source": [
        "model_ALS = AlternatingLeastSquares(factors=10,\n",
        "                                    iterations=10,\n",
        "                                    regularization=0.00003,\n",
        "                                    alpha=6)\n",
        "model_ALS.fit(train_global_csr)"
      ],
      "metadata": {
        "id": "UkfDDnMA2jMf"
      },
      "execution_count": null,
      "outputs": []
    },
    {
      "cell_type": "markdown",
      "source": [
        "# Шаг 3. Отбор кандидатов + бустинг"
      ],
      "metadata": {
        "id": "Zy4kQtt2sZlX"
      }
    },
    {
      "cell_type": "markdown",
      "source": [
        "## Выбор моделей"
      ],
      "metadata": {
        "id": "ACM_SLAOO4jP"
      }
    },
    {
      "cell_type": "code",
      "source": [
        "model_warp = LightFM(no_components=40,\n",
        "                     learning_schedule=\"adagrad\",\n",
        "                     loss=\"warp\",\n",
        "                     learning_rate=0.04,\n",
        "                     item_alpha=0.0001,\n",
        "                     user_alpha=0.00005,\n",
        "                     max_sampled=40)\n",
        "\n",
        "model_warp.fit(train_global_csr, epochs=20)"
      ],
      "metadata": {
        "id": "j3KQV9Kw3DS_"
      },
      "execution_count": null,
      "outputs": []
    },
    {
      "cell_type": "code",
      "source": [
        "model_bpr = LightFM(no_components=12,\n",
        "                    learning_schedule=\"adagrad\",\n",
        "                    loss=\"bpr\",\n",
        "                    learning_rate=0.035,\n",
        "                    item_alpha=0.00001,\n",
        "                    user_alpha=0.0001)\n",
        "\n",
        "model_bpr.fit(train_global_csr, epochs = 20)"
      ],
      "metadata": {
        "id": "ZJ6JAqBo3GFW"
      },
      "execution_count": null,
      "outputs": []
    },
    {
      "cell_type": "code",
      "source": [
        "model_lmf = LightFM(no_components=11,\n",
        "                    learning_schedule=\"adagrad\",\n",
        "                    loss=\"logistic\",\n",
        "                    learning_rate=0.019,\n",
        "                    item_alpha=0.00023,\n",
        "                    user_alpha=0.00017)\n",
        "\n",
        "model_lmf.fit(train_global_csr, epochs = 20)"
      ],
      "metadata": {
        "id": "5yUnCSgc3NKW"
      },
      "execution_count": null,
      "outputs": []
    },
    {
      "cell_type": "code",
      "source": [
        "model_warp_kos = LightFM(no_components=17,\n",
        "                         k=3,\n",
        "                         n=11,\n",
        "                         learning_schedule=\"adagrad\",\n",
        "                         loss=\"warp-kos\",\n",
        "                         learning_rate=0.027,\n",
        "                         item_alpha=0.00001,\n",
        "                         user_alpha=0.00014,\n",
        "                         max_sampled=42)\n",
        "\n",
        "model_warp_kos.fit(train_global_csr, epochs=20)"
      ],
      "metadata": {
        "id": "WUiMFCVo3WUu"
      },
      "execution_count": null,
      "outputs": []
    },
    {
      "cell_type": "markdown",
      "source": [
        "![Снимок экрана (1343).png](data:image/png;base64,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)"
      ],
      "metadata": {
        "id": "zu-GCR-aNOaO"
      }
    },
    {
      "cell_type": "markdown",
      "source": [
        "В основе WARP и k-OS WARP  лежит в целом одинаковая идея, и одно является доработанной версией другого, поэтому вместе с WARP вместо  k-OS WARP берём LMF."
      ],
      "metadata": {
        "id": "Jqc_agkPOh1v"
      }
    },
    {
      "cell_type": "markdown",
      "source": [
        "## Бустинг"
      ],
      "metadata": {
        "id": "dnv8X8B9O-kn"
      }
    },
    {
      "cell_type": "markdown",
      "source": [
        "Извлекаем кандидатов."
      ],
      "metadata": {
        "id": "WwjIdC6k1S1m"
      }
    },
    {
      "cell_type": "code",
      "source": [
        "def candidates_extraction(model_type, users_test, items_test, top=50, precomputed_scores=True):\n",
        "\n",
        "  if precomputed_scores == True:\n",
        "    path = \"/content/drive/MyDrive/WB School/L4/\" + model_type + \"_pairs_global.npy\"\n",
        "    pairs = load(path)\n",
        "\n",
        "  elif precomputed_scores == False:\n",
        "    path_item_emb = \"/content/drive/MyDrive/WB School/\" + model_type + \"_item_emb_global.npy\"\n",
        "    path_user_emb = \"/content/drive/MyDrive/WB School/\" + model_type + \"user_emb_global.npy\"\n",
        "    path_user_bias = \"/content/drive/MyDrive/WB School/\" + model_type + \"user_biases_global.npy\"\n",
        "    path_item_bias = \"/content/drive/MyDrive/WB School/\" + model_type + \"item_biases_global.npy\"\n",
        "\n",
        "    item_emb = load(path_item_emb)\n",
        "    user_emb = load(path_user_emb)\n",
        "    user_biases = load(path_user_bias)\n",
        "    item_biases = load(path_item_bias)\n",
        "\n",
        "    pairs = scores_calculation(user_emb, item_emb, user_biases, item_biases, items_number=50)\n",
        "\n",
        "  model_dict = dict()\n",
        "  for user, user_data in enumerate(pairs):\n",
        "        for rank, (item, score) in enumerate(user_data):\n",
        "            key = tuple([user, item])\n",
        "            value = tuple([score, (rank + 1)])\n",
        "            model_dict[key] = value\n",
        "\n",
        "  model_pairs = list()\n",
        "  for key in model_dict.keys():\n",
        "      model_pairs.append(key)\n",
        "\n",
        "  return model_pairs, model_dict"
      ],
      "metadata": {
        "id": "cf70cgcXO9vX"
      },
      "execution_count": 13,
      "outputs": []
    },
    {
      "cell_type": "code",
      "source": [
        "users_test = sorted(list(set(coo_matrix(train_global_csr).row)))\n",
        "items_test = sorted(list(set(coo_matrix(train_global_csr).col)))"
      ],
      "metadata": {
        "id": "yaX8QThp7pCU"
      },
      "execution_count": 16,
      "outputs": []
    },
    {
      "cell_type": "code",
      "source": [
        "del train_global_csr"
      ],
      "metadata": {
        "id": "NH2Lwezs7q92"
      },
      "execution_count": 17,
      "outputs": []
    },
    {
      "cell_type": "code",
      "source": [
        "warp_pairs, warp_dict = candidates_extraction(\"warp\", users_test, items_test, top=50, precomputed_scores=True) # 3.6 GB\n",
        "lmf_pairs, lmf_dict = candidates_extraction(\"lmf\", users_test, items_test, top=50, precomputed_scores=True)\n",
        "\n",
        "total_pairs = list(set(warp_pairs).union(set(lmf_pairs)))"
      ],
      "metadata": {
        "id": "yPDBs1W71fGn"
      },
      "execution_count": 18,
      "outputs": []
    },
    {
      "cell_type": "code",
      "source": [
        "del warp_pairs\n",
        "del lmf_pairs"
      ],
      "metadata": {
        "id": "P0jav_T41fsG"
      },
      "execution_count": 19,
      "outputs": []
    },
    {
      "cell_type": "code",
      "source": [
        "data_all_pairs = [pair +\n",
        "                  warp_dict.get(pair, (np.nan, np.nan)) +\n",
        "                  lmf_dict.get(pair, (np.nan, np.nan))  for pair in tqdm(total_pairs)]"
      ],
      "metadata": {
        "id": "8S_AIqep2kd8",
        "colab": {
          "base_uri": "https://localhost:8080/"
        },
        "outputId": "e9d64595-19c8-4f11-e121-d298cfbb65c0"
      },
      "execution_count": 22,
      "outputs": [
        {
          "output_type": "stream",
          "name": "stderr",
          "text": [
            "100%|██████████| 18873543/18873543 [00:32<00:00, 575496.90it/s]\n"
          ]
        }
      ]
    },
    {
      "cell_type": "code",
      "source": [
        "del warp_dict\n",
        "del lmf_dict"
      ],
      "metadata": {
        "id": "i6S96tsm3Mqj"
      },
      "execution_count": 23,
      "outputs": []
    },
    {
      "cell_type": "code",
      "source": [
        "data_all_pairs_df = pd.DataFrame(data_all_pairs,\n",
        "                                 columns=[\"user_id\", \"item_id\", \"warp_score\", \"warp_rank\",\n",
        "                                                                \"lmf_score\", \"lmf_rank\"])"
      ],
      "metadata": {
        "id": "H5He6heo3Ov-"
      },
      "execution_count": 24,
      "outputs": []
    },
    {
      "cell_type": "code",
      "source": [
        "del data_all_pairs"
      ],
      "metadata": {
        "id": "eVHlA4wr3Qjb"
      },
      "execution_count": 25,
      "outputs": []
    },
    {
      "cell_type": "code",
      "source": [
        "def change_dtype(df):\n",
        "\n",
        "    for column in df.columns:\n",
        "        if column.endswith(\"id\"):\n",
        "            df[column] = df[column].astype(np.int32)\n",
        "        else:\n",
        "            df[column] = df[column].astype(np.float32)\n",
        "\n",
        "    return df"
      ],
      "metadata": {
        "id": "EdYClh2Q3U1s"
      },
      "execution_count": 26,
      "outputs": []
    },
    {
      "cell_type": "code",
      "source": [
        "data_all_pairs_df = change_dtype(data_all_pairs_df)"
      ],
      "metadata": {
        "id": "yiNAMuFZ3n3L"
      },
      "execution_count": 27,
      "outputs": []
    },
    {
      "cell_type": "code",
      "source": [
        "def fill_nans(df, top=50):\n",
        "\n",
        "    for column in df.columns:\n",
        "        if column.endswith(\"score\"):\n",
        "            df[column] = df[column].fillna(random.uniform(0, 1))\n",
        "        elif column.endswith(\"rank\"):\n",
        "            df[column] = df[column].fillna(random.randint(top, (top + 100))) # Чтобы отдалить незаказанные айтемы\n",
        "\n",
        "    return df"
      ],
      "metadata": {
        "id": "Xa0KKYcL3oh8"
      },
      "execution_count": 28,
      "outputs": []
    },
    {
      "cell_type": "code",
      "source": [
        "predictions = fill_nans(data_all_pairs_df, top=50)"
      ],
      "metadata": {
        "id": "UAcarznI3t6T"
      },
      "execution_count": 29,
      "outputs": []
    },
    {
      "cell_type": "code",
      "source": [
        "purchases = list()\n",
        "\n",
        "for k in tqdm(range(test_global_csr.shape[0])):\n",
        "  cx = coo_matrix(test_global_csr[k])\n",
        "  purchased_items, user_id = [], []\n",
        "  user_id.append(k)\n",
        "\n",
        "  for i,j,v in zip(cx.row, cx.col, cx.data):\n",
        "    purchased_items.append(j)\n",
        "\n",
        "  for i in list(itertools.product(user_id, purchased_items)):\n",
        "    purchases.append(i)"
      ],
      "metadata": {
        "id": "baDH72JG41OB",
        "colab": {
          "base_uri": "https://localhost:8080/"
        },
        "outputId": "4d1e43d5-155e-4a09-ee15-df2d067af9be"
      },
      "execution_count": 30,
      "outputs": [
        {
          "output_type": "stream",
          "name": "stderr",
          "text": [
            "100%|██████████| 233086/233086 [00:45<00:00, 5158.94it/s]\n"
          ]
        }
      ]
    },
    {
      "cell_type": "code",
      "source": [
        "del test_global_csr"
      ],
      "metadata": {
        "id": "4WNO77fQ76dE"
      },
      "execution_count": 31,
      "outputs": []
    },
    {
      "cell_type": "code",
      "source": [
        "def purchases2dict(purchases):\n",
        "\n",
        "    data_true = {}\n",
        "    for i in tqdm(purchases):\n",
        "        curr, item = i[0], int(i[1])\n",
        "\n",
        "        if curr not in data_true:\n",
        "            data_true[curr] = list()\n",
        "            data_true[curr].append(item)\n",
        "        else:\n",
        "            data_true[curr].append(item)\n",
        "\n",
        "    for i in tqdm(data_true.keys()):\n",
        "        data_true[i] = set(data_true[i])\n",
        "\n",
        "    return data_true"
      ],
      "metadata": {
        "id": "D0z4mIH543VU"
      },
      "execution_count": 32,
      "outputs": []
    },
    {
      "cell_type": "code",
      "source": [
        "data_true = purchases2dict(purchases)"
      ],
      "metadata": {
        "id": "n1Fy8HBk46wk",
        "colab": {
          "base_uri": "https://localhost:8080/"
        },
        "outputId": "31a5edef-7fda-496e-e85d-3cee8e1b54f9"
      },
      "execution_count": 33,
      "outputs": [
        {
          "output_type": "stream",
          "name": "stderr",
          "text": [
            "100%|██████████| 939072/939072 [00:09<00:00, 101913.35it/s]\n",
            "100%|██████████| 233086/233086 [00:00<00:00, 942350.98it/s]\n"
          ]
        }
      ]
    },
    {
      "cell_type": "code",
      "source": [
        "del purchases"
      ],
      "metadata": {
        "id": "kNcYemOH49cD"
      },
      "execution_count": 34,
      "outputs": []
    },
    {
      "cell_type": "code",
      "source": [
        "items_dict = dict(zip(train.item_new_id, train.item_id))\n",
        "users_dict = dict(zip(train.user_new_id, train.user_id))"
      ],
      "metadata": {
        "id": "tE-gqP914_es"
      },
      "execution_count": 35,
      "outputs": []
    },
    {
      "cell_type": "code",
      "source": [
        "del train"
      ],
      "metadata": {
        "id": "nEIhO0XO7Q6s"
      },
      "execution_count": 36,
      "outputs": []
    },
    {
      "cell_type": "code",
      "source": [
        "predictions[\"user_id\"] = predictions[\"user_id\"].map(users_dict)\n",
        "predictions[\"item_id\"] = predictions[\"item_id\"].map(items_dict)"
      ],
      "metadata": {
        "id": "qPgAk6yK5SA7"
      },
      "execution_count": 37,
      "outputs": []
    },
    {
      "cell_type": "code",
      "source": [
        "del items_dict\n",
        "del users_dict"
      ],
      "metadata": {
        "id": "gWgqvyBZ5TMk"
      },
      "execution_count": 38,
      "outputs": []
    },
    {
      "cell_type": "code",
      "source": [
        "test[\"target\"] = 1\n",
        "\n",
        "dataset = pd.merge(predictions,\n",
        "                   test[[\"user_id\", \"item_id\", \"target\"]].drop_duplicates(),\n",
        "                   how=\"left\",\n",
        "                   left_on=[\"user_id\", \"item_id\"],\n",
        "                   right_on=[\"user_id\", \"item_id\"])\n",
        "\n",
        "dataset[\"target\"].fillna(0, inplace=True)\n",
        "dataset = dataset.dropna()"
      ],
      "metadata": {
        "id": "XUj7pfn37JJL"
      },
      "execution_count": 39,
      "outputs": []
    },
    {
      "cell_type": "code",
      "source": [
        "del test\n",
        "del predictions"
      ],
      "metadata": {
        "id": "79a27uaT7PVT"
      },
      "execution_count": 40,
      "outputs": []
    },
    {
      "cell_type": "code",
      "source": [
        "train_xy, test_xy = train_test_split(dataset, train_size=0.7, random_state=42)"
      ],
      "metadata": {
        "id": "kVfrK1r67Rj0"
      },
      "execution_count": 45,
      "outputs": []
    },
    {
      "cell_type": "code",
      "source": [
        "# Нужно только расчёта NDCG\n",
        "relevance_df_test = test_xy[[\"user_id\", \"item_id\", \"target\"]]\n",
        "relevance_df_test = relevance_df_test[relevance_df_test[\"target\"] == 1.0]\n",
        "\n",
        "relevance_df_test.to_csv(\"relevance_df_test.csv\")"
      ],
      "metadata": {
        "id": "tJv_qE3r7bUc"
      },
      "execution_count": 46,
      "outputs": []
    },
    {
      "cell_type": "code",
      "source": [
        "del relevance_df_test"
      ],
      "metadata": {
        "id": "PV72uMKcQTmu"
      },
      "execution_count": 47,
      "outputs": []
    },
    {
      "cell_type": "code",
      "source": [
        "y_train = train_xy.pop(\"target\")\n",
        "x_train = train_xy.copy()\n",
        "\n",
        "y_test = test_xy.pop(\"target\")\n",
        "x_test = test_xy.copy()\n",
        "\n",
        "X_train = x_train[[\"warp_score\", \"warp_rank\", \"lmf_score\", \"lmf_rank\"]]\n",
        "X_test = x_test[[\"warp_score\", \"warp_rank\", \"lmf_score\", \"lmf_rank\"]]\n",
        "\n",
        "x_train = x_train.sort_values(\"user_id\").reset_index(drop=True)\n",
        "x_test = x_test.sort_values(\"user_id\").reset_index(drop=True)\n",
        "\n",
        "train_query = x_train[\"user_id\"].value_counts().sort_index()\n",
        "test_query = x_test[\"user_id\"].value_counts().sort_index()"
      ],
      "metadata": {
        "id": "0Pkal4LBCnHd"
      },
      "execution_count": 50,
      "outputs": []
    },
    {
      "cell_type": "code",
      "source": [
        "del x_train\n",
        "del train_xy\n",
        "del test_xy"
      ],
      "metadata": {
        "id": "pUusP_DlC_hs"
      },
      "execution_count": 51,
      "outputs": []
    },
    {
      "cell_type": "code",
      "source": [
        "model_gbm = lightgbm.LGBMRanker(n_estimators=500,\n",
        "                                objective=\"lambdarank\",\n",
        "                                random_state=42)\n",
        "model_gbm.fit(X_train,\n",
        "              y_train,\n",
        "              group=train_query,\n",
        "              eval_set=[(X_test, y_test)],\n",
        "              eval_group=[list(test_query)],\n",
        "              eval_at=[20],\n",
        "              early_stopping_rounds=50,\n",
        "              verbose=0)"
      ],
      "metadata": {
        "id": "8cuXlBZ3DXwd",
        "colab": {
          "base_uri": "https://localhost:8080/",
          "height": 164
        },
        "outputId": "c849446e-9a41-4099-8827-a1f20512659b"
      },
      "execution_count": 52,
      "outputs": [
        {
          "output_type": "stream",
          "name": "stderr",
          "text": [
            "/usr/local/lib/python3.10/dist-packages/lightgbm/sklearn.py:726: UserWarning: 'early_stopping_rounds' argument is deprecated and will be removed in a future release of LightGBM. Pass 'early_stopping()' callback via 'callbacks' argument instead.\n",
            "  _log_warning(\"'early_stopping_rounds' argument is deprecated and will be removed in a future release of LightGBM. \"\n",
            "/usr/local/lib/python3.10/dist-packages/lightgbm/sklearn.py:736: UserWarning: 'verbose' argument is deprecated and will be removed in a future release of LightGBM. Pass 'log_evaluation()' callback via 'callbacks' argument instead.\n",
            "  _log_warning(\"'verbose' argument is deprecated and will be removed in a future release of LightGBM. \"\n"
          ]
        },
        {
          "output_type": "execute_result",
          "data": {
            "text/plain": [
              "LGBMRanker(n_estimators=500, objective='lambdarank', random_state=42)"
            ],
            "text/html": [
              "<style>#sk-container-id-1 {color: black;background-color: white;}#sk-container-id-1 pre{padding: 0;}#sk-container-id-1 div.sk-toggleable {background-color: white;}#sk-container-id-1 label.sk-toggleable__label {cursor: pointer;display: block;width: 100%;margin-bottom: 0;padding: 0.3em;box-sizing: border-box;text-align: center;}#sk-container-id-1 label.sk-toggleable__label-arrow:before {content: \"▸\";float: left;margin-right: 0.25em;color: #696969;}#sk-container-id-1 label.sk-toggleable__label-arrow:hover:before {color: black;}#sk-container-id-1 div.sk-estimator:hover label.sk-toggleable__label-arrow:before {color: black;}#sk-container-id-1 div.sk-toggleable__content {max-height: 0;max-width: 0;overflow: hidden;text-align: left;background-color: #f0f8ff;}#sk-container-id-1 div.sk-toggleable__content pre {margin: 0.2em;color: black;border-radius: 0.25em;background-color: #f0f8ff;}#sk-container-id-1 input.sk-toggleable__control:checked~div.sk-toggleable__content {max-height: 200px;max-width: 100%;overflow: auto;}#sk-container-id-1 input.sk-toggleable__control:checked~label.sk-toggleable__label-arrow:before {content: \"▾\";}#sk-container-id-1 div.sk-estimator input.sk-toggleable__control:checked~label.sk-toggleable__label {background-color: #d4ebff;}#sk-container-id-1 div.sk-label input.sk-toggleable__control:checked~label.sk-toggleable__label {background-color: #d4ebff;}#sk-container-id-1 input.sk-hidden--visually {border: 0;clip: rect(1px 1px 1px 1px);clip: rect(1px, 1px, 1px, 1px);height: 1px;margin: -1px;overflow: hidden;padding: 0;position: absolute;width: 1px;}#sk-container-id-1 div.sk-estimator {font-family: monospace;background-color: #f0f8ff;border: 1px dotted black;border-radius: 0.25em;box-sizing: border-box;margin-bottom: 0.5em;}#sk-container-id-1 div.sk-estimator:hover {background-color: #d4ebff;}#sk-container-id-1 div.sk-parallel-item::after {content: \"\";width: 100%;border-bottom: 1px solid gray;flex-grow: 1;}#sk-container-id-1 div.sk-label:hover label.sk-toggleable__label {background-color: #d4ebff;}#sk-container-id-1 div.sk-serial::before {content: \"\";position: absolute;border-left: 1px solid gray;box-sizing: border-box;top: 0;bottom: 0;left: 50%;z-index: 0;}#sk-container-id-1 div.sk-serial {display: flex;flex-direction: column;align-items: center;background-color: white;padding-right: 0.2em;padding-left: 0.2em;position: relative;}#sk-container-id-1 div.sk-item {position: relative;z-index: 1;}#sk-container-id-1 div.sk-parallel {display: flex;align-items: stretch;justify-content: center;background-color: white;position: relative;}#sk-container-id-1 div.sk-item::before, #sk-container-id-1 div.sk-parallel-item::before {content: \"\";position: absolute;border-left: 1px solid gray;box-sizing: border-box;top: 0;bottom: 0;left: 50%;z-index: -1;}#sk-container-id-1 div.sk-parallel-item {display: flex;flex-direction: column;z-index: 1;position: relative;background-color: white;}#sk-container-id-1 div.sk-parallel-item:first-child::after {align-self: flex-end;width: 50%;}#sk-container-id-1 div.sk-parallel-item:last-child::after {align-self: flex-start;width: 50%;}#sk-container-id-1 div.sk-parallel-item:only-child::after {width: 0;}#sk-container-id-1 div.sk-dashed-wrapped {border: 1px dashed gray;margin: 0 0.4em 0.5em 0.4em;box-sizing: border-box;padding-bottom: 0.4em;background-color: white;}#sk-container-id-1 div.sk-label label {font-family: monospace;font-weight: bold;display: inline-block;line-height: 1.2em;}#sk-container-id-1 div.sk-label-container {text-align: center;}#sk-container-id-1 div.sk-container {/* jupyter's `normalize.less` sets `[hidden] { display: none; }` but bootstrap.min.css set `[hidden] { display: none !important; }` so we also need the `!important` here to be able to override the default hidden behavior on the sphinx rendered scikit-learn.org. See: https://github.com/scikit-learn/scikit-learn/issues/21755 */display: inline-block !important;position: relative;}#sk-container-id-1 div.sk-text-repr-fallback {display: none;}</style><div id=\"sk-container-id-1\" class=\"sk-top-container\"><div class=\"sk-text-repr-fallback\"><pre>LGBMRanker(n_estimators=500, objective=&#x27;lambdarank&#x27;, random_state=42)</pre><b>In a Jupyter environment, please rerun this cell to show the HTML representation or trust the notebook. <br />On GitHub, the HTML representation is unable to render, please try loading this page with nbviewer.org.</b></div><div class=\"sk-container\" hidden><div class=\"sk-item\"><div class=\"sk-estimator sk-toggleable\"><input class=\"sk-toggleable__control sk-hidden--visually\" id=\"sk-estimator-id-1\" type=\"checkbox\" checked><label for=\"sk-estimator-id-1\" class=\"sk-toggleable__label sk-toggleable__label-arrow\">LGBMRanker</label><div class=\"sk-toggleable__content\"><pre>LGBMRanker(n_estimators=500, objective=&#x27;lambdarank&#x27;, random_state=42)</pre></div></div></div></div></div>"
            ]
          },
          "metadata": {},
          "execution_count": 52
        }
      ]
    },
    {
      "cell_type": "code",
      "source": [
        "lgb_test = x_test.copy()\n",
        "# lgb_test[[\"user_id\", \"item_id\"]].drop_duplicates(inplace=True)\n",
        "lgb_test.set_index([\"user_id\", \"item_id\"], inplace=True)\n",
        "lgb_test[\"lgb_score\"] = model_gbm.predict(lgb_test)\n",
        "# lgb_test = lgb_test.set_index(\"lgb_score\", append=True).sort_values(\"lgb_score\", ascending=False)\n",
        "# lgb_test.drop_duplicates(inplace=True)\n",
        "\n",
        "dataset_predicted = dict()\n",
        "lgb_test.reset_index(inplace=True)\n",
        "for user, group in tqdm(lgb_test.groupby(\"user_id\")):\n",
        "    dataset_predicted[user] = list(group.sort_values(by=\"lgb_score\", ascending=False).item_id)[:20]"
      ],
      "metadata": {
        "id": "el7yb0kbDiqF"
      },
      "execution_count": null,
      "outputs": []
    },
    {
      "cell_type": "markdown",
      "source": [
        "# Шаг 4. Сравнение результатов"
      ],
      "metadata": {
        "id": "qmDy5mqvseZO"
      }
    },
    {
      "cell_type": "markdown",
      "source": [
        "Все модели обучались на train_global, замеры делались на test_global.\n",
        "\n",
        "![Снимок экрана (1345).png](data:image/png;base64,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)"
      ],
      "metadata": {
        "id": "beOzs-v6sjwO"
      }
    }
  ]
}
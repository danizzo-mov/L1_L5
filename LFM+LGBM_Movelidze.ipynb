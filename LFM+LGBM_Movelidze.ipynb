{
  "cells": [
    {
      "cell_type": "code",
      "source": [
        "pip install lightfm"
      ],
      "metadata": {
        "id": "uylkzVb-91Gb"
      },
      "execution_count": null,
      "outputs": []
    },
    {
      "cell_type": "code",
      "source": [
        "pip install lightgbm"
      ],
      "metadata": {
        "id": "CYTXV-AQNhOy"
      },
      "execution_count": null,
      "outputs": []
    },
    {
      "cell_type": "code",
      "execution_count": null,
      "metadata": {
        "id": "XJ4BAYz9fxC7"
      },
      "outputs": [],
      "source": [
        "import gc\n",
        "import pandas as pd\n",
        "from lightfm.data import Dataset\n",
        "from lightfm import LightFM\n",
        "from tqdm import tqdm\n",
        "import numpy as np\n",
        "from sklearn.model_selection import train_test_split\n",
        "from sklearn.utils import shuffle\n",
        "import lightgbm as lgbm"
      ]
    },
    {
      "cell_type": "code",
      "execution_count": null,
      "metadata": {
        "id": "rbMuAmwTgHfO"
      },
      "outputs": [],
      "source": [
        "path = \"/content/drive/MyDrive/WB School/data.csv.gzip\"\n",
        "interactions = pd.read_csv(path, compression=\"gzip\")\n",
        "interactions[\"order_ts\"] = pd.to_datetime(interactions[\"order_ts\"])"
      ]
    },
    {
      "cell_type": "markdown",
      "source": [
        "# Обучение"
      ],
      "metadata": {
        "id": "hArA5StX9R_h"
      }
    },
    {
      "cell_type": "markdown",
      "metadata": {
        "id": "EBAv3V555Gud"
      },
      "source": [
        "## Train/test"
      ]
    },
    {
      "cell_type": "markdown",
      "metadata": {
        "id": "xk2KH7ergLd-"
      },
      "source": [
        "Делим на train и test. В test положим 3-ий месяц."
      ]
    },
    {
      "cell_type": "code",
      "execution_count": null,
      "metadata": {
        "colab": {
          "base_uri": "https://localhost:8080/"
        },
        "id": "xPQuwAtwgOlO",
        "outputId": "eb072867-5ef5-4af5-dcd7-a71e72252a61"
      },
      "outputs": [
        {
          "output_type": "execute_result",
          "data": {
            "text/plain": [
              "20"
            ]
          },
          "metadata": {},
          "execution_count": 6
        }
      ],
      "source": [
        "train = interactions[interactions.order_ts <= \"2023-02-28 23:59:59.947831\"]\n",
        "test = interactions[interactions.order_ts > \"2023-02-28 23:59:59.947831\"]\n",
        "\n",
        "del interactions\n",
        "gc.collect()"
      ]
    },
    {
      "cell_type": "markdown",
      "metadata": {
        "id": "ayMInkF_l44n"
      },
      "source": [
        "Для обучения и валидации моделей первого уровня разделим train на 2 части в соотношении 70/30. На lmf_train обучаем модели первого этапа. На lmf_pred будем обучать бустинг."
      ]
    },
    {
      "cell_type": "code",
      "execution_count": null,
      "metadata": {
        "colab": {
          "base_uri": "https://localhost:8080/"
        },
        "id": "zoMwQcx9kBTn",
        "outputId": "8ee907ac-b389-470c-cf6d-3e9ead59681a"
      },
      "outputs": [
        {
          "output_type": "execute_result",
          "data": {
            "text/plain": [
              "0"
            ]
          },
          "metadata": {},
          "execution_count": 7
        }
      ],
      "source": [
        "lfm_threshold = train[\"order_ts\"].quantile(q=0.7, interpolation=\"nearest\")\n",
        "\n",
        "lfm_train = train[(train[\"order_ts\"] <= lfm_threshold)]\n",
        "lfm_pred = train[(train[\"order_ts\"] > lfm_threshold)]\n",
        "\n",
        "del train\n",
        "gc.collect()"
      ]
    },
    {
      "cell_type": "markdown",
      "metadata": {
        "id": "0NKnmwebpbYO"
      },
      "source": [
        "Отбор кандидатов будет проводиться 2 вариантами матричной факторизации, поэтому в lmf_pred оставим только тех пользователей, которые есть в lmf_train."
      ]
    },
    {
      "cell_type": "code",
      "execution_count": null,
      "metadata": {
        "id": "iDrVXnvUpXo9"
      },
      "outputs": [],
      "source": [
        "lfm_pred = lfm_pred[lfm_pred[\"user_id\"].isin(lfm_train[\"user_id\"].unique())]"
      ]
    },
    {
      "cell_type": "markdown",
      "metadata": {
        "id": "-zppvkOW6i9W"
      },
      "source": [
        "Сгруппируем датафреймы для дальнейшего преобразования в csr-матрицы."
      ]
    },
    {
      "cell_type": "code",
      "execution_count": null,
      "metadata": {
        "id": "aU8HQRuP6rMm"
      },
      "outputs": [],
      "source": [
        "lfm_train = lfm_train.groupby([\"user_id\", \"item_id\"], as_index=False).count().rename(columns={\"order_ts\": \"amount\"})\n",
        "lfm_pred = lfm_pred.groupby([\"user_id\", \"item_id\"], as_index=False).count().rename(columns={\"order_ts\": \"amount\"})"
      ]
    },
    {
      "cell_type": "markdown",
      "metadata": {
        "id": "IqxVubiW5Kw9"
      },
      "source": [
        "## Отбор кандидатов"
      ]
    },
    {
      "cell_type": "markdown",
      "metadata": {
        "id": "r5zefvFp7jXO"
      },
      "source": [
        "Соберём csr-матрицу по lmf_train с помощью класса lightfm Dataset."
      ]
    },
    {
      "cell_type": "code",
      "execution_count": null,
      "metadata": {
        "id": "ksq6FYuQ6NZG",
        "colab": {
          "base_uri": "https://localhost:8080/"
        },
        "outputId": "703e5715-e13e-4ad3-f225-1b15e15e01a4"
      },
      "outputs": [
        {
          "output_type": "execute_result",
          "data": {
            "text/plain": [
              "0"
            ]
          },
          "metadata": {},
          "execution_count": 10
        }
      ],
      "source": [
        "dataset = Dataset()\n",
        "dataset.fit(lfm_train[\"user_id\"].unique(), lfm_train[\"item_id\"].unique())\n",
        "\n",
        "interactions_matrix, weights_matrix = dataset.build_interactions(zip(*lfm_train[[\"user_id\", \"item_id\", \"amount\"]].values.T))\n",
        "weights_matrix_csr = weights_matrix.tocsr()\n",
        "\n",
        "del weights_matrix\n",
        "\n",
        "lightfm_mapping = dataset.mapping()\n",
        "lightfm_mapping = {\"users_mapping\": lightfm_mapping[0],\n",
        "                   \"items_mapping\": lightfm_mapping[2]}\n",
        "\n",
        "lightfm_mapping[\"users_inv_mapping\"] = {v: k for k, v in lightfm_mapping[\"users_mapping\"].items()}\n",
        "lightfm_mapping[\"items_inv_mapping\"] = {v: k for k, v in lightfm_mapping[\"items_mapping\"].items()}\n",
        "\n",
        "del dataset, interactions_matrix\n",
        "\n",
        "gc.collect()"
      ]
    },
    {
      "cell_type": "markdown",
      "source": [
        "Обучим 2 модели - k-OS WARP и LMF."
      ],
      "metadata": {
        "id": "_TCVpv9NLYAq"
      }
    },
    {
      "cell_type": "code",
      "execution_count": null,
      "metadata": {
        "colab": {
          "base_uri": "https://localhost:8080/"
        },
        "id": "mLtf-lw86Uv_",
        "outputId": "733ea105-7261-42c4-a536-e3b6d7436776"
      },
      "outputs": [
        {
          "output_type": "stream",
          "name": "stderr",
          "text": [
            "100%|██████████| 20/20 [13:52<00:00, 41.63s/it]\n"
          ]
        }
      ],
      "source": [
        "model_warp_kos = LightFM(\n",
        "    no_components=30,\n",
        "    k=3,\n",
        "    n=11,\n",
        "    learning_schedule=\"adagrad\",\n",
        "    loss=\"warp-kos\",\n",
        "    learning_rate=0.027,\n",
        "    item_alpha=0.00001,\n",
        "    user_alpha=0.00014,\n",
        "    max_sampled=42\n",
        ")\n",
        "\n",
        "num_epochs = 20\n",
        "for _ in tqdm(range(num_epochs)):\n",
        "    model_warp_kos.fit_partial(weights_matrix_csr)"
      ]
    },
    {
      "cell_type": "code",
      "source": [
        "model_lmf = LightFM(\n",
        "    no_components=30,\n",
        "    learning_schedule=\"adagrad\",\n",
        "    loss=\"logistic\",\n",
        "    learning_rate=0.019,\n",
        "    item_alpha=0.0001,\n",
        "    user_alpha=0.00001\n",
        ")\n",
        "\n",
        "num_epochs = 20\n",
        "for _ in tqdm(range(num_epochs)):\n",
        "    model_lmf.fit_partial(weights_matrix_csr)"
      ],
      "metadata": {
        "colab": {
          "base_uri": "https://localhost:8080/"
        },
        "id": "x_Mn2FI3EjKE",
        "outputId": "c399236b-ed53-4fd4-f085-6522cf18b9f6"
      },
      "execution_count": null,
      "outputs": [
        {
          "output_type": "stream",
          "name": "stderr",
          "text": [
            "100%|██████████| 20/20 [04:35<00:00, 13.79s/it]\n"
          ]
        }
      ]
    },
    {
      "cell_type": "markdown",
      "metadata": {
        "id": "jnZgThHVEph-"
      },
      "source": [
        "Из обученной модели возьмём кандидаты и их ранги."
      ]
    },
    {
      "cell_type": "code",
      "execution_count": null,
      "metadata": {
        "id": "Bkrj0zvnEVIW"
      },
      "outputs": [],
      "source": [
        "def generate_lightfm_recs_mapper(model, item_ids, known_items, user_features, item_features, N, user_mapping, item_inv_mapping, num_threads=4):\n",
        "  def _recs_mapper(user):\n",
        "    user_id = user_mapping[user]\n",
        "    recs = model.predict(user_id, item_ids, user_features=user_features, item_features=item_features, num_threads=num_threads)\n",
        "\n",
        "    additional_N = len(known_items[user_id]) if user_id in known_items else 0\n",
        "    total_N = N + additional_N\n",
        "    top_cols = np.argpartition(recs, -np.arange(total_N))[-total_N:][::-1]\n",
        "\n",
        "    final_recs = [item_inv_mapping[item] for item in top_cols]\n",
        "    if additional_N > 0:\n",
        "        filter_items = known_items[user_id]\n",
        "        final_recs = [item for item in final_recs if item not in filter_items]\n",
        "    return final_recs[:N]\n",
        "  return _recs_mapper"
      ]
    },
    {
      "cell_type": "code",
      "execution_count": null,
      "metadata": {
        "id": "KB8W8rZ1GE32"
      },
      "outputs": [],
      "source": [
        "top_N = 30\n",
        "\n",
        "all_cols = list(lightfm_mapping[\"items_mapping\"].values())\n",
        "\n",
        "mapper = generate_lightfm_recs_mapper(\n",
        "    model_warp_kos,\n",
        "    item_ids=all_cols,\n",
        "    known_items=dict(),\n",
        "    N=top_N,\n",
        "    user_features=None,\n",
        "    item_features=None,\n",
        "    user_mapping=lightfm_mapping[\"users_mapping\"],\n",
        "    item_inv_mapping=lightfm_mapping[\"items_inv_mapping\"],\n",
        "    num_threads=20\n",
        ")\n",
        "\n",
        "candidates = pd.DataFrame({\"user_id\": lfm_pred[\"user_id\"].unique()})\n",
        "candidates[\"item_id\"] = candidates[\"user_id\"].map(mapper) # 30 минут\n",
        "candidates = candidates.explode(\"item_id\")\n",
        "candidates[\"rank_warp_kos\"] = candidates.groupby(\"user_id\").cumcount() + 1"
      ]
    },
    {
      "cell_type": "code",
      "execution_count": null,
      "metadata": {
        "id": "osHWgkVxMNlk"
      },
      "outputs": [],
      "source": [
        "mapper = generate_lightfm_recs_mapper(\n",
        "    model_lmf,\n",
        "    item_ids=all_cols,\n",
        "    known_items=dict(),\n",
        "    N=top_N,\n",
        "    user_features=None,\n",
        "    item_features=None,\n",
        "    user_mapping=lightfm_mapping[\"users_mapping\"],\n",
        "    item_inv_mapping=lightfm_mapping[\"items_inv_mapping\"],\n",
        "    num_threads=20\n",
        ")\n",
        "\n",
        "candidates_lmf = pd.DataFrame({\"user_id\": lfm_pred[\"user_id\"].unique()})\n",
        "candidates_lmf[\"item_id\"] = candidates_lmf[\"user_id\"].map(mapper) # 30 минут\n",
        "candidates_lmf = candidates_lmf.explode(\"item_id\")\n",
        "candidates_lmf[\"rank_lmf\"] = candidates_lmf.groupby(\"user_id\").cumcount() + 1"
      ]
    },
    {
      "cell_type": "markdown",
      "source": [
        "Это означает, что lmf рекомендует в одни и те же товары."
      ],
      "metadata": {
        "id": "Cq551la8u0Fi"
      }
    },
    {
      "cell_type": "code",
      "source": [
        "candidates.user_id.nunique(), candidates.item_id.nunique()"
      ],
      "metadata": {
        "colab": {
          "base_uri": "https://localhost:8080/"
        },
        "id": "t82eOWQXuhub",
        "outputId": "36489712-370a-4ca7-e33b-7786ff57c825"
      },
      "execution_count": null,
      "outputs": [
        {
          "output_type": "execute_result",
          "data": {
            "text/plain": [
              "(573043, 419)"
            ]
          },
          "metadata": {},
          "execution_count": 17
        }
      ]
    },
    {
      "cell_type": "code",
      "source": [
        "candidates = pd.merge(candidates, candidates_lmf, on=[\"user_id\", \"item_id\"], how=\"outer\")\n",
        "del candidates_lmf\n",
        "\n",
        "gc.collect()"
      ],
      "metadata": {
        "id": "R2TK-4Pj_upz",
        "colab": {
          "base_uri": "https://localhost:8080/"
        },
        "outputId": "8fcae0f1-6952-45c9-ace0-25a395e8544f"
      },
      "execution_count": null,
      "outputs": [
        {
          "output_type": "stream",
          "name": "stderr",
          "text": [
            "<ipython-input-16-c6ae1a27a540>:3: FutureWarning: In a future version, the Index constructor will not infer numeric dtypes when passed object-dtype sequences (matching Series behavior)\n",
            "  candidates = pd.merge(candidates, candidates_lmf, on=[\"user_id\", \"item_id\"], how=\"outer\")\n"
          ]
        },
        {
          "output_type": "execute_result",
          "data": {
            "text/plain": [
              "0"
            ]
          },
          "metadata": {},
          "execution_count": 16
        }
      ]
    },
    {
      "cell_type": "code",
      "source": [
        "candidates.item_id.nunique()"
      ],
      "metadata": {
        "colab": {
          "base_uri": "https://localhost:8080/"
        },
        "id": "XVVucE1HwGBj",
        "outputId": "fbc31de7-b923-49ab-c119-c68ced576bea"
      },
      "execution_count": null,
      "outputs": [
        {
          "output_type": "execute_result",
          "data": {
            "text/plain": [
              "419"
            ]
          },
          "metadata": {},
          "execution_count": 15
        }
      ]
    },
    {
      "cell_type": "markdown",
      "source": [
        "Товары из warp_kos содержат все товары из lmf"
      ],
      "metadata": {
        "id": "vuU0iLAVwiU0"
      }
    },
    {
      "cell_type": "code",
      "source": [
        "candidates.head()"
      ],
      "metadata": {
        "colab": {
          "base_uri": "https://localhost:8080/",
          "height": 206
        },
        "id": "DkwZ2PI79roE",
        "outputId": "cc800197-ecc1-47d1-94f5-5a9c71b2b785"
      },
      "execution_count": null,
      "outputs": [
        {
          "output_type": "execute_result",
          "data": {
            "text/plain": [
              "   user_id  item_id  rank_warp_kos  rank_lmf\n",
              "0        2      390            1.0       1.0\n",
              "1        2      192            2.0       2.0\n",
              "2        2      133            3.0       4.0\n",
              "3        2      357            4.0       3.0\n",
              "4        2      212            5.0       8.0"
            ],
            "text/html": [
              "\n",
              "\n",
              "  <div id=\"df-11c37cd7-ecc5-456f-905d-355115d07510\">\n",
              "    <div class=\"colab-df-container\">\n",
              "      <div>\n",
              "<style scoped>\n",
              "    .dataframe tbody tr th:only-of-type {\n",
              "        vertical-align: middle;\n",
              "    }\n",
              "\n",
              "    .dataframe tbody tr th {\n",
              "        vertical-align: top;\n",
              "    }\n",
              "\n",
              "    .dataframe thead th {\n",
              "        text-align: right;\n",
              "    }\n",
              "</style>\n",
              "<table border=\"1\" class=\"dataframe\">\n",
              "  <thead>\n",
              "    <tr style=\"text-align: right;\">\n",
              "      <th></th>\n",
              "      <th>user_id</th>\n",
              "      <th>item_id</th>\n",
              "      <th>rank_warp_kos</th>\n",
              "      <th>rank_lmf</th>\n",
              "    </tr>\n",
              "  </thead>\n",
              "  <tbody>\n",
              "    <tr>\n",
              "      <th>0</th>\n",
              "      <td>2</td>\n",
              "      <td>390</td>\n",
              "      <td>1.0</td>\n",
              "      <td>1.0</td>\n",
              "    </tr>\n",
              "    <tr>\n",
              "      <th>1</th>\n",
              "      <td>2</td>\n",
              "      <td>192</td>\n",
              "      <td>2.0</td>\n",
              "      <td>2.0</td>\n",
              "    </tr>\n",
              "    <tr>\n",
              "      <th>2</th>\n",
              "      <td>2</td>\n",
              "      <td>133</td>\n",
              "      <td>3.0</td>\n",
              "      <td>4.0</td>\n",
              "    </tr>\n",
              "    <tr>\n",
              "      <th>3</th>\n",
              "      <td>2</td>\n",
              "      <td>357</td>\n",
              "      <td>4.0</td>\n",
              "      <td>3.0</td>\n",
              "    </tr>\n",
              "    <tr>\n",
              "      <th>4</th>\n",
              "      <td>2</td>\n",
              "      <td>212</td>\n",
              "      <td>5.0</td>\n",
              "      <td>8.0</td>\n",
              "    </tr>\n",
              "  </tbody>\n",
              "</table>\n",
              "</div>\n",
              "      <button class=\"colab-df-convert\" onclick=\"convertToInteractive('df-11c37cd7-ecc5-456f-905d-355115d07510')\"\n",
              "              title=\"Convert this dataframe to an interactive table.\"\n",
              "              style=\"display:none;\">\n",
              "\n",
              "  <svg xmlns=\"http://www.w3.org/2000/svg\" height=\"24px\"viewBox=\"0 0 24 24\"\n",
              "       width=\"24px\">\n",
              "    <path d=\"M0 0h24v24H0V0z\" fill=\"none\"/>\n",
              "    <path d=\"M18.56 5.44l.94 2.06.94-2.06 2.06-.94-2.06-.94-.94-2.06-.94 2.06-2.06.94zm-11 1L8.5 8.5l.94-2.06 2.06-.94-2.06-.94L8.5 2.5l-.94 2.06-2.06.94zm10 10l.94 2.06.94-2.06 2.06-.94-2.06-.94-.94-2.06-.94 2.06-2.06.94z\"/><path d=\"M17.41 7.96l-1.37-1.37c-.4-.4-.92-.59-1.43-.59-.52 0-1.04.2-1.43.59L10.3 9.45l-7.72 7.72c-.78.78-.78 2.05 0 2.83L4 21.41c.39.39.9.59 1.41.59.51 0 1.02-.2 1.41-.59l7.78-7.78 2.81-2.81c.8-.78.8-2.07 0-2.86zM5.41 20L4 18.59l7.72-7.72 1.47 1.35L5.41 20z\"/>\n",
              "  </svg>\n",
              "      </button>\n",
              "\n",
              "\n",
              "\n",
              "    <div id=\"df-20417252-59fc-45b6-9434-03dabc5f5f1f\">\n",
              "      <button class=\"colab-df-quickchart\" onclick=\"quickchart('df-20417252-59fc-45b6-9434-03dabc5f5f1f')\"\n",
              "              title=\"Suggest charts.\"\n",
              "              style=\"display:none;\">\n",
              "\n",
              "<svg xmlns=\"http://www.w3.org/2000/svg\" height=\"24px\"viewBox=\"0 0 24 24\"\n",
              "     width=\"24px\">\n",
              "    <g>\n",
              "        <path d=\"M19 3H5c-1.1 0-2 .9-2 2v14c0 1.1.9 2 2 2h14c1.1 0 2-.9 2-2V5c0-1.1-.9-2-2-2zM9 17H7v-7h2v7zm4 0h-2V7h2v10zm4 0h-2v-4h2v4z\"/>\n",
              "    </g>\n",
              "</svg>\n",
              "      </button>\n",
              "    </div>\n",
              "\n",
              "<style>\n",
              "  .colab-df-quickchart {\n",
              "    background-color: #E8F0FE;\n",
              "    border: none;\n",
              "    border-radius: 50%;\n",
              "    cursor: pointer;\n",
              "    display: none;\n",
              "    fill: #1967D2;\n",
              "    height: 32px;\n",
              "    padding: 0 0 0 0;\n",
              "    width: 32px;\n",
              "  }\n",
              "\n",
              "  .colab-df-quickchart:hover {\n",
              "    background-color: #E2EBFA;\n",
              "    box-shadow: 0px 1px 2px rgba(60, 64, 67, 0.3), 0px 1px 3px 1px rgba(60, 64, 67, 0.15);\n",
              "    fill: #174EA6;\n",
              "  }\n",
              "\n",
              "  [theme=dark] .colab-df-quickchart {\n",
              "    background-color: #3B4455;\n",
              "    fill: #D2E3FC;\n",
              "  }\n",
              "\n",
              "  [theme=dark] .colab-df-quickchart:hover {\n",
              "    background-color: #434B5C;\n",
              "    box-shadow: 0px 1px 3px 1px rgba(0, 0, 0, 0.15);\n",
              "    filter: drop-shadow(0px 1px 2px rgba(0, 0, 0, 0.3));\n",
              "    fill: #FFFFFF;\n",
              "  }\n",
              "</style>\n",
              "\n",
              "    <script>\n",
              "      async function quickchart(key) {\n",
              "        const containerElement = document.querySelector('#' + key);\n",
              "        const charts = await google.colab.kernel.invokeFunction(\n",
              "            'suggestCharts', [key], {});\n",
              "      }\n",
              "    </script>\n",
              "\n",
              "      <script>\n",
              "\n",
              "function displayQuickchartButton(domScope) {\n",
              "  let quickchartButtonEl =\n",
              "    domScope.querySelector('#df-20417252-59fc-45b6-9434-03dabc5f5f1f button.colab-df-quickchart');\n",
              "  quickchartButtonEl.style.display =\n",
              "    google.colab.kernel.accessAllowed ? 'block' : 'none';\n",
              "}\n",
              "\n",
              "        displayQuickchartButton(document);\n",
              "      </script>\n",
              "      <style>\n",
              "    .colab-df-container {\n",
              "      display:flex;\n",
              "      flex-wrap:wrap;\n",
              "      gap: 12px;\n",
              "    }\n",
              "\n",
              "    .colab-df-convert {\n",
              "      background-color: #E8F0FE;\n",
              "      border: none;\n",
              "      border-radius: 50%;\n",
              "      cursor: pointer;\n",
              "      display: none;\n",
              "      fill: #1967D2;\n",
              "      height: 32px;\n",
              "      padding: 0 0 0 0;\n",
              "      width: 32px;\n",
              "    }\n",
              "\n",
              "    .colab-df-convert:hover {\n",
              "      background-color: #E2EBFA;\n",
              "      box-shadow: 0px 1px 2px rgba(60, 64, 67, 0.3), 0px 1px 3px 1px rgba(60, 64, 67, 0.15);\n",
              "      fill: #174EA6;\n",
              "    }\n",
              "\n",
              "    [theme=dark] .colab-df-convert {\n",
              "      background-color: #3B4455;\n",
              "      fill: #D2E3FC;\n",
              "    }\n",
              "\n",
              "    [theme=dark] .colab-df-convert:hover {\n",
              "      background-color: #434B5C;\n",
              "      box-shadow: 0px 1px 3px 1px rgba(0, 0, 0, 0.15);\n",
              "      filter: drop-shadow(0px 1px 2px rgba(0, 0, 0, 0.3));\n",
              "      fill: #FFFFFF;\n",
              "    }\n",
              "  </style>\n",
              "\n",
              "      <script>\n",
              "        const buttonEl =\n",
              "          document.querySelector('#df-11c37cd7-ecc5-456f-905d-355115d07510 button.colab-df-convert');\n",
              "        buttonEl.style.display =\n",
              "          google.colab.kernel.accessAllowed ? 'block' : 'none';\n",
              "\n",
              "        async function convertToInteractive(key) {\n",
              "          const element = document.querySelector('#df-11c37cd7-ecc5-456f-905d-355115d07510');\n",
              "          const dataTable =\n",
              "            await google.colab.kernel.invokeFunction('convertToInteractive',\n",
              "                                                     [key], {});\n",
              "          if (!dataTable) return;\n",
              "\n",
              "          const docLinkHtml = 'Like what you see? Visit the ' +\n",
              "            '<a target=\"_blank\" href=https://colab.research.google.com/notebooks/data_table.ipynb>data table notebook</a>'\n",
              "            + ' to learn more about interactive tables.';\n",
              "          element.innerHTML = '';\n",
              "          dataTable['output_type'] = 'display_data';\n",
              "          await google.colab.output.renderOutput(dataTable, element);\n",
              "          const docLink = document.createElement('div');\n",
              "          docLink.innerHTML = docLinkHtml;\n",
              "          element.appendChild(docLink);\n",
              "        }\n",
              "      </script>\n",
              "    </div>\n",
              "  </div>\n"
            ]
          },
          "metadata": {},
          "execution_count": 12
        }
      ]
    },
    {
      "cell_type": "markdown",
      "metadata": {
        "id": "LqMhJImrQVdf"
      },
      "source": [
        "## Ранжирование"
      ]
    },
    {
      "cell_type": "code",
      "execution_count": null,
      "metadata": {
        "id": "PmndVJzlGd12"
      },
      "outputs": [],
      "source": [
        "# Нужно 2 GB иметь в запасе, т.к. в моменте подскакивает RAM и падает обратно\n",
        "pos = candidates.merge(lfm_pred,\n",
        "                       on=[\"user_id\", \"item_id\"],\n",
        "                       how=\"inner\")\n",
        "\n",
        "pos[\"target\"] = 1"
      ]
    },
    {
      "cell_type": "markdown",
      "source": [
        "Возьмём соотношение 1:5."
      ],
      "metadata": {
        "id": "FzXAwBIrL8hi"
      }
    },
    {
      "cell_type": "code",
      "execution_count": null,
      "metadata": {
        "id": "LqgEutE2RJDk"
      },
      "outputs": [],
      "source": [
        "neg = candidates.set_index([\"user_id\", \"item_id\"]) \\\n",
        "        .join(lfm_pred.set_index([\"user_id\", \"item_id\"])) # Подскакивает на 3.41 GB и падает\n",
        "\n",
        "neg = neg.reset_index()\n",
        "neg = neg.sample(frac=0.1)\n",
        "\n",
        "neg[\"target\"] = 0"
      ]
    },
    {
      "cell_type": "code",
      "execution_count": null,
      "metadata": {
        "colab": {
          "base_uri": "https://localhost:8080/"
        },
        "id": "OdrYgcRARaJb",
        "outputId": "c8a329c3-d69f-4acc-e6a2-703089d46c52"
      },
      "outputs": [
        {
          "output_type": "execute_result",
          "data": {
            "text/plain": [
              "0.21484730716363348"
            ]
          },
          "metadata": {},
          "execution_count": 20
        }
      ],
      "source": [
        "len(pos) / len(neg)"
      ]
    },
    {
      "cell_type": "code",
      "execution_count": null,
      "metadata": {
        "colab": {
          "base_uri": "https://localhost:8080/"
        },
        "id": "gCvfxX3yTOFd",
        "outputId": "2626e046-2ad2-471b-a03e-cb2ffe13b58f"
      },
      "outputs": [
        {
          "output_type": "execute_result",
          "data": {
            "text/plain": [
              "(5750853, 6)"
            ]
          },
          "metadata": {},
          "execution_count": 27
        }
      ],
      "source": [
        "neg.shape"
      ]
    },
    {
      "cell_type": "markdown",
      "metadata": {
        "id": "m5MfbD8SUKbG"
      },
      "source": [
        "Соберём датасет для обучения бустинга."
      ]
    },
    {
      "cell_type": "code",
      "execution_count": null,
      "metadata": {
        "id": "A4ZHYzybUOu1"
      },
      "outputs": [],
      "source": [
        "train_users, val_users = train_test_split(lfm_pred[\"user_id\"].unique(),\n",
        "                                          random_state=1,\n",
        "                                          test_size=0.3)"
      ]
    },
    {
      "cell_type": "code",
      "execution_count": null,
      "metadata": {
        "id": "GnB8yYa3VHa-"
      },
      "outputs": [],
      "source": [
        "select_col = [\"user_id\", \"item_id\", \"rank_warp_kos\", \"rank_lmf\", \"target\"]\n",
        "\n",
        "# Catboost train\n",
        "lgbm_train = shuffle(pd.concat([pos[pos[\"user_id\"].isin(train_users)],\n",
        "                                neg[neg[\"user_id\"].isin(train_users)]])[select_col])\n",
        "\n",
        "# for early stopping\n",
        "lgbm_val = shuffle(pd.concat([pos[pos[\"user_id\"].isin(val_users)],\n",
        "                              neg[neg[\"user_id\"].isin(val_users)]])[select_col])"
      ]
    },
    {
      "cell_type": "markdown",
      "source": [
        "Сверим соотношения."
      ],
      "metadata": {
        "id": "WwV6Tx1-MKpB"
      }
    },
    {
      "cell_type": "code",
      "execution_count": null,
      "metadata": {
        "colab": {
          "base_uri": "https://localhost:8080/"
        },
        "id": "oR9tvF-ZV6Nf",
        "outputId": "3a6fb372-8aab-4965-af61-d4bd50ced050"
      },
      "outputs": [
        {
          "output_type": "execute_result",
          "data": {
            "text/plain": [
              "0    0.823121\n",
              "1    0.176879\n",
              "Name: target, dtype: float64"
            ]
          },
          "metadata": {},
          "execution_count": 23
        }
      ],
      "source": [
        "lgbm_train[\"target\"].value_counts(normalize=True)"
      ]
    },
    {
      "cell_type": "code",
      "source": [
        "lgbm_val[\"target\"].value_counts(normalize=True)"
      ],
      "metadata": {
        "colab": {
          "base_uri": "https://localhost:8080/"
        },
        "id": "7QrVYC75cHDW",
        "outputId": "d4d768bc-69b4-4fca-becf-f40d02d866de"
      },
      "execution_count": null,
      "outputs": [
        {
          "output_type": "execute_result",
          "data": {
            "text/plain": [
              "0    0.823214\n",
              "1    0.176786\n",
              "Name: target, dtype: float64"
            ]
          },
          "metadata": {},
          "execution_count": 24
        }
      ]
    },
    {
      "cell_type": "code",
      "source": [
        "def get_query_id(df):\n",
        "  query_map = {}\n",
        "\n",
        "  for query_id, user_id in enumerate(df['user_id'].unique()):\n",
        "    query_map[user_id] = query_id\n",
        "\n",
        "  query_id = df['user_id'].map(query_map)\n",
        "\n",
        "  return query_id"
      ],
      "metadata": {
        "id": "0dTvXiszT3NU"
      },
      "execution_count": null,
      "outputs": []
    },
    {
      "cell_type": "code",
      "source": [
        "lgbm_train[\"query_id\"] = get_query_id(lgbm_train)\n",
        "lgbm_val[\"query_id\"] = get_query_id(lgbm_val)"
      ],
      "metadata": {
        "id": "Hs37a19sV5_l"
      },
      "execution_count": null,
      "outputs": []
    },
    {
      "cell_type": "code",
      "source": [
        "train_group = lgbm_train[\"query_id\"].value_counts().sort_index().values\n",
        "val_group = lgbm_val[\"query_id\"].value_counts().sort_index().values"
      ],
      "metadata": {
        "id": "4EtBTnwZUBcB"
      },
      "execution_count": null,
      "outputs": []
    },
    {
      "cell_type": "code",
      "source": [
        "del lgbm_train[\"query_id\"]\n",
        "del lgbm_val[\"query_id\"]\n",
        "\n",
        "gc.collect()"
      ],
      "metadata": {
        "colab": {
          "base_uri": "https://localhost:8080/"
        },
        "id": "uOjsJn8iWuY3",
        "outputId": "4147773c-8499-4b5d-b8e0-732a233c38d0"
      },
      "execution_count": null,
      "outputs": [
        {
          "output_type": "execute_result",
          "data": {
            "text/plain": [
              "0"
            ]
          },
          "metadata": {},
          "execution_count": 28
        }
      ]
    },
    {
      "cell_type": "code",
      "source": [
        "lgbm_train[\"item_id\"] = lgbm_train[\"item_id\"].astype(np.int64)\n",
        "lgbm_val[\"item_id\"] = lgbm_val[\"item_id\"].astype(np.int64)"
      ],
      "metadata": {
        "id": "0mrPccV4b5b2"
      },
      "execution_count": null,
      "outputs": []
    },
    {
      "cell_type": "code",
      "source": [
        "train_lgbm_dataset = lgbm.Dataset(\n",
        "    data=lgbm_train.drop(columns=\"target\"), label=lgbm_train[\"target\"],\n",
        "    group=train_group\n",
        ")\n",
        "\n",
        "val_lgbm_dataset = lgbm.Dataset(\n",
        "    data=lgbm_val.drop(columns=\"target\"), label=lgbm_val[\"target\"],\n",
        "    group=val_group\n",
        ")"
      ],
      "metadata": {
        "id": "sEHMjfOtXQgU"
      },
      "execution_count": null,
      "outputs": []
    },
    {
      "cell_type": "code",
      "source": [
        "lgbm_train.user_id.nunique()"
      ],
      "metadata": {
        "colab": {
          "base_uri": "https://localhost:8080/"
        },
        "id": "UrkemP6-jTsX",
        "outputId": "622e1e12-cea3-4dd6-bbc9-46f3cc17200a"
      },
      "execution_count": null,
      "outputs": [
        {
          "output_type": "execute_result",
          "data": {
            "text/plain": [
              "398748"
            ]
          },
          "metadata": {},
          "execution_count": 30
        }
      ]
    },
    {
      "cell_type": "markdown",
      "metadata": {
        "id": "X5Xs_2BaYAyI"
      },
      "source": [
        "Обучим бустинг ранжированию."
      ]
    },
    {
      "cell_type": "code",
      "source": [
        "params = {\n",
        "    \"objective\": \"lambdarank\",\n",
        "    \"learning_rate\": 0.1,\n",
        "    # \"max_depth\": -1,\n",
        "    \"first_metric_only\": True,\n",
        "    \"metric\": (\n",
        "        \"lambdarank\", \"map\", \"auc\"\n",
        "    ),\n",
        "    \"eval_at\": (20)\n",
        "}"
      ],
      "metadata": {
        "id": "xyJTYGRwMsCu"
      },
      "execution_count": null,
      "outputs": []
    },
    {
      "cell_type": "code",
      "source": [
        "booster = lgbm.train(\n",
        "    params=params,\n",
        "    train_set=train_lgbm_dataset,\n",
        "    num_boost_round=1000,\n",
        "    valid_sets=[train_lgbm_dataset, val_lgbm_dataset],\n",
        "    early_stopping_rounds=100,\n",
        "    verbose_eval=20\n",
        ")"
      ],
      "metadata": {
        "id": "t4qUvX1eMr_b"
      },
      "execution_count": 2,
      "outputs": []
    },
    {
      "cell_type": "markdown",
      "source": [
        "# Предсказание"
      ],
      "metadata": {
        "id": "tMx8YdN9lLTL"
      }
    },
    {
      "cell_type": "markdown",
      "source": [
        "В датафрейм *prediction* положим юзеров из тестового периода и соберём датасет, в который включим ранги от моделей первого этапа."
      ],
      "metadata": {
        "id": "HDrUQ25x9YxV"
      }
    },
    {
      "cell_type": "code",
      "source": [
        "top_N = 30\n",
        "prediction = pd.DataFrame({\"user_id\": test[\"user_id\"].unique()})\n",
        "prediction = prediction[prediction[\"user_id\"].isin(lfm_train[\"user_id\"].unique())]\n",
        "known_items = lfm_train.groupby(\"user_id\")[\"item_id\"].apply(list).to_dict()\n",
        "\n",
        "mapper = generate_lightfm_recs_mapper(\n",
        "    model_warp_kos,\n",
        "    item_ids=all_cols,\n",
        "    known_items=known_items,\n",
        "    N=top_N,\n",
        "    user_features=None,\n",
        "    item_features=None,\n",
        "    user_mapping=lightfm_mapping[\"users_mapping\"],\n",
        "    item_inv_mapping=lightfm_mapping[\"items_inv_mapping\"],\n",
        "    num_threads=20\n",
        ")\n",
        "\n",
        "prediction[\"item_id\"] = prediction[\"user_id\"].map(mapper)\n",
        "prediction = prediction.explode(\"item_id\").reset_index(drop=True)\n",
        "prediction[\"rank_warp_kos\"] = prediction.groupby(\"user_id\").cumcount() + 1"
      ],
      "metadata": {
        "id": "-p0Wh5bwjvZK"
      },
      "execution_count": null,
      "outputs": []
    },
    {
      "cell_type": "code",
      "source": [
        "del model_warp_kos\n",
        "\n",
        "gc.collect()"
      ],
      "metadata": {
        "colab": {
          "base_uri": "https://localhost:8080/"
        },
        "id": "G8I6V6_us1dK",
        "outputId": "f4c689ce-9c77-4515-ebbe-c1f05622626a"
      },
      "execution_count": null,
      "outputs": [
        {
          "output_type": "execute_result",
          "data": {
            "text/plain": [
              "0"
            ]
          },
          "metadata": {},
          "execution_count": 34
        }
      ]
    },
    {
      "cell_type": "code",
      "source": [
        "mapper = generate_lightfm_recs_mapper(\n",
        "    model_lmf,\n",
        "    item_ids=all_cols,\n",
        "    known_items=known_items,\n",
        "    N=top_N,\n",
        "    user_features=None,\n",
        "    item_features=None,\n",
        "    user_mapping=lightfm_mapping[\"users_mapping\"],\n",
        "    item_inv_mapping=lightfm_mapping[\"items_inv_mapping\"],\n",
        "    num_threads=20\n",
        ")\n",
        "\n",
        "prediction_lmf = pd.DataFrame({\"user_id\": lfm_pred[\"user_id\"].unique()})\n",
        "prediction_lmf = prediction_lmf[prediction_lmf[\"user_id\"].isin(lfm_train[\"user_id\"].unique())]\n",
        "prediction_lmf[\"item_id\"] = prediction_lmf[\"user_id\"].map(mapper) # 30 минут\n",
        "prediction_lmf = prediction_lmf.explode(\"item_id\")\n",
        "prediction_lmf[\"rank_lmf\"] = prediction_lmf.groupby(\"user_id\").cumcount() + 1"
      ],
      "metadata": {
        "id": "XB01h9dzFYcx"
      },
      "execution_count": null,
      "outputs": []
    },
    {
      "cell_type": "code",
      "source": [
        "del model_lmf\n",
        "del candidates\n",
        "\n",
        "gc.collect()"
      ],
      "metadata": {
        "colab": {
          "base_uri": "https://localhost:8080/"
        },
        "id": "8m9qPtUw0sNh",
        "outputId": "e698d4e4-5cdb-43a5-b5cb-5b5a5a190145"
      },
      "execution_count": null,
      "outputs": [
        {
          "output_type": "execute_result",
          "data": {
            "text/plain": [
              "0"
            ]
          },
          "metadata": {},
          "execution_count": 37
        }
      ]
    },
    {
      "cell_type": "code",
      "source": [
        "prediction = pd.merge(prediction, prediction_lmf, on=[\"user_id\", \"item_id\"], how=\"outer\")\n",
        "del prediction_lmf\n",
        "\n",
        "gc.collect()"
      ],
      "metadata": {
        "colab": {
          "base_uri": "https://localhost:8080/"
        },
        "id": "6feLw2JAmDtU",
        "outputId": "de2dfc66-876b-42d0-b686-b50f26258afb"
      },
      "execution_count": null,
      "outputs": [
        {
          "output_type": "stream",
          "name": "stderr",
          "text": [
            "<ipython-input-39-a2f428329912>:1: FutureWarning: In a future version, the Index constructor will not infer numeric dtypes when passed object-dtype sequences (matching Series behavior)\n",
            "  prediction = pd.merge(prediction, prediction_lmf, on=[\"user_id\", \"item_id\"], how=\"outer\")\n"
          ]
        },
        {
          "output_type": "execute_result",
          "data": {
            "text/plain": [
              "0"
            ]
          },
          "metadata": {},
          "execution_count": 39
        }
      ]
    },
    {
      "cell_type": "code",
      "source": [
        "prediction[\"item_id\"] = prediction[\"item_id\"].astype(np.int64)"
      ],
      "metadata": {
        "id": "IU-mjYdogL3G"
      },
      "execution_count": null,
      "outputs": []
    },
    {
      "cell_type": "code",
      "source": [
        "prediction.head()"
      ],
      "metadata": {
        "colab": {
          "base_uri": "https://localhost:8080/",
          "height": 206
        },
        "id": "pJ-lhT6XfflK",
        "outputId": "de153c94-36fc-4771-8443-5ae017a3ab9f"
      },
      "execution_count": null,
      "outputs": [
        {
          "output_type": "execute_result",
          "data": {
            "text/plain": [
              "   user_id  item_id  rank  rank_lmf\n",
              "0   654067      357   1.0       2.0\n",
              "1   654067      390   2.0       3.0\n",
              "2   654067      133   3.0       6.0\n",
              "3   654067      192   4.0       1.0\n",
              "4   654067      381   5.0       5.0"
            ],
            "text/html": [
              "\n",
              "\n",
              "  <div id=\"df-b2a0ef7a-0a75-4e6e-8fc4-029a8d163410\">\n",
              "    <div class=\"colab-df-container\">\n",
              "      <div>\n",
              "<style scoped>\n",
              "    .dataframe tbody tr th:only-of-type {\n",
              "        vertical-align: middle;\n",
              "    }\n",
              "\n",
              "    .dataframe tbody tr th {\n",
              "        vertical-align: top;\n",
              "    }\n",
              "\n",
              "    .dataframe thead th {\n",
              "        text-align: right;\n",
              "    }\n",
              "</style>\n",
              "<table border=\"1\" class=\"dataframe\">\n",
              "  <thead>\n",
              "    <tr style=\"text-align: right;\">\n",
              "      <th></th>\n",
              "      <th>user_id</th>\n",
              "      <th>item_id</th>\n",
              "      <th>rank</th>\n",
              "      <th>rank_lmf</th>\n",
              "    </tr>\n",
              "  </thead>\n",
              "  <tbody>\n",
              "    <tr>\n",
              "      <th>0</th>\n",
              "      <td>654067</td>\n",
              "      <td>357</td>\n",
              "      <td>1.0</td>\n",
              "      <td>2.0</td>\n",
              "    </tr>\n",
              "    <tr>\n",
              "      <th>1</th>\n",
              "      <td>654067</td>\n",
              "      <td>390</td>\n",
              "      <td>2.0</td>\n",
              "      <td>3.0</td>\n",
              "    </tr>\n",
              "    <tr>\n",
              "      <th>2</th>\n",
              "      <td>654067</td>\n",
              "      <td>133</td>\n",
              "      <td>3.0</td>\n",
              "      <td>6.0</td>\n",
              "    </tr>\n",
              "    <tr>\n",
              "      <th>3</th>\n",
              "      <td>654067</td>\n",
              "      <td>192</td>\n",
              "      <td>4.0</td>\n",
              "      <td>1.0</td>\n",
              "    </tr>\n",
              "    <tr>\n",
              "      <th>4</th>\n",
              "      <td>654067</td>\n",
              "      <td>381</td>\n",
              "      <td>5.0</td>\n",
              "      <td>5.0</td>\n",
              "    </tr>\n",
              "  </tbody>\n",
              "</table>\n",
              "</div>\n",
              "      <button class=\"colab-df-convert\" onclick=\"convertToInteractive('df-b2a0ef7a-0a75-4e6e-8fc4-029a8d163410')\"\n",
              "              title=\"Convert this dataframe to an interactive table.\"\n",
              "              style=\"display:none;\">\n",
              "\n",
              "  <svg xmlns=\"http://www.w3.org/2000/svg\" height=\"24px\"viewBox=\"0 0 24 24\"\n",
              "       width=\"24px\">\n",
              "    <path d=\"M0 0h24v24H0V0z\" fill=\"none\"/>\n",
              "    <path d=\"M18.56 5.44l.94 2.06.94-2.06 2.06-.94-2.06-.94-.94-2.06-.94 2.06-2.06.94zm-11 1L8.5 8.5l.94-2.06 2.06-.94-2.06-.94L8.5 2.5l-.94 2.06-2.06.94zm10 10l.94 2.06.94-2.06 2.06-.94-2.06-.94-.94-2.06-.94 2.06-2.06.94z\"/><path d=\"M17.41 7.96l-1.37-1.37c-.4-.4-.92-.59-1.43-.59-.52 0-1.04.2-1.43.59L10.3 9.45l-7.72 7.72c-.78.78-.78 2.05 0 2.83L4 21.41c.39.39.9.59 1.41.59.51 0 1.02-.2 1.41-.59l7.78-7.78 2.81-2.81c.8-.78.8-2.07 0-2.86zM5.41 20L4 18.59l7.72-7.72 1.47 1.35L5.41 20z\"/>\n",
              "  </svg>\n",
              "      </button>\n",
              "\n",
              "\n",
              "\n",
              "    <div id=\"df-5c740494-b361-467d-b322-a467fe688686\">\n",
              "      <button class=\"colab-df-quickchart\" onclick=\"quickchart('df-5c740494-b361-467d-b322-a467fe688686')\"\n",
              "              title=\"Suggest charts.\"\n",
              "              style=\"display:none;\">\n",
              "\n",
              "<svg xmlns=\"http://www.w3.org/2000/svg\" height=\"24px\"viewBox=\"0 0 24 24\"\n",
              "     width=\"24px\">\n",
              "    <g>\n",
              "        <path d=\"M19 3H5c-1.1 0-2 .9-2 2v14c0 1.1.9 2 2 2h14c1.1 0 2-.9 2-2V5c0-1.1-.9-2-2-2zM9 17H7v-7h2v7zm4 0h-2V7h2v10zm4 0h-2v-4h2v4z\"/>\n",
              "    </g>\n",
              "</svg>\n",
              "      </button>\n",
              "    </div>\n",
              "\n",
              "<style>\n",
              "  .colab-df-quickchart {\n",
              "    background-color: #E8F0FE;\n",
              "    border: none;\n",
              "    border-radius: 50%;\n",
              "    cursor: pointer;\n",
              "    display: none;\n",
              "    fill: #1967D2;\n",
              "    height: 32px;\n",
              "    padding: 0 0 0 0;\n",
              "    width: 32px;\n",
              "  }\n",
              "\n",
              "  .colab-df-quickchart:hover {\n",
              "    background-color: #E2EBFA;\n",
              "    box-shadow: 0px 1px 2px rgba(60, 64, 67, 0.3), 0px 1px 3px 1px rgba(60, 64, 67, 0.15);\n",
              "    fill: #174EA6;\n",
              "  }\n",
              "\n",
              "  [theme=dark] .colab-df-quickchart {\n",
              "    background-color: #3B4455;\n",
              "    fill: #D2E3FC;\n",
              "  }\n",
              "\n",
              "  [theme=dark] .colab-df-quickchart:hover {\n",
              "    background-color: #434B5C;\n",
              "    box-shadow: 0px 1px 3px 1px rgba(0, 0, 0, 0.15);\n",
              "    filter: drop-shadow(0px 1px 2px rgba(0, 0, 0, 0.3));\n",
              "    fill: #FFFFFF;\n",
              "  }\n",
              "</style>\n",
              "\n",
              "    <script>\n",
              "      async function quickchart(key) {\n",
              "        const containerElement = document.querySelector('#' + key);\n",
              "        const charts = await google.colab.kernel.invokeFunction(\n",
              "            'suggestCharts', [key], {});\n",
              "      }\n",
              "    </script>\n",
              "\n",
              "      <script>\n",
              "\n",
              "function displayQuickchartButton(domScope) {\n",
              "  let quickchartButtonEl =\n",
              "    domScope.querySelector('#df-5c740494-b361-467d-b322-a467fe688686 button.colab-df-quickchart');\n",
              "  quickchartButtonEl.style.display =\n",
              "    google.colab.kernel.accessAllowed ? 'block' : 'none';\n",
              "}\n",
              "\n",
              "        displayQuickchartButton(document);\n",
              "      </script>\n",
              "      <style>\n",
              "    .colab-df-container {\n",
              "      display:flex;\n",
              "      flex-wrap:wrap;\n",
              "      gap: 12px;\n",
              "    }\n",
              "\n",
              "    .colab-df-convert {\n",
              "      background-color: #E8F0FE;\n",
              "      border: none;\n",
              "      border-radius: 50%;\n",
              "      cursor: pointer;\n",
              "      display: none;\n",
              "      fill: #1967D2;\n",
              "      height: 32px;\n",
              "      padding: 0 0 0 0;\n",
              "      width: 32px;\n",
              "    }\n",
              "\n",
              "    .colab-df-convert:hover {\n",
              "      background-color: #E2EBFA;\n",
              "      box-shadow: 0px 1px 2px rgba(60, 64, 67, 0.3), 0px 1px 3px 1px rgba(60, 64, 67, 0.15);\n",
              "      fill: #174EA6;\n",
              "    }\n",
              "\n",
              "    [theme=dark] .colab-df-convert {\n",
              "      background-color: #3B4455;\n",
              "      fill: #D2E3FC;\n",
              "    }\n",
              "\n",
              "    [theme=dark] .colab-df-convert:hover {\n",
              "      background-color: #434B5C;\n",
              "      box-shadow: 0px 1px 3px 1px rgba(0, 0, 0, 0.15);\n",
              "      filter: drop-shadow(0px 1px 2px rgba(0, 0, 0, 0.3));\n",
              "      fill: #FFFFFF;\n",
              "    }\n",
              "  </style>\n",
              "\n",
              "      <script>\n",
              "        const buttonEl =\n",
              "          document.querySelector('#df-b2a0ef7a-0a75-4e6e-8fc4-029a8d163410 button.colab-df-convert');\n",
              "        buttonEl.style.display =\n",
              "          google.colab.kernel.accessAllowed ? 'block' : 'none';\n",
              "\n",
              "        async function convertToInteractive(key) {\n",
              "          const element = document.querySelector('#df-b2a0ef7a-0a75-4e6e-8fc4-029a8d163410');\n",
              "          const dataTable =\n",
              "            await google.colab.kernel.invokeFunction('convertToInteractive',\n",
              "                                                     [key], {});\n",
              "          if (!dataTable) return;\n",
              "\n",
              "          const docLinkHtml = 'Like what you see? Visit the ' +\n",
              "            '<a target=\"_blank\" href=https://colab.research.google.com/notebooks/data_table.ipynb>data table notebook</a>'\n",
              "            + ' to learn more about interactive tables.';\n",
              "          element.innerHTML = '';\n",
              "          dataTable['output_type'] = 'display_data';\n",
              "          await google.colab.output.renderOutput(dataTable, element);\n",
              "          const docLink = document.createElement('div');\n",
              "          docLink.innerHTML = docLinkHtml;\n",
              "          element.appendChild(docLink);\n",
              "        }\n",
              "      </script>\n",
              "    </div>\n",
              "  </div>\n"
            ]
          },
          "metadata": {},
          "execution_count": 45
        }
      ]
    },
    {
      "cell_type": "markdown",
      "source": [
        "Получим предсказания бустинга, принимающего в качестве фичей ранги моделей первого этапа."
      ],
      "metadata": {
        "id": "ySnnFfscNOcW"
      }
    },
    {
      "cell_type": "code",
      "source": [
        "lgbm_prediction = booster.predict(prediction)\n",
        "prediction[\"lgbm_pred\"] = lgbm_prediction\n",
        "prediction.head()"
      ],
      "metadata": {
        "colab": {
          "base_uri": "https://localhost:8080/",
          "height": 206
        },
        "id": "0dNwANiELA2Y",
        "outputId": "720593c4-75bd-4a39-b198-9770cbff9c26"
      },
      "execution_count": null,
      "outputs": [
        {
          "output_type": "execute_result",
          "data": {
            "text/plain": [
              "   user_id  item_id  rank  rank_lmf  lgbm_pred\n",
              "0   654067      357   1.0       2.0   0.754260\n",
              "1   654067      390   2.0       3.0   0.549938\n",
              "2   654067      133   3.0       6.0   0.218230\n",
              "3   654067      192   4.0       1.0   0.437454\n",
              "4   654067      381   5.0       5.0   0.403778"
            ],
            "text/html": [
              "\n",
              "\n",
              "  <div id=\"df-5d0fb480-217f-4bf8-afe4-9fd7419812cf\">\n",
              "    <div class=\"colab-df-container\">\n",
              "      <div>\n",
              "<style scoped>\n",
              "    .dataframe tbody tr th:only-of-type {\n",
              "        vertical-align: middle;\n",
              "    }\n",
              "\n",
              "    .dataframe tbody tr th {\n",
              "        vertical-align: top;\n",
              "    }\n",
              "\n",
              "    .dataframe thead th {\n",
              "        text-align: right;\n",
              "    }\n",
              "</style>\n",
              "<table border=\"1\" class=\"dataframe\">\n",
              "  <thead>\n",
              "    <tr style=\"text-align: right;\">\n",
              "      <th></th>\n",
              "      <th>user_id</th>\n",
              "      <th>item_id</th>\n",
              "      <th>rank</th>\n",
              "      <th>rank_lmf</th>\n",
              "      <th>lgbm_pred</th>\n",
              "    </tr>\n",
              "  </thead>\n",
              "  <tbody>\n",
              "    <tr>\n",
              "      <th>0</th>\n",
              "      <td>654067</td>\n",
              "      <td>357</td>\n",
              "      <td>1.0</td>\n",
              "      <td>2.0</td>\n",
              "      <td>0.754260</td>\n",
              "    </tr>\n",
              "    <tr>\n",
              "      <th>1</th>\n",
              "      <td>654067</td>\n",
              "      <td>390</td>\n",
              "      <td>2.0</td>\n",
              "      <td>3.0</td>\n",
              "      <td>0.549938</td>\n",
              "    </tr>\n",
              "    <tr>\n",
              "      <th>2</th>\n",
              "      <td>654067</td>\n",
              "      <td>133</td>\n",
              "      <td>3.0</td>\n",
              "      <td>6.0</td>\n",
              "      <td>0.218230</td>\n",
              "    </tr>\n",
              "    <tr>\n",
              "      <th>3</th>\n",
              "      <td>654067</td>\n",
              "      <td>192</td>\n",
              "      <td>4.0</td>\n",
              "      <td>1.0</td>\n",
              "      <td>0.437454</td>\n",
              "    </tr>\n",
              "    <tr>\n",
              "      <th>4</th>\n",
              "      <td>654067</td>\n",
              "      <td>381</td>\n",
              "      <td>5.0</td>\n",
              "      <td>5.0</td>\n",
              "      <td>0.403778</td>\n",
              "    </tr>\n",
              "  </tbody>\n",
              "</table>\n",
              "</div>\n",
              "      <button class=\"colab-df-convert\" onclick=\"convertToInteractive('df-5d0fb480-217f-4bf8-afe4-9fd7419812cf')\"\n",
              "              title=\"Convert this dataframe to an interactive table.\"\n",
              "              style=\"display:none;\">\n",
              "\n",
              "  <svg xmlns=\"http://www.w3.org/2000/svg\" height=\"24px\"viewBox=\"0 0 24 24\"\n",
              "       width=\"24px\">\n",
              "    <path d=\"M0 0h24v24H0V0z\" fill=\"none\"/>\n",
              "    <path d=\"M18.56 5.44l.94 2.06.94-2.06 2.06-.94-2.06-.94-.94-2.06-.94 2.06-2.06.94zm-11 1L8.5 8.5l.94-2.06 2.06-.94-2.06-.94L8.5 2.5l-.94 2.06-2.06.94zm10 10l.94 2.06.94-2.06 2.06-.94-2.06-.94-.94-2.06-.94 2.06-2.06.94z\"/><path d=\"M17.41 7.96l-1.37-1.37c-.4-.4-.92-.59-1.43-.59-.52 0-1.04.2-1.43.59L10.3 9.45l-7.72 7.72c-.78.78-.78 2.05 0 2.83L4 21.41c.39.39.9.59 1.41.59.51 0 1.02-.2 1.41-.59l7.78-7.78 2.81-2.81c.8-.78.8-2.07 0-2.86zM5.41 20L4 18.59l7.72-7.72 1.47 1.35L5.41 20z\"/>\n",
              "  </svg>\n",
              "      </button>\n",
              "\n",
              "\n",
              "\n",
              "    <div id=\"df-b36e678e-bcfe-4ae3-b83f-a6f340b9fca2\">\n",
              "      <button class=\"colab-df-quickchart\" onclick=\"quickchart('df-b36e678e-bcfe-4ae3-b83f-a6f340b9fca2')\"\n",
              "              title=\"Suggest charts.\"\n",
              "              style=\"display:none;\">\n",
              "\n",
              "<svg xmlns=\"http://www.w3.org/2000/svg\" height=\"24px\"viewBox=\"0 0 24 24\"\n",
              "     width=\"24px\">\n",
              "    <g>\n",
              "        <path d=\"M19 3H5c-1.1 0-2 .9-2 2v14c0 1.1.9 2 2 2h14c1.1 0 2-.9 2-2V5c0-1.1-.9-2-2-2zM9 17H7v-7h2v7zm4 0h-2V7h2v10zm4 0h-2v-4h2v4z\"/>\n",
              "    </g>\n",
              "</svg>\n",
              "      </button>\n",
              "    </div>\n",
              "\n",
              "<style>\n",
              "  .colab-df-quickchart {\n",
              "    background-color: #E8F0FE;\n",
              "    border: none;\n",
              "    border-radius: 50%;\n",
              "    cursor: pointer;\n",
              "    display: none;\n",
              "    fill: #1967D2;\n",
              "    height: 32px;\n",
              "    padding: 0 0 0 0;\n",
              "    width: 32px;\n",
              "  }\n",
              "\n",
              "  .colab-df-quickchart:hover {\n",
              "    background-color: #E2EBFA;\n",
              "    box-shadow: 0px 1px 2px rgba(60, 64, 67, 0.3), 0px 1px 3px 1px rgba(60, 64, 67, 0.15);\n",
              "    fill: #174EA6;\n",
              "  }\n",
              "\n",
              "  [theme=dark] .colab-df-quickchart {\n",
              "    background-color: #3B4455;\n",
              "    fill: #D2E3FC;\n",
              "  }\n",
              "\n",
              "  [theme=dark] .colab-df-quickchart:hover {\n",
              "    background-color: #434B5C;\n",
              "    box-shadow: 0px 1px 3px 1px rgba(0, 0, 0, 0.15);\n",
              "    filter: drop-shadow(0px 1px 2px rgba(0, 0, 0, 0.3));\n",
              "    fill: #FFFFFF;\n",
              "  }\n",
              "</style>\n",
              "\n",
              "    <script>\n",
              "      async function quickchart(key) {\n",
              "        const containerElement = document.querySelector('#' + key);\n",
              "        const charts = await google.colab.kernel.invokeFunction(\n",
              "            'suggestCharts', [key], {});\n",
              "      }\n",
              "    </script>\n",
              "\n",
              "      <script>\n",
              "\n",
              "function displayQuickchartButton(domScope) {\n",
              "  let quickchartButtonEl =\n",
              "    domScope.querySelector('#df-b36e678e-bcfe-4ae3-b83f-a6f340b9fca2 button.colab-df-quickchart');\n",
              "  quickchartButtonEl.style.display =\n",
              "    google.colab.kernel.accessAllowed ? 'block' : 'none';\n",
              "}\n",
              "\n",
              "        displayQuickchartButton(document);\n",
              "      </script>\n",
              "      <style>\n",
              "    .colab-df-container {\n",
              "      display:flex;\n",
              "      flex-wrap:wrap;\n",
              "      gap: 12px;\n",
              "    }\n",
              "\n",
              "    .colab-df-convert {\n",
              "      background-color: #E8F0FE;\n",
              "      border: none;\n",
              "      border-radius: 50%;\n",
              "      cursor: pointer;\n",
              "      display: none;\n",
              "      fill: #1967D2;\n",
              "      height: 32px;\n",
              "      padding: 0 0 0 0;\n",
              "      width: 32px;\n",
              "    }\n",
              "\n",
              "    .colab-df-convert:hover {\n",
              "      background-color: #E2EBFA;\n",
              "      box-shadow: 0px 1px 2px rgba(60, 64, 67, 0.3), 0px 1px 3px 1px rgba(60, 64, 67, 0.15);\n",
              "      fill: #174EA6;\n",
              "    }\n",
              "\n",
              "    [theme=dark] .colab-df-convert {\n",
              "      background-color: #3B4455;\n",
              "      fill: #D2E3FC;\n",
              "    }\n",
              "\n",
              "    [theme=dark] .colab-df-convert:hover {\n",
              "      background-color: #434B5C;\n",
              "      box-shadow: 0px 1px 3px 1px rgba(0, 0, 0, 0.15);\n",
              "      filter: drop-shadow(0px 1px 2px rgba(0, 0, 0, 0.3));\n",
              "      fill: #FFFFFF;\n",
              "    }\n",
              "  </style>\n",
              "\n",
              "      <script>\n",
              "        const buttonEl =\n",
              "          document.querySelector('#df-5d0fb480-217f-4bf8-afe4-9fd7419812cf button.colab-df-convert');\n",
              "        buttonEl.style.display =\n",
              "          google.colab.kernel.accessAllowed ? 'block' : 'none';\n",
              "\n",
              "        async function convertToInteractive(key) {\n",
              "          const element = document.querySelector('#df-5d0fb480-217f-4bf8-afe4-9fd7419812cf');\n",
              "          const dataTable =\n",
              "            await google.colab.kernel.invokeFunction('convertToInteractive',\n",
              "                                                     [key], {});\n",
              "          if (!dataTable) return;\n",
              "\n",
              "          const docLinkHtml = 'Like what you see? Visit the ' +\n",
              "            '<a target=\"_blank\" href=https://colab.research.google.com/notebooks/data_table.ipynb>data table notebook</a>'\n",
              "            + ' to learn more about interactive tables.';\n",
              "          element.innerHTML = '';\n",
              "          dataTable['output_type'] = 'display_data';\n",
              "          await google.colab.output.renderOutput(dataTable, element);\n",
              "          const docLink = document.createElement('div');\n",
              "          docLink.innerHTML = docLinkHtml;\n",
              "          element.appendChild(docLink);\n",
              "        }\n",
              "      </script>\n",
              "    </div>\n",
              "  </div>\n"
            ]
          },
          "metadata": {},
          "execution_count": 54
        }
      ]
    },
    {
      "cell_type": "code",
      "source": [
        "prediction = prediction.sort_values(\n",
        "    by=[\"user_id\", \"lgbm_pred\"], ascending=[True, False])\n",
        "prediction[\"rank_lgbm\"] = prediction.groupby(\"user_id\").cumcount() + 1\n",
        "prediction.head()"
      ],
      "metadata": {
        "id": "X-0wA2ntMr8Q",
        "colab": {
          "base_uri": "https://localhost:8080/",
          "height": 206
        },
        "outputId": "ccb92030-90e4-4b11-e209-a88cc18d8094"
      },
      "execution_count": null,
      "outputs": [
        {
          "output_type": "execute_result",
          "data": {
            "text/plain": [
              "          user_id  item_id  rank  rank_lmf  lgbm_pred  rank_lgbm\n",
              "20052804        2      213   NaN      25.0  -0.605371          1\n",
              "20052805        2      105   NaN      26.0  -0.609778          2\n",
              "20052796        2      162   NaN      17.0  -0.666419          3\n",
              "20052806        2      217   NaN      27.0  -0.706350          4\n",
              "20052803        2      168   NaN      24.0  -0.831486          5"
            ],
            "text/html": [
              "\n",
              "\n",
              "  <div id=\"df-9d6550f4-6ec1-46aa-913f-a432a65a6bb9\">\n",
              "    <div class=\"colab-df-container\">\n",
              "      <div>\n",
              "<style scoped>\n",
              "    .dataframe tbody tr th:only-of-type {\n",
              "        vertical-align: middle;\n",
              "    }\n",
              "\n",
              "    .dataframe tbody tr th {\n",
              "        vertical-align: top;\n",
              "    }\n",
              "\n",
              "    .dataframe thead th {\n",
              "        text-align: right;\n",
              "    }\n",
              "</style>\n",
              "<table border=\"1\" class=\"dataframe\">\n",
              "  <thead>\n",
              "    <tr style=\"text-align: right;\">\n",
              "      <th></th>\n",
              "      <th>user_id</th>\n",
              "      <th>item_id</th>\n",
              "      <th>rank</th>\n",
              "      <th>rank_lmf</th>\n",
              "      <th>lgbm_pred</th>\n",
              "      <th>rank_lgbm</th>\n",
              "    </tr>\n",
              "  </thead>\n",
              "  <tbody>\n",
              "    <tr>\n",
              "      <th>20052804</th>\n",
              "      <td>2</td>\n",
              "      <td>213</td>\n",
              "      <td>NaN</td>\n",
              "      <td>25.0</td>\n",
              "      <td>-0.605371</td>\n",
              "      <td>1</td>\n",
              "    </tr>\n",
              "    <tr>\n",
              "      <th>20052805</th>\n",
              "      <td>2</td>\n",
              "      <td>105</td>\n",
              "      <td>NaN</td>\n",
              "      <td>26.0</td>\n",
              "      <td>-0.609778</td>\n",
              "      <td>2</td>\n",
              "    </tr>\n",
              "    <tr>\n",
              "      <th>20052796</th>\n",
              "      <td>2</td>\n",
              "      <td>162</td>\n",
              "      <td>NaN</td>\n",
              "      <td>17.0</td>\n",
              "      <td>-0.666419</td>\n",
              "      <td>3</td>\n",
              "    </tr>\n",
              "    <tr>\n",
              "      <th>20052806</th>\n",
              "      <td>2</td>\n",
              "      <td>217</td>\n",
              "      <td>NaN</td>\n",
              "      <td>27.0</td>\n",
              "      <td>-0.706350</td>\n",
              "      <td>4</td>\n",
              "    </tr>\n",
              "    <tr>\n",
              "      <th>20052803</th>\n",
              "      <td>2</td>\n",
              "      <td>168</td>\n",
              "      <td>NaN</td>\n",
              "      <td>24.0</td>\n",
              "      <td>-0.831486</td>\n",
              "      <td>5</td>\n",
              "    </tr>\n",
              "  </tbody>\n",
              "</table>\n",
              "</div>\n",
              "      <button class=\"colab-df-convert\" onclick=\"convertToInteractive('df-9d6550f4-6ec1-46aa-913f-a432a65a6bb9')\"\n",
              "              title=\"Convert this dataframe to an interactive table.\"\n",
              "              style=\"display:none;\">\n",
              "\n",
              "  <svg xmlns=\"http://www.w3.org/2000/svg\" height=\"24px\"viewBox=\"0 0 24 24\"\n",
              "       width=\"24px\">\n",
              "    <path d=\"M0 0h24v24H0V0z\" fill=\"none\"/>\n",
              "    <path d=\"M18.56 5.44l.94 2.06.94-2.06 2.06-.94-2.06-.94-.94-2.06-.94 2.06-2.06.94zm-11 1L8.5 8.5l.94-2.06 2.06-.94-2.06-.94L8.5 2.5l-.94 2.06-2.06.94zm10 10l.94 2.06.94-2.06 2.06-.94-2.06-.94-.94-2.06-.94 2.06-2.06.94z\"/><path d=\"M17.41 7.96l-1.37-1.37c-.4-.4-.92-.59-1.43-.59-.52 0-1.04.2-1.43.59L10.3 9.45l-7.72 7.72c-.78.78-.78 2.05 0 2.83L4 21.41c.39.39.9.59 1.41.59.51 0 1.02-.2 1.41-.59l7.78-7.78 2.81-2.81c.8-.78.8-2.07 0-2.86zM5.41 20L4 18.59l7.72-7.72 1.47 1.35L5.41 20z\"/>\n",
              "  </svg>\n",
              "      </button>\n",
              "\n",
              "\n",
              "\n",
              "    <div id=\"df-be672081-04c4-4025-8865-dde0637f95e0\">\n",
              "      <button class=\"colab-df-quickchart\" onclick=\"quickchart('df-be672081-04c4-4025-8865-dde0637f95e0')\"\n",
              "              title=\"Suggest charts.\"\n",
              "              style=\"display:none;\">\n",
              "\n",
              "<svg xmlns=\"http://www.w3.org/2000/svg\" height=\"24px\"viewBox=\"0 0 24 24\"\n",
              "     width=\"24px\">\n",
              "    <g>\n",
              "        <path d=\"M19 3H5c-1.1 0-2 .9-2 2v14c0 1.1.9 2 2 2h14c1.1 0 2-.9 2-2V5c0-1.1-.9-2-2-2zM9 17H7v-7h2v7zm4 0h-2V7h2v10zm4 0h-2v-4h2v4z\"/>\n",
              "    </g>\n",
              "</svg>\n",
              "      </button>\n",
              "    </div>\n",
              "\n",
              "<style>\n",
              "  .colab-df-quickchart {\n",
              "    background-color: #E8F0FE;\n",
              "    border: none;\n",
              "    border-radius: 50%;\n",
              "    cursor: pointer;\n",
              "    display: none;\n",
              "    fill: #1967D2;\n",
              "    height: 32px;\n",
              "    padding: 0 0 0 0;\n",
              "    width: 32px;\n",
              "  }\n",
              "\n",
              "  .colab-df-quickchart:hover {\n",
              "    background-color: #E2EBFA;\n",
              "    box-shadow: 0px 1px 2px rgba(60, 64, 67, 0.3), 0px 1px 3px 1px rgba(60, 64, 67, 0.15);\n",
              "    fill: #174EA6;\n",
              "  }\n",
              "\n",
              "  [theme=dark] .colab-df-quickchart {\n",
              "    background-color: #3B4455;\n",
              "    fill: #D2E3FC;\n",
              "  }\n",
              "\n",
              "  [theme=dark] .colab-df-quickchart:hover {\n",
              "    background-color: #434B5C;\n",
              "    box-shadow: 0px 1px 3px 1px rgba(0, 0, 0, 0.15);\n",
              "    filter: drop-shadow(0px 1px 2px rgba(0, 0, 0, 0.3));\n",
              "    fill: #FFFFFF;\n",
              "  }\n",
              "</style>\n",
              "\n",
              "    <script>\n",
              "      async function quickchart(key) {\n",
              "        const containerElement = document.querySelector('#' + key);\n",
              "        const charts = await google.colab.kernel.invokeFunction(\n",
              "            'suggestCharts', [key], {});\n",
              "      }\n",
              "    </script>\n",
              "\n",
              "      <script>\n",
              "\n",
              "function displayQuickchartButton(domScope) {\n",
              "  let quickchartButtonEl =\n",
              "    domScope.querySelector('#df-be672081-04c4-4025-8865-dde0637f95e0 button.colab-df-quickchart');\n",
              "  quickchartButtonEl.style.display =\n",
              "    google.colab.kernel.accessAllowed ? 'block' : 'none';\n",
              "}\n",
              "\n",
              "        displayQuickchartButton(document);\n",
              "      </script>\n",
              "      <style>\n",
              "    .colab-df-container {\n",
              "      display:flex;\n",
              "      flex-wrap:wrap;\n",
              "      gap: 12px;\n",
              "    }\n",
              "\n",
              "    .colab-df-convert {\n",
              "      background-color: #E8F0FE;\n",
              "      border: none;\n",
              "      border-radius: 50%;\n",
              "      cursor: pointer;\n",
              "      display: none;\n",
              "      fill: #1967D2;\n",
              "      height: 32px;\n",
              "      padding: 0 0 0 0;\n",
              "      width: 32px;\n",
              "    }\n",
              "\n",
              "    .colab-df-convert:hover {\n",
              "      background-color: #E2EBFA;\n",
              "      box-shadow: 0px 1px 2px rgba(60, 64, 67, 0.3), 0px 1px 3px 1px rgba(60, 64, 67, 0.15);\n",
              "      fill: #174EA6;\n",
              "    }\n",
              "\n",
              "    [theme=dark] .colab-df-convert {\n",
              "      background-color: #3B4455;\n",
              "      fill: #D2E3FC;\n",
              "    }\n",
              "\n",
              "    [theme=dark] .colab-df-convert:hover {\n",
              "      background-color: #434B5C;\n",
              "      box-shadow: 0px 1px 3px 1px rgba(0, 0, 0, 0.15);\n",
              "      filter: drop-shadow(0px 1px 2px rgba(0, 0, 0, 0.3));\n",
              "      fill: #FFFFFF;\n",
              "    }\n",
              "  </style>\n",
              "\n",
              "      <script>\n",
              "        const buttonEl =\n",
              "          document.querySelector('#df-9d6550f4-6ec1-46aa-913f-a432a65a6bb9 button.colab-df-convert');\n",
              "        buttonEl.style.display =\n",
              "          google.colab.kernel.accessAllowed ? 'block' : 'none';\n",
              "\n",
              "        async function convertToInteractive(key) {\n",
              "          const element = document.querySelector('#df-9d6550f4-6ec1-46aa-913f-a432a65a6bb9');\n",
              "          const dataTable =\n",
              "            await google.colab.kernel.invokeFunction('convertToInteractive',\n",
              "                                                     [key], {});\n",
              "          if (!dataTable) return;\n",
              "\n",
              "          const docLinkHtml = 'Like what you see? Visit the ' +\n",
              "            '<a target=\"_blank\" href=https://colab.research.google.com/notebooks/data_table.ipynb>data table notebook</a>'\n",
              "            + ' to learn more about interactive tables.';\n",
              "          element.innerHTML = '';\n",
              "          dataTable['output_type'] = 'display_data';\n",
              "          await google.colab.output.renderOutput(dataTable, element);\n",
              "          const docLink = document.createElement('div');\n",
              "          docLink.innerHTML = docLinkHtml;\n",
              "          element.appendChild(docLink);\n",
              "        }\n",
              "      </script>\n",
              "    </div>\n",
              "  </div>\n"
            ]
          },
          "metadata": {},
          "execution_count": 55
        }
      ]
    },
    {
      "cell_type": "code",
      "source": [
        "prediction.user_id.value_counts()"
      ],
      "metadata": {
        "colab": {
          "base_uri": "https://localhost:8080/"
        },
        "id": "j-aKUZidk9EX",
        "outputId": "ac52bb2d-550b-49c4-d132-0534008290b7"
      },
      "execution_count": null,
      "outputs": [
        {
          "output_type": "execute_result",
          "data": {
            "text/plain": [
              "529194     60\n",
              "750528     60\n",
              "996397     60\n",
              "996396     60\n",
              "750537     60\n",
              "           ..\n",
              "546691     30\n",
              "546673     30\n",
              "546670     30\n",
              "546669     30\n",
              "1057265    30\n",
              "Name: user_id, Length: 726266, dtype: int64"
            ]
          },
          "metadata": {},
          "execution_count": 58
        }
      ]
    }
  ],
  "metadata": {
    "colab": {
      "provenance": []
    },
    "kernelspec": {
      "display_name": "Python 3",
      "name": "python3"
    },
    "language_info": {
      "name": "python"
    }
  },
  "nbformat": 4,
  "nbformat_minor": 0
}
{
  "nbformat": 4,
  "nbformat_minor": 0,
  "metadata": {
    "colab": {
      "provenance": [],
      "toc_visible": true
    },
    "kernelspec": {
      "name": "python3",
      "display_name": "Python 3"
    },
    "language_info": {
      "name": "python"
    }
  },
  "cells": [
    {
      "cell_type": "markdown",
      "source": [
        "# Этап L5"
      ],
      "metadata": {
        "id": "TsKxOdH95B_0"
      }
    },
    {
      "cell_type": "code",
      "execution_count": null,
      "metadata": {
        "colab": {
          "base_uri": "https://localhost:8080/"
        },
        "id": "r9MZszsgOmoo",
        "outputId": "d92df564-e56c-4fcc-c170-0447b131f42d"
      },
      "outputs": [
        {
          "output_type": "stream",
          "name": "stdout",
          "text": [
            "Collecting lightfm\n",
            "  Downloading lightfm-1.17.tar.gz (316 kB)\n",
            "\u001b[2K     \u001b[90m━━━━━━━━━━━━━━━━━━━━━━━━━━━━━━━━━━━━━━━\u001b[0m \u001b[32m316.4/316.4 kB\u001b[0m \u001b[31m3.8 MB/s\u001b[0m eta \u001b[36m0:00:00\u001b[0m\n",
            "\u001b[?25h  Preparing metadata (setup.py) ... \u001b[?25l\u001b[?25hdone\n",
            "Requirement already satisfied: numpy in /usr/local/lib/python3.10/dist-packages (from lightfm) (1.22.4)\n",
            "Requirement already satisfied: scipy>=0.17.0 in /usr/local/lib/python3.10/dist-packages (from lightfm) (1.10.1)\n",
            "Requirement already satisfied: requests in /usr/local/lib/python3.10/dist-packages (from lightfm) (2.27.1)\n",
            "Requirement already satisfied: scikit-learn in /usr/local/lib/python3.10/dist-packages (from lightfm) (1.2.2)\n",
            "Requirement already satisfied: urllib3<1.27,>=1.21.1 in /usr/local/lib/python3.10/dist-packages (from requests->lightfm) (1.26.16)\n",
            "Requirement already satisfied: certifi>=2017.4.17 in /usr/local/lib/python3.10/dist-packages (from requests->lightfm) (2023.5.7)\n",
            "Requirement already satisfied: charset-normalizer~=2.0.0 in /usr/local/lib/python3.10/dist-packages (from requests->lightfm) (2.0.12)\n",
            "Requirement already satisfied: idna<4,>=2.5 in /usr/local/lib/python3.10/dist-packages (from requests->lightfm) (3.4)\n",
            "Requirement already satisfied: joblib>=1.1.1 in /usr/local/lib/python3.10/dist-packages (from scikit-learn->lightfm) (1.3.1)\n",
            "Requirement already satisfied: threadpoolctl>=2.0.0 in /usr/local/lib/python3.10/dist-packages (from scikit-learn->lightfm) (3.2.0)\n",
            "Building wheels for collected packages: lightfm\n",
            "  Building wheel for lightfm (setup.py) ... \u001b[?25l\u001b[?25hdone\n",
            "  Created wheel for lightfm: filename=lightfm-1.17-cp310-cp310-linux_x86_64.whl size=808302 sha256=00ac0bd5e433a1c17dd4a87aa342e9a7bf45bcb20edbffe58ecd918b276b637b\n",
            "  Stored in directory: /root/.cache/pip/wheels/4f/9b/7e/0b256f2168511d8fa4dae4fae0200fdbd729eb424a912ad636\n",
            "Successfully built lightfm\n",
            "Installing collected packages: lightfm\n",
            "Successfully installed lightfm-1.17\n"
          ]
        }
      ],
      "source": [
        "!pip install lightfm"
      ]
    },
    {
      "cell_type": "code",
      "source": [
        "import gc\n",
        "import pandas as pd\n",
        "import numpy as np\n",
        "from tqdm import tqdm\n",
        "from random import sample\n",
        "\n",
        "from lightfm.data import Dataset\n",
        "from lightfm import LightFM\n",
        "import lightgbm as lgbm\n",
        "\n",
        "from sklearn.model_selection import train_test_split\n",
        "from sklearn.utils import shuffle\n",
        "from sklearn.metrics import ndcg_score"
      ],
      "metadata": {
        "id": "vuCmJSo0PGwn"
      },
      "execution_count": null,
      "outputs": []
    },
    {
      "cell_type": "code",
      "source": [
        "path = \"/content/drive/MyDrive/WB School/data.csv.gzip\"\n",
        "interactions = pd.read_csv(path, compression=\"gzip\")\n",
        "interactions[\"order_ts\"] = pd.to_datetime(interactions[\"order_ts\"])"
      ],
      "metadata": {
        "id": "ddTyDVfatRI1"
      },
      "execution_count": null,
      "outputs": []
    },
    {
      "cell_type": "markdown",
      "source": [
        "После оценки каждой модели следует перезагружать ядро."
      ],
      "metadata": {
        "id": "byBEFw_9NNLW"
      }
    },
    {
      "cell_type": "markdown",
      "source": [
        "# Вспомогательные функции"
      ],
      "metadata": {
        "id": "ZKB6ZtzGPVyy"
      }
    },
    {
      "cell_type": "markdown",
      "source": [
        "### Функции для подготовки данных.\n",
        "\n",
        "Некоторые функции являются общими для всех моделей, поэтому введём их сразу. Остальные будем инициализировать по мере надобности."
      ],
      "metadata": {
        "id": "OeH8zYwG467R"
      }
    },
    {
      "cell_type": "markdown",
      "source": [
        "Функция `train_test()` делит выборку на обучающую и тестовую в зависимости от модели, которую будем использовать. Для бустинга обучающую выборку надо будет поделить на train/test части ещё раз."
      ],
      "metadata": {
        "id": "aw5iM6g4tmh8"
      }
    },
    {
      "cell_type": "code",
      "source": [
        "def train_test(interactions, for_boosting=False, q=0.7, threshold=\"2023-02-28 23:59:59.947831\"):\n",
        "\n",
        "  # Обучающая выборка - 2 месяца, тестовая - 1 последний месяц.\n",
        "  train = interactions[interactions.order_ts <= threshold]\n",
        "  test = interactions[interactions.order_ts > threshold]\n",
        "\n",
        "  # Оставляем только \"тёплых\" пользователей и те товары, взаимодействия с которыми были в train периоде.\n",
        "  test = test[test[\"user_id\"].isin(train[\"user_id\"].unique())]\n",
        "  test = test[test[\"item_id\"].isin(train[\"item_id\"].unique())]\n",
        "\n",
        "  # Если пользователь оформил заказ сразу на несколько единиц товара, то каждое из них является отдельным\n",
        "  # наблюдением, и чтобы избежать переобучение под такие товары, уберём полные дубликаты.\n",
        "  train = train.drop_duplicates()\n",
        "  test = test.drop_duplicates()\n",
        "\n",
        "  # Для гибридной модели глобальную обучающую выборку разделим на 2 части в соотношении 70:30.\n",
        "  if for_boosting == True:\n",
        "    lfm_threshold = train[\"order_ts\"].quantile(q=q, interpolation=\"nearest\")\n",
        "\n",
        "    lfm_train = train[(train[\"order_ts\"] <= lfm_threshold)]\n",
        "    lfm_pred = train[(train[\"order_ts\"] > lfm_threshold)]\n",
        "\n",
        "    lfm_pred = lfm_pred[lfm_pred[\"user_id\"].isin(lfm_train[\"user_id\"].unique())]\n",
        "    lfm_pred = lfm_pred[lfm_pred[\"item_id\"].isin(lfm_train[\"item_id\"].unique())]\n",
        "\n",
        "    lfm_train = lfm_train.groupby([\"user_id\", \"item_id\"], as_index=False).count() \\\n",
        "        .rename(columns={\"order_ts\": \"amount\"})\n",
        "\n",
        "    lfm_pred = lfm_pred.groupby([\"user_id\", \"item_id\"], as_index=False).count() \\\n",
        "        .rename(columns={\"order_ts\": \"amount\"})\n",
        "\n",
        "    test = lfm_pred.groupby([\"user_id\", \"item_id\"], as_index=False).count() \\\n",
        "        .rename(columns={\"order_ts\": \"amount\"})\n",
        "\n",
        "    return lfm_train, lfm_pred, test\n",
        "\n",
        "  elif for_boosting == False:\n",
        "    train = train.groupby([\"user_id\", \"item_id\"], as_index=False).count() \\\n",
        "        .rename(columns={\"order_ts\": \"amount\"})\n",
        "\n",
        "    test = test.groupby([\"user_id\", \"item_id\"], as_index=False).count() \\\n",
        "        .rename(columns={\"order_ts\": \"amount\"})\n",
        "\n",
        "    return train, test"
      ],
      "metadata": {
        "id": "drxNFaFOm3E9"
      },
      "execution_count": null,
      "outputs": []
    },
    {
      "cell_type": "markdown",
      "source": [
        "Функция `lists_to_arrays()` преобразует данные к нужному для вычисления метрик виду."
      ],
      "metadata": {
        "id": "R11-ixnL9BzE"
      }
    },
    {
      "cell_type": "code",
      "source": [
        "def lists_to_arrays(ranks, relevances, recommended_items_ids, relevant_items_ids):\n",
        "  ranks_array = list()\n",
        "  relevances_array = list()\n",
        "  recommended_items_ids_array = list()\n",
        "  relevant_items_ids_array = list()\n",
        "\n",
        "  for i in tqdm(range(len(ranks))):\n",
        "    rank = np.array(ranks[i]).astype(float)\n",
        "    ranks_array.append(rank)\n",
        "\n",
        "    rel = np.array(relevances[i]).astype(int)\n",
        "    relevances_array.append(rel)\n",
        "\n",
        "    rec_items = np.array(recommended_items_ids[i]).astype(int)\n",
        "    recommended_items_ids_array.append(rec_items)\n",
        "\n",
        "    rel_items = np.array(relevant_items_ids[i]).astype(int)\n",
        "    relevant_items_ids_array.append(rel_items)\n",
        "\n",
        "  ranks_array = np.array(ranks_array)\n",
        "  relevances_array = np.array(relevances_array)\n",
        "  recommended_items_ids_array = np.array(recommended_items_ids_array)\n",
        "  relevant_items_ids_array = np.array(relevant_items_ids_array)\n",
        "\n",
        "  return ranks_array, relevances_array, recommended_items_ids_array, relevant_items_ids_array"
      ],
      "metadata": {
        "id": "8JwlAXqR9MZB"
      },
      "execution_count": null,
      "outputs": []
    },
    {
      "cell_type": "markdown",
      "source": [
        "Функция `extract_vectors()` достаёт векторы рангов, релевантностей, id рекомендованных товаров и id релевантных товаров из результирующего на предыдущем шаге датафрейма, а затем преобразует к нужному для вычисления метрик формату."
      ],
      "metadata": {
        "id": "QvFEmb5r-KfS"
      }
    },
    {
      "cell_type": "code",
      "source": [
        "def extract_vectors(predictions, test, rank_column_name=\"rank\"):\n",
        "\n",
        "  ranks = predictions.groupby(\"user_id\")[rank_column_name].apply(list).values\n",
        "  relevances = predictions.groupby(\"user_id\")[\"relevance\"].apply(list).values\n",
        "  recommended_items_ids = predictions.groupby(\"user_id\")[\"item_id\"].apply(list).values\n",
        "  relevant_items_ids = test.groupby(\"user_id\")[\"item_id\"].apply(list).values\n",
        "\n",
        "  ranks, relevances, recommended_items_ids, relevant_items_ids = lists_to_arrays(\n",
        "      ranks,\n",
        "      relevances,\n",
        "      recommended_items_ids,\n",
        "      relevant_items_ids\n",
        "  )\n",
        "  return ranks, relevances, recommended_items_ids, relevant_items_ids"
      ],
      "metadata": {
        "id": "dBXs2lmig3r5"
      },
      "execution_count": null,
      "outputs": []
    },
    {
      "cell_type": "markdown",
      "source": [
        "Функция `drop_outlier_items()` исключает из выборки самые популярные товары."
      ],
      "metadata": {
        "id": "xJQNIr87IseD"
      }
    },
    {
      "cell_type": "code",
      "source": [
        "def drop_outlier_items(df, k=20):\n",
        "  items_df = df.drop(columns=\"order_ts\").groupby(\"item_id\", as_index=False) \\\n",
        "        .count().rename(columns={\"user_id\": \"amount\"}).sort_values(\"amount\", ascending=False)\n",
        "  items = list(train_items.item_id.values[:k])\n",
        "  df = df[~df[\"item_id\"].isin(items)]\n",
        "\n",
        "  return df"
      ],
      "metadata": {
        "id": "0-WNFLrQIiFi"
      },
      "execution_count": null,
      "outputs": []
    },
    {
      "cell_type": "markdown",
      "source": [
        "## Функции для вычисления метрик"
      ],
      "metadata": {
        "id": "hgjXwghu4FxT"
      }
    },
    {
      "cell_type": "markdown",
      "source": [
        "### MAP@k"
      ],
      "metadata": {
        "id": "7yek5Jfv4QLs"
      }
    },
    {
      "cell_type": "markdown",
      "source": [
        "Функция `user_precision()` вычисляет значение AveragePrecision@k для одного пользователя и нужна для вычисления MeanAveragePrecision@k."
      ],
      "metadata": {
        "id": "KDBBvCyx4PY5"
      }
    },
    {
      "cell_type": "code",
      "source": [
        "def user_average_precision(user_relevances, k=20):\n",
        "  if user_relevances[:k].sum() == 0:\n",
        "    return 0\n",
        "  else:\n",
        "    # Считаем значение Average Precision@k для одного пользовтаеля.\n",
        "    average_precision_list = list()\n",
        "\n",
        "    for k_items in range(1, (k + 1)):\n",
        "      precision = user_relevances[:k_items].sum()\n",
        "      precision /= len(user_relevances[:k_items])\n",
        "      average_precision_list.append(precision)\n",
        "\n",
        "    average_precision_array = np.array(average_precision_list)\n",
        "    average_precision = average_precision_array * user_relevances[:k]\n",
        "    average_precision = average_precision.sum()\n",
        "    average_precision /= user_relevances[:k].sum()\n",
        "\n",
        "    return average_precision"
      ],
      "metadata": {
        "id": "I7fs8DEw4KIN"
      },
      "execution_count": null,
      "outputs": []
    },
    {
      "cell_type": "markdown",
      "source": [
        "Функция `get_map()` считает MeanAveragePrecision@k."
      ],
      "metadata": {
        "id": "KNMiPBGg4KIN"
      }
    },
    {
      "cell_type": "code",
      "source": [
        "def get_map(relevances, k=20):\n",
        "  mean_average_precision = 0\n",
        "  n = len(relevances)\n",
        "\n",
        "  for i in tqdm(range(n)):\n",
        "    average_precision = user_average_precision(relevances[i], k)\n",
        "    mean_average_precision += average_precision\n",
        "\n",
        "  return mean_average_precision / n"
      ],
      "metadata": {
        "id": "9c9fcXag4KIN"
      },
      "execution_count": null,
      "outputs": []
    },
    {
      "cell_type": "markdown",
      "source": [
        "### MAR@k"
      ],
      "metadata": {
        "id": "sNgsLDlp4VSy"
      }
    },
    {
      "cell_type": "markdown",
      "source": [
        "Функция `eval_single()` считает значение Recal@k для одного пользователя."
      ],
      "metadata": {
        "id": "Gmf8yaUm4KIO"
      }
    },
    {
      "cell_type": "code",
      "source": [
        "def eval_single(recommended_items_ids, relevant_items_ids, k=20):\n",
        "  recall_at_k = sum(\n",
        "      [\n",
        "          1\n",
        "          for rec_item in recommended_items_ids[:k]\n",
        "          if rec_item in relevant_items_ids\n",
        "      ]\n",
        "  ) / min(len(relevant_items_ids), k)\n",
        "\n",
        "  return recall_at_k"
      ],
      "metadata": {
        "id": "jfRXpX0z4KIO"
      },
      "execution_count": null,
      "outputs": []
    },
    {
      "cell_type": "markdown",
      "source": [
        "Функция `user_average_recall()` считает AverageRecall@k одного пользователя."
      ],
      "metadata": {
        "id": "hJDPS9yN4KIO"
      }
    },
    {
      "cell_type": "code",
      "source": [
        "def user_average_recall(user_relevances_recommended, recommended_items_ids, relevant_items_ids, k=20):\n",
        "  if user_relevances_recommended[:k].sum() == 0:\n",
        "    return 0\n",
        "  else:\n",
        "    average_recall_list = list()\n",
        "\n",
        "    for k_items in range(1, (k + 1)):\n",
        "      recall_at_k = eval_single(recommended_items_ids, relevant_items_ids, k_items)\n",
        "      average_recall_list.append(recall_at_k)\n",
        "\n",
        "    average_recall_array = np.array(average_recall_list)\n",
        "    average_recall_array = average_recall_array * user_relevances_recommended[:k]\n",
        "    average_recall = average_recall_array.sum()\n",
        "    average_recall /= min(len(relevant_items_ids), k)\n",
        "\n",
        "    return average_recall"
      ],
      "metadata": {
        "id": "SXY_alIe4KIO"
      },
      "execution_count": null,
      "outputs": []
    },
    {
      "cell_type": "markdown",
      "source": [
        "Функция `get_mar()` считает MeanAverageRecall@k."
      ],
      "metadata": {
        "id": "7OnCDdp-4KIO"
      }
    },
    {
      "cell_type": "code",
      "source": [
        "def get_mar(relevances_recommended, recommended_items_ids, relevant_items_ids, k=20):\n",
        "  mean_average_recall = 0\n",
        "  n = len(relevances_recommended)\n",
        "\n",
        "  for i in tqdm(range(n)):\n",
        "    average_recall = user_average_recall(relevances_recommended[i], recommended_items_ids[i], relevant_items_ids[i], k)\n",
        "    mean_average_recall += average_recall\n",
        "\n",
        "  return mean_average_recall / n"
      ],
      "metadata": {
        "id": "_p3PKc5K4KIP"
      },
      "execution_count": null,
      "outputs": []
    },
    {
      "cell_type": "markdown",
      "source": [
        "### NDCG@k"
      ],
      "metadata": {
        "id": "aaMy9ur94Y_w"
      }
    },
    {
      "cell_type": "code",
      "source": [
        "def get_ndcg(ranks_array, relevances_array, is_higher_better=False, k=20):\n",
        "  n = len(ranks_array)\n",
        "  ndcg = 0\n",
        "\n",
        "  # Если на вход подаются скоры, а не ранги, то необходимо указать параметр is_higher_better = True.\n",
        "  if is_higher_better == False:\n",
        "    for i in tqdm(range(n)):\n",
        "      rank = k - ranks_array[i]\n",
        "      ndcg += ndcg_score([relevances_array[i]], [rank], k=k)\n",
        "    return ndcg / n\n",
        "\n",
        "  elif is_higher_better == True:\n",
        "    for i in tqdm(range(n)):\n",
        "      ndcg += ndcg_score([relevances_array[i]], [ranks_array[i]], k=k)\n",
        "    return ndcg / n"
      ],
      "metadata": {
        "id": "zRWTL6tg4uQw"
      },
      "execution_count": null,
      "outputs": []
    },
    {
      "cell_type": "markdown",
      "source": [
        "### 3 в 1"
      ],
      "metadata": {
        "id": "ZOliQlWi6lJ9"
      }
    },
    {
      "cell_type": "markdown",
      "source": [
        "Функция `get_metrics()` считает MAP@k, MAR@k и NDCG@k модели. Выдаёт словарь, где ключи - названия метрик, значения - метрики."
      ],
      "metadata": {
        "id": "akb_FLop6o8f"
      }
    },
    {
      "cell_type": "code",
      "source": [
        "def get_metrics(ranks, relevances, recommended_items_ids, relevant_items_ids, is_higher_better=False, k=20):\n",
        "  metrics = dict()\n",
        "\n",
        "  key = \"MAP@\" + str(k)\n",
        "  metrics[key] = get_map(relevances, k)\n",
        "\n",
        "  key = \"MAR@\" + str(k)\n",
        "  metrics[key] = get_mar(relevances, recommended_items_ids, relevant_items_ids, k)\n",
        "\n",
        "  key = \"NDCG@\" + str(k)\n",
        "  metrics[key] = get_ndcg(ranks, relevances, is_higher_better, k)\n",
        "\n",
        "  return metrics"
      ],
      "metadata": {
        "id": "dwEttUZI6oMx"
      },
      "execution_count": null,
      "outputs": []
    },
    {
      "cell_type": "markdown",
      "source": [
        "# Popularity Based Recommender"
      ],
      "metadata": {
        "id": "u-BHDbVcTmuv"
      }
    },
    {
      "cell_type": "code",
      "source": [
        "threshold = \"2023-02-28 23:59:59.947831\"\n",
        "train = interactions[interactions.order_ts <= threshold]\n",
        "test = interactions[interactions.order_ts > threshold]"
      ],
      "metadata": {
        "id": "jARyO9Ls7T6d"
      },
      "execution_count": null,
      "outputs": []
    },
    {
      "cell_type": "markdown",
      "source": [
        "Функция `predict_popular()` рекомендует товары на основе их популярности. Сначала всем пользователям рекомендуются преобретёнными в train периоде товары. Затем, если пользователь в течение train периода заказал менее k товаров, список дополняется соотствующим количеством товаров, наиболее популярных среди пользователей train периода."
      ],
      "metadata": {
        "id": "malKGgYZYY6A"
      }
    },
    {
      "cell_type": "code",
      "source": [
        "def predict_popular(train, test, k=20):\n",
        "  test = test[test[\"user_id\"].isin(train[\"user_id\"].unique())]\n",
        "  test = test[test[\"item_id\"].isin(train[\"item_id\"].unique())]\n",
        "\n",
        "  # Приготовим k наиболее популярных товаров среди всех пользователей train периода.\n",
        "  train_items = train.drop(columns=\"order_ts\").groupby(\"item_id\", as_index=False) \\\n",
        "      .count().rename(columns={\"user_id\": \"amount\"}).sort_values(\"amount\", ascending=False)\n",
        "  items = list(train_items.item_id.values[:k])\n",
        "\n",
        "  # Заполняем списки рекомендаций пользователей наиболее популярными\n",
        "  # товарами среди всех пользователей train периода.\n",
        "  predictions_dict = dict()\n",
        "  users = test[\"user_id\"].unique()\n",
        "  for user in tqdm(users):\n",
        "    predictions_dict[user] = items\n",
        "\n",
        "  # На основе построенного словаря с рекомедациями составляем датафрейм.\n",
        "  predictions_df = pd.DataFrame({\"user_id\": users})\n",
        "  predictions_df[\"item_id\"] = predictions_dict.values()\n",
        "  predictions_df = predictions_df.explode(\"item_id\")\n",
        "  predictions_df[\"rank\"] = predictions_df.groupby(\"user_id\").cumcount() + 1\n",
        "\n",
        "  test = test.groupby([\"user_id\", \"item_id\"], as_index=False).count() \\\n",
        "      .rename(columns={\"order_ts\": \"amount\"})\n",
        "  test = test.drop(columns=\"amount\")\n",
        "  test[\"relevance\"] = 1\n",
        "\n",
        "  predictions_df = pd.merge(predictions_df, test, on=[\"user_id\", \"item_id\"], how=\"left\")\n",
        "  predictions_df[\"relevance\"] = predictions_df[\"relevance\"].fillna(0)\n",
        "  predictions_df[\"relevance\"] = predictions_df[\"relevance\"].astype(int)\n",
        "\n",
        "  return predictions_df, test"
      ],
      "metadata": {
        "id": "e5XebQblRksO"
      },
      "execution_count": null,
      "outputs": []
    },
    {
      "cell_type": "code",
      "source": [
        "predictions, test = predict_popular(train, test, k=20)"
      ],
      "metadata": {
        "colab": {
          "base_uri": "https://localhost:8080/"
        },
        "id": "N6MgiXVD3y2E",
        "outputId": "21d1acc2-3984-4601-be94-1d0f84c0fa2a"
      },
      "execution_count": null,
      "outputs": [
        {
          "output_type": "stream",
          "name": "stderr",
          "text": [
            "100%|██████████| 720401/720401 [00:00<00:00, 1586850.52it/s]\n"
          ]
        }
      ]
    },
    {
      "cell_type": "code",
      "source": [
        "ranks_array, relevances_array, recommended_items_ids_array, relevant_items_ids_array = extract_vectors(predictions, test)"
      ],
      "metadata": {
        "colab": {
          "base_uri": "https://localhost:8080/"
        },
        "id": "KHMG3ETE-WUJ",
        "outputId": "de38540b-1308-458e-8ce9-766ffb63216a"
      },
      "execution_count": null,
      "outputs": [
        {
          "output_type": "stream",
          "name": "stderr",
          "text": [
            "100%|██████████| 720409/720409 [00:12<00:00, 55455.79it/s]\n",
            "<ipython-input-5-e0bad87030c7>:20: VisibleDeprecationWarning: Creating an ndarray from ragged nested sequences (which is a list-or-tuple of lists-or-tuples-or ndarrays with different lengths or shapes) is deprecated. If you meant to do this, you must specify 'dtype=object' when creating the ndarray.\n",
            "  ranks_array = np.array(ranks_array)\n",
            "<ipython-input-5-e0bad87030c7>:21: VisibleDeprecationWarning: Creating an ndarray from ragged nested sequences (which is a list-or-tuple of lists-or-tuples-or ndarrays with different lengths or shapes) is deprecated. If you meant to do this, you must specify 'dtype=object' when creating the ndarray.\n",
            "  relevances_array = np.array(relevances_array)\n",
            "<ipython-input-5-e0bad87030c7>:22: VisibleDeprecationWarning: Creating an ndarray from ragged nested sequences (which is a list-or-tuple of lists-or-tuples-or ndarrays with different lengths or shapes) is deprecated. If you meant to do this, you must specify 'dtype=object' when creating the ndarray.\n",
            "  recommended_items_ids_array = np.array(recommended_items_ids_array)\n",
            "<ipython-input-5-e0bad87030c7>:23: VisibleDeprecationWarning: Creating an ndarray from ragged nested sequences (which is a list-or-tuple of lists-or-tuples-or ndarrays with different lengths or shapes) is deprecated. If you meant to do this, you must specify 'dtype=object' when creating the ndarray.\n",
            "  relevant_items_ids_array = np.array(relevant_items_ids_array)\n"
          ]
        }
      ]
    },
    {
      "cell_type": "code",
      "source": [
        "get_metrics(\n",
        "    ranks_array,\n",
        "    relevances_array,\n",
        "    recommended_items_ids_array,\n",
        "    relevant_items_ids_array,\n",
        "    is_higher_better=False,\n",
        "    k=20\n",
        ")"
      ],
      "metadata": {
        "colab": {
          "base_uri": "https://localhost:8080/"
        },
        "id": "8UzpUEml3rvl",
        "outputId": "aae2aec9-f29f-4d16-953d-d4d2e0454e23"
      },
      "execution_count": null,
      "outputs": [
        {
          "output_type": "stream",
          "name": "stderr",
          "text": [
            "100%|██████████| 720401/720401 [00:45<00:00, 15858.57it/s]\n",
            "100%|██████████| 720401/720401 [08:32<00:00, 1406.36it/s]\n",
            "100%|██████████| 720401/720401 [05:18<00:00, 2261.95it/s]\n"
          ]
        },
        {
          "output_type": "execute_result",
          "data": {
            "text/plain": [
              "{'MAP@20': 0.10148372261357151,\n",
              " 'MAR@20': 0.05323537359906245,\n",
              " 'NDCG@20': 0.17946508838748196}"
            ]
          },
          "metadata": {},
          "execution_count": 27
        }
      ]
    },
    {
      "cell_type": "markdown",
      "source": [
        "# LightFM models"
      ],
      "metadata": {
        "id": "E6lWJXCBiZiK"
      }
    },
    {
      "cell_type": "code",
      "source": [
        "train, test = train_test(interactions)"
      ],
      "metadata": {
        "id": "sOlyRL4SnZgs"
      },
      "execution_count": null,
      "outputs": []
    },
    {
      "cell_type": "markdown",
      "source": [
        "## Преобразование данных"
      ],
      "metadata": {
        "id": "CDcvGjB9nEwo"
      }
    },
    {
      "cell_type": "markdown",
      "source": [
        "Функция `transform_interactions()` понадобится для преобразования данных."
      ],
      "metadata": {
        "id": "INeyTVj2jlPY"
      }
    },
    {
      "cell_type": "code",
      "source": [
        "def transform_interactions(interactions_grouped):\n",
        "  return interactions_grouped[[\"user_id\", \"item_id\", \"amount\"]].itertuples(index=False)"
      ],
      "metadata": {
        "id": "Zmc7erOFjkgS"
      },
      "execution_count": null,
      "outputs": []
    },
    {
      "cell_type": "markdown",
      "source": [
        "Функция `make_dataset()` преобразует исходные данные к LightFM.Dataset формату и создаёт отображение для оценки качества LightFM моделей."
      ],
      "metadata": {
        "id": "hwBdgnreimGm"
      }
    },
    {
      "cell_type": "code",
      "source": [
        "def make_dataset(train, test):\n",
        "  # Создаём обучающий и тестовый датасеты.\n",
        "  user_ids_buffered = (x for x in train[\"user_id\"].unique())\n",
        "  item_ids_buffered = (x for x in train[\"item_id\"].unique())\n",
        "\n",
        "  dataset = Dataset()\n",
        "\n",
        "  dataset.fit(\n",
        "    users=user_ids_buffered,\n",
        "    items=item_ids_buffered\n",
        "  )\n",
        "\n",
        "  interaction_matrix_train, _ = dataset.build_interactions(\n",
        "      transform_interactions(train))\n",
        "\n",
        "  interaction_matrix_test, _ = dataset.build_interactions(\n",
        "      transform_interactions(test))\n",
        "\n",
        "  # Сохраняем отображение.\n",
        "  lightfm_mapping = dataset.mapping()\n",
        "  lightfm_mapping = {\"users_mapping\": lightfm_mapping[0],\n",
        "                     \"items_mapping\": lightfm_mapping[2]}\n",
        "\n",
        "  lightfm_mapping[\"users_inv_mapping\"] = {v: k for k, v in lightfm_mapping[\"users_mapping\"].items()}\n",
        "  lightfm_mapping[\"items_inv_mapping\"] = {v: k for k, v in lightfm_mapping[\"items_mapping\"].items()}\n",
        "\n",
        "  all_cols = list(lightfm_mapping[\"items_mapping\"].values())\n",
        "\n",
        "  return interaction_matrix_train, interaction_matrix_test, lightfm_mapping, all_cols"
      ],
      "metadata": {
        "id": "R2mEjuNUieDD"
      },
      "execution_count": null,
      "outputs": []
    },
    {
      "cell_type": "code",
      "source": [
        "interaction_matrix_train, interaction_matrix_test, lightfm_mapping, all_cols = make_dataset(train, test)"
      ],
      "metadata": {
        "id": "p1qHKbKUkji8"
      },
      "execution_count": null,
      "outputs": []
    },
    {
      "cell_type": "markdown",
      "metadata": {
        "id": "VuNPxApsUdpC"
      },
      "source": [
        "Сверим размерности:"
      ]
    },
    {
      "cell_type": "code",
      "source": [
        "interaction_matrix_train.shape, interaction_matrix_test.shape"
      ],
      "metadata": {
        "id": "-tHkGQKRQU-I",
        "colab": {
          "base_uri": "https://localhost:8080/"
        },
        "outputId": "e10fa095-fedf-4843-8e60-b41b498fb963"
      },
      "execution_count": null,
      "outputs": [
        {
          "output_type": "execute_result",
          "data": {
            "text/plain": [
              "((941415, 6415), (941415, 6415))"
            ]
          },
          "metadata": {},
          "execution_count": 21
        }
      ]
    },
    {
      "cell_type": "markdown",
      "source": [
        "## Оценка моделей"
      ],
      "metadata": {
        "id": "Sm6J3UQDnIKh"
      }
    },
    {
      "cell_type": "markdown",
      "source": [
        "Обучим модель k-OS WARP."
      ],
      "metadata": {
        "id": "RoFg-kJBBqZ0"
      }
    },
    {
      "cell_type": "code",
      "source": [
        "model_warp_kos = LightFM(\n",
        "    no_components=50,\n",
        "    k=3,\n",
        "    n=11,\n",
        "    learning_schedule=\"adagrad\",\n",
        "    loss=\"warp-kos\",\n",
        "    learning_rate=0.027,\n",
        "    item_alpha=0.00001,\n",
        "    user_alpha=0.00014,\n",
        "    max_sampled=40)\n",
        "\n",
        "model_warp_kos.fit(interaction_matrix_train, epochs=20)"
      ],
      "metadata": {
        "id": "NfZqalfDnRIl"
      },
      "execution_count": null,
      "outputs": []
    },
    {
      "cell_type": "markdown",
      "source": [
        "Модели матричной факторизации склонны к переобучению под популярные товары, поэтому для сохранения разнообразия смешения айтемов, полученные в LightFM-модели, необходимо занулить."
      ],
      "metadata": {
        "id": "F63QVmV3vWdN"
      }
    },
    {
      "cell_type": "code",
      "source": [
        "model_warp_kos.item_biases = np.zeros_like(model_warp_kos.item_biases)"
      ],
      "metadata": {
        "id": "Mh8k6atAvTku"
      },
      "execution_count": null,
      "outputs": []
    },
    {
      "cell_type": "markdown",
      "source": [
        "Функция `generate_lightfm_recs_mapper()` является вспомогательной для функции отбора кандидатов от модели, следующей за ней."
      ],
      "metadata": {
        "id": "otG-Vplc0bL_"
      }
    },
    {
      "cell_type": "code",
      "source": [
        "def generate_lightfm_recs_mapper(model, item_ids, known_items, user_features, item_features, N, user_mapping, item_inv_mapping, num_threads=4):\n",
        "  def _recs_mapper(user):\n",
        "    user_id = user_mapping[user]\n",
        "    recs = model.predict(user_id, item_ids, user_features=user_features, item_features=item_features, num_threads=num_threads)\n",
        "\n",
        "    additional_N = len(known_items[user_id]) if user_id in known_items else 0\n",
        "    total_N = N + additional_N\n",
        "    top_cols = np.argpartition(recs, -np.arange(total_N))[-total_N:][::-1]\n",
        "\n",
        "    final_recs = [item_inv_mapping[item] for item in top_cols]\n",
        "    if additional_N > 0:\n",
        "      filter_items = known_items[user_id]\n",
        "      final_recs = [item for item in final_recs if item not in filter_items]\n",
        "    return final_recs[:N]\n",
        "  return _recs_mapper"
      ],
      "metadata": {
        "id": "TWZ1inDR0cbg"
      },
      "execution_count": null,
      "outputs": []
    },
    {
      "cell_type": "markdown",
      "source": [
        "Функция `predict_lightfm()` составляет рекомендации для пользователей из test периода на основе обученной LightFM-модели и проставляет соответствующие значения релевантности."
      ],
      "metadata": {
        "id": "HTO0Hgi8zisx"
      }
    },
    {
      "cell_type": "code",
      "source": [
        "def predict_lightfm(model, train, test, all_cols, lightfm_mapping, top_N=20, relevances_needed=True):\n",
        "\n",
        "  # Создаём датафрейм, в котором будут храниться рекомендации для пользователей.\n",
        "  predictions = pd.DataFrame({\"user_id\": test[\"user_id\"].unique()})\n",
        "  predictions = predictions[predictions[\"user_id\"].isin(train[\"user_id\"].unique())]\n",
        "  known_items = train.groupby(\"user_id\")[\"item_id\"].apply(list).to_dict()\n",
        "\n",
        "  # Собираем предсказания\n",
        "  mapper = generate_lightfm_recs_mapper(\n",
        "    model,\n",
        "    item_ids=all_cols,\n",
        "    known_items=known_items,\n",
        "    N=top_N,\n",
        "    user_features=None,\n",
        "    item_features=None,\n",
        "    user_mapping=lightfm_mapping[\"users_mapping\"],\n",
        "    item_inv_mapping=lightfm_mapping[\"items_inv_mapping\"],\n",
        "    num_threads=20\n",
        "  )\n",
        "\n",
        "  predictions[\"item_id\"] = predictions[\"user_id\"].map(mapper)\n",
        "  predictions = predictions.explode(\"item_id\").reset_index(drop=True)\n",
        "  predictions[\"rank\"] = predictions.groupby(\"user_id\").cumcount() + 1\n",
        "\n",
        "  if relevances_needed == True:\n",
        "    test = test.drop(columns=\"amount\")\n",
        "    test[\"relevance\"] = 1\n",
        "    predictions = pd.merge(predictions, test, on=[\"user_id\", \"item_id\"], how=\"left\")\n",
        "    predictions[\"relevance\"] = predictions[\"relevance\"].fillna(0)\n",
        "    predictions[\"relevance\"] = predictions[\"relevance\"].astype(int)\n",
        "\n",
        "    return predictions\n",
        "\n",
        "  elif relevances_needed == False:\n",
        "    return predictions"
      ],
      "metadata": {
        "id": "o_ItNmq1oYla"
      },
      "execution_count": null,
      "outputs": []
    },
    {
      "cell_type": "code",
      "source": [
        "predictions = predict_lightfm(\n",
        "    model_warp_kos,\n",
        "    train, test,\n",
        "    all_cols,\n",
        "    lightfm_mapping,\n",
        "    top_N=20,\n",
        "    relevances_needed=True\n",
        ")"
      ],
      "metadata": {
        "id": "1qedI3LgstH2"
      },
      "execution_count": null,
      "outputs": []
    },
    {
      "cell_type": "code",
      "source": [
        "ranks_array, relevances_array, recommended_items_ids_array, relevant_items_ids_array = extract_vectors(predictions, test)"
      ],
      "metadata": {
        "id": "yhyDRXVT-zWR"
      },
      "execution_count": null,
      "outputs": []
    },
    {
      "cell_type": "markdown",
      "source": [
        "Метрики для k-OS WARP:"
      ],
      "metadata": {
        "id": "UN7Ia_05K9YV"
      }
    },
    {
      "cell_type": "code",
      "execution_count": null,
      "metadata": {
        "colab": {
          "base_uri": "https://localhost:8080/"
        },
        "id": "Agr6cKT_sTRk",
        "outputId": "f46e7a7f-b160-4205-98c3-e38b03f35609"
      },
      "outputs": [
        {
          "name": "stderr",
          "output_type": "stream",
          "text": [
            "100%|██████████| 720401/720401 [00:31<00:00, 22588.63it/s]\n",
            "100%|██████████| 720401/720401 [05:39<00:00, 2124.12it/s]\n",
            "100%|██████████| 720401/720401 [04:30<00:00, 2660.40it/s]\n"
          ]
        },
        {
          "data": {
            "text/plain": [
              "{'MAP@20': 0.13684640231211853,\n",
              " 'MAR@20': 0.05819866645922324,\n",
              " 'NDCG@20': 0.2126102943916515}"
            ]
          },
          "execution_count": 26,
          "metadata": {},
          "output_type": "execute_result"
        }
      ],
      "source": [
        "get_metrics(\n",
        "    ranks_array,\n",
        "    relevances_array,\n",
        "    recommended_items_ids_array,\n",
        "    relevant_items_ids_array,\n",
        "    k=20\n",
        ")"
      ]
    },
    {
      "cell_type": "markdown",
      "source": [
        "Посчитаем метрики для WARP."
      ],
      "metadata": {
        "id": "4GcuUeigLBPY"
      }
    },
    {
      "cell_type": "code",
      "source": [
        "model_warp = LightFM(\n",
        "    no_components=50,\n",
        "    learning_schedule=\"adagrad\",\n",
        "    loss=\"warp\",\n",
        "    learning_rate=0.04,\n",
        "    item_alpha=0.0001,\n",
        "    user_alpha=0.00005,\n",
        "    max_sampled=40\n",
        ")\n",
        "\n",
        "model_warp.fit(interaction_matrix_train, epochs=20)"
      ],
      "metadata": {
        "id": "orGluDJZMA69"
      },
      "execution_count": null,
      "outputs": []
    },
    {
      "cell_type": "code",
      "source": [
        "model_warp.item_biases = np.zeros_like(model_warp.item_biases)"
      ],
      "metadata": {
        "id": "ED4TBoMXLKVE"
      },
      "execution_count": null,
      "outputs": []
    },
    {
      "cell_type": "code",
      "source": [
        "predictions = predict_lightfm(\n",
        "    model_warp,\n",
        "    train, test,\n",
        "    all_cols,\n",
        "    lightfm_mapping,\n",
        "    top_N=20,\n",
        "    relevances_needed=True\n",
        ")"
      ],
      "metadata": {
        "id": "4JxmGudRLPoj"
      },
      "execution_count": null,
      "outputs": []
    },
    {
      "cell_type": "code",
      "source": [
        "ranks_array, relevances_array, recommended_items_ids_array, relevant_items_ids_array = extract_vectors(predictions, test)"
      ],
      "metadata": {
        "id": "l2HdKpjRLUNf"
      },
      "execution_count": null,
      "outputs": []
    },
    {
      "cell_type": "code",
      "source": [
        "get_metrics(\n",
        "    ranks_array,\n",
        "    relevances_array,\n",
        "    recommended_items_ids_array,\n",
        "    relevant_items_ids_array,\n",
        "    k=20\n",
        ")"
      ],
      "metadata": {
        "colab": {
          "base_uri": "https://localhost:8080/"
        },
        "id": "YLb2K14qszME",
        "outputId": "c92477d4-f238-4cba-b01a-24426107542b"
      },
      "execution_count": null,
      "outputs": [
        {
          "output_type": "stream",
          "name": "stderr",
          "text": [
            "100%|██████████| 720401/720401 [00:31<00:00, 22894.25it/s]\n",
            "100%|██████████| 720401/720401 [05:39<00:00, 2124.07it/s]\n",
            "100%|██████████| 720401/720401 [04:39<00:00, 2581.21it/s]\n"
          ]
        },
        {
          "output_type": "execute_result",
          "data": {
            "text/plain": [
              "{'MAP@20': 0.10228329292253233,\n",
              " 'MAR@20': 0.04826692286324861,\n",
              " 'NDCG@20': 0.18212598165419863}"
            ]
          },
          "metadata": {},
          "execution_count": 25
        }
      ]
    },
    {
      "cell_type": "markdown",
      "source": [
        "# LFM + LGBM"
      ],
      "metadata": {
        "id": "2bcTobRoHGfI"
      }
    },
    {
      "cell_type": "markdown",
      "source": [
        "## Обучение бустинга"
      ],
      "metadata": {
        "id": "NkckUwPgNwip"
      }
    },
    {
      "cell_type": "markdown",
      "source": [
        "Подготовим данные для обучения 2 моделей отбора кандидатов."
      ],
      "metadata": {
        "id": "D7TQY8kutgdH"
      }
    },
    {
      "cell_type": "code",
      "source": [
        "lfm_train, lfm_pred, test = train_test(interactions, for_boosting=True)"
      ],
      "metadata": {
        "id": "nVxxxgjrlmNB"
      },
      "execution_count": null,
      "outputs": []
    },
    {
      "cell_type": "code",
      "source": [
        "interaction_matrix_train, interaction_matrix_test, lightfm_mapping, all_cols = make_dataset(lfm_train, lfm_pred)"
      ],
      "metadata": {
        "id": "DX0RmJrctcsG"
      },
      "execution_count": null,
      "outputs": []
    },
    {
      "cell_type": "markdown",
      "source": [
        "Обучим LightFM-модели."
      ],
      "metadata": {
        "id": "I03J0EohtpOY"
      }
    },
    {
      "cell_type": "code",
      "source": [
        "model_warp_kos = LightFM(\n",
        "    no_components=120,\n",
        "    k=3,\n",
        "    n=11,\n",
        "    learning_schedule=\"adagrad\",\n",
        "    loss=\"warp-kos\",\n",
        "    learning_rate=0.027,\n",
        "    item_alpha=0.00001,\n",
        "    user_alpha=0.00014,\n",
        "    max_sampled=90)\n",
        "\n",
        "model_warp_kos.fit(interaction_matrix_train, epochs=20)\n",
        "\n",
        "\n",
        "model_warp = LightFM(\n",
        "    no_components=120,\n",
        "    learning_schedule=\"adagrad\",\n",
        "    loss=\"warp\",\n",
        "    learning_rate=0.04,\n",
        "    item_alpha=0.0001,\n",
        "    user_alpha=0.00005,\n",
        "    max_sampled=90\n",
        ")\n",
        "\n",
        "model_warp.fit(interaction_matrix_train, epochs=20)"
      ],
      "metadata": {
        "id": "Pigv2LKdtuw9",
        "colab": {
          "base_uri": "https://localhost:8080/"
        },
        "outputId": "77d5b0fd-a664-4381-ce62-d80136cca705"
      },
      "execution_count": null,
      "outputs": [
        {
          "output_type": "execute_result",
          "data": {
            "text/plain": [
              "<lightfm.lightfm.LightFM at 0x7b870b3355a0>"
            ]
          },
          "metadata": {},
          "execution_count": 25
        }
      ]
    },
    {
      "cell_type": "markdown",
      "source": [
        "Занулим смещения айтемов, чтобы не переобучиться под популярные товары."
      ],
      "metadata": {
        "id": "kHnDBp0Dt5tl"
      }
    },
    {
      "cell_type": "code",
      "source": [
        "model_warp_kos.item_biases = np.zeros_like(model_warp_kos.item_biases)\n",
        "model_warp.item_biases = np.zeros_like(model_warp.item_biases)"
      ],
      "metadata": {
        "id": "pYT18206t_T4"
      },
      "execution_count": null,
      "outputs": []
    },
    {
      "cell_type": "markdown",
      "source": [
        "Функция `candidates_relevances()` объединяет кандидатов от LightFM-моделей первого уровня и проставляет значения релевантности."
      ],
      "metadata": {
        "id": "puodIwvcADsi"
      }
    },
    {
      "cell_type": "code",
      "source": [
        "def candidates_relevances(model_first, model_second, lfm_train, lfm_pred, test, all_cols, lightfm_mapping, top_N=30):\n",
        "  # Отбираем кандидатов\n",
        "  predictions_first = predict_lightfm(\n",
        "      model_warp_kos,\n",
        "      lfm_train,\n",
        "      lfm_pred,\n",
        "      all_cols,\n",
        "      lightfm_mapping,\n",
        "      top_N=top_N,\n",
        "      relevances_needed=False\n",
        "  )\n",
        "\n",
        "  predictions_second = predict_lightfm(\n",
        "      model_warp,\n",
        "      lfm_train,\n",
        "      lfm_pred,\n",
        "      all_cols,\n",
        "      lightfm_mapping,\n",
        "      top_N=top_N,\n",
        "      relevances_needed=False\n",
        "  )\n",
        "\n",
        "  predictions_first = predictions_first.rename(columns={\"rank\": \"rank_first\"})\n",
        "  predictions_second = predictions_second.rename(columns={\"rank\": \"rank_second\"})\n",
        "\n",
        "  # Объединяем наборы кандидатов.\n",
        "  predictions_first = pd.merge(\n",
        "      predictions_first,\n",
        "      predictions_second,\n",
        "      on=[\"user_id\", \"item_id\"],\n",
        "      how=\"outer\"\n",
        "  )\n",
        "\n",
        "  # Проставляем значения релевантности.\n",
        "  test = test.drop(columns=\"amount\")\n",
        "  test[\"relevance\"] = 1\n",
        "  predictions_first = pd.merge(predictions_first, test, on=[\"user_id\", \"item_id\"], how=\"left\")\n",
        "  predictions_first[\"relevance\"] = predictions_first[\"relevance\"].fillna(0)\n",
        "  predictions_first[\"relevance\"] = predictions_first[\"relevance\"].astype(int)\n",
        "\n",
        "  return predictions_first"
      ],
      "metadata": {
        "id": "hPHht3RU-tSL"
      },
      "execution_count": null,
      "outputs": []
    },
    {
      "cell_type": "code",
      "source": [
        "predictions_train = candidates_relevances(\n",
        "    model_warp_kos,\n",
        "    model_warp,\n",
        "    lfm_train,\n",
        "    lfm_pred,\n",
        "    test,\n",
        "    all_cols,\n",
        "    lightfm_mapping,\n",
        "    top_N=30\n",
        ")"
      ],
      "metadata": {
        "id": "7kLburqk_6fR",
        "colab": {
          "base_uri": "https://localhost:8080/"
        },
        "outputId": "3958466d-a723-4433-8a7c-453ec5364d84"
      },
      "execution_count": null,
      "outputs": [
        {
          "output_type": "stream",
          "name": "stderr",
          "text": [
            "<ipython-input-27-b3d72cce3816>:27: FutureWarning: In a future version, the Index constructor will not infer numeric dtypes when passed object-dtype sequences (matching Series behavior)\n",
            "  predictions_first = pd.merge(\n"
          ]
        }
      ]
    },
    {
      "cell_type": "markdown",
      "source": [
        "Составим датасет для обучения бустинга."
      ],
      "metadata": {
        "id": "qM_fe_TYAjD6"
      }
    },
    {
      "cell_type": "markdown",
      "source": [
        "Функция `get_query_id()` нужна для разбиения пользователей по группам для бустинга."
      ],
      "metadata": {
        "id": "bATnNUP1KD-a"
      }
    },
    {
      "cell_type": "code",
      "source": [
        "def get_query_id(df):\n",
        "  query_map = {}\n",
        "\n",
        "  for query_id, user_id in enumerate(df[\"user_id\"].unique()):\n",
        "    query_map[user_id] = query_id\n",
        "\n",
        "  query_id = df[\"user_id\"].map(query_map)\n",
        "\n",
        "  return query_id"
      ],
      "metadata": {
        "id": "c9KO_e87KETY"
      },
      "execution_count": null,
      "outputs": []
    },
    {
      "cell_type": "markdown",
      "source": [
        "Функция `positive_negative_sampling()` делает семплирование релевантных и нерелевантных взаимодействий в указанном соотношении и составляет датасеты для обучения и валидации бустинга."
      ],
      "metadata": {
        "id": "U7jlVzXUBJL1"
      }
    },
    {
      "cell_type": "code",
      "source": [
        "def positive_negative_sampling(candidates, lfm_pred, pos_neg_ratio=0.2, val_users_size=0.3):\n",
        "  # Семплируем в требуемом соотношении.\n",
        "  pos = candidates.merge(\n",
        "      lfm_pred,\n",
        "      on=[\"user_id\", \"item_id\"],\n",
        "      how=\"inner\"\n",
        "  )\n",
        "  pos[\"target\"] = 1\n",
        "\n",
        "  neg = candidates.set_index([\"user_id\", \"item_id\"]) \\\n",
        "          .join(lfm_pred.set_index([\"user_id\", \"item_id\"]))\n",
        "  neg = neg.reset_index()\n",
        "\n",
        "  neg_sample_frac = len(pos) / (len(neg) * pos_neg_ratio)\n",
        "  neg = neg.sample(frac=neg_sample_frac)\n",
        "  neg[\"target\"] = 0\n",
        "\n",
        "  # Собираем датасеты для обучения и валидации, т.е. для механизма early_stopping.\n",
        "  train_users, val_users = train_test_split(\n",
        "      lfm_pred[\"user_id\"].unique(),\n",
        "      random_state=42,\n",
        "      test_size=val_users_size\n",
        "  )\n",
        "\n",
        "  select_col = [\"user_id\", \"item_id\", \"rank_first\", \"rank_second\", \"target\"]\n",
        "  lgbm_train = shuffle(pd.concat([pos[pos[\"user_id\"].isin(train_users)],\n",
        "                                  neg[neg[\"user_id\"].isin(train_users)]])[select_col])\n",
        "  lgbm_val = shuffle(pd.concat([pos[pos[\"user_id\"].isin(val_users)],\n",
        "                                neg[neg[\"user_id\"].isin(val_users)]])[select_col])\n",
        "\n",
        "  # Делаем разбиение по пользователям.\n",
        "  lgbm_train[\"query_id\"] = get_query_id(lgbm_train)\n",
        "  lgbm_val[\"query_id\"] = get_query_id(lgbm_val)\n",
        "\n",
        "  train_group = lgbm_train[\"query_id\"].value_counts().sort_index().values\n",
        "  val_group = lgbm_val[\"query_id\"].value_counts().sort_index().values\n",
        "\n",
        "  del lgbm_train[\"query_id\"]\n",
        "  del lgbm_val[\"query_id\"]\n",
        "  gc.collect()\n",
        "\n",
        "  # Убедимся, что с типом данных всё в порядке.\n",
        "  lgbm_train[\"item_id\"] = lgbm_train[\"item_id\"].astype(np.int64)\n",
        "  lgbm_val[\"item_id\"] = lgbm_val[\"item_id\"].astype(np.int64)\n",
        "\n",
        "  # Преобразуем данные для обучения и механизма ранней остановки к нужному для lgbm формату.\n",
        "  train_lgbm_dataset = lgbm.Dataset(\n",
        "      data=lgbm_train.drop(columns=\"target\"), label=lgbm_train[\"target\"],\n",
        "      group=train_group\n",
        "  )\n",
        "\n",
        "  val_lgbm_dataset = lgbm.Dataset(\n",
        "      data=lgbm_val.drop(columns=\"target\"), label=lgbm_val[\"target\"],\n",
        "      group=val_group\n",
        "  )\n",
        "\n",
        "  return train_lgbm_dataset, val_lgbm_dataset"
      ],
      "metadata": {
        "id": "wrVXJEHRAiak"
      },
      "execution_count": null,
      "outputs": []
    },
    {
      "cell_type": "code",
      "source": [
        "train_lgbm_dataset, val_lgbm_dataset = positive_negative_sampling(\n",
        "    predictions_train,\n",
        "    lfm_pred,\n",
        "    pos_neg_ratio=0.3,\n",
        "    val_users_size=0.2\n",
        ")"
      ],
      "metadata": {
        "id": "XJdvM8VqMgLW"
      },
      "execution_count": null,
      "outputs": []
    },
    {
      "cell_type": "code",
      "source": [
        "del predictions_train\n",
        "\n",
        "gc.collect()"
      ],
      "metadata": {
        "id": "57v4lmp6WWAm",
        "colab": {
          "base_uri": "https://localhost:8080/"
        },
        "outputId": "e5a352df-47cd-4ec9-b499-fe0216dc56f7"
      },
      "execution_count": null,
      "outputs": [
        {
          "output_type": "execute_result",
          "data": {
            "text/plain": [
              "0"
            ]
          },
          "metadata": {},
          "execution_count": 33
        }
      ]
    },
    {
      "cell_type": "markdown",
      "source": [
        "Обучим бустинг."
      ],
      "metadata": {
        "id": "YvRU6tC4MYQL"
      }
    },
    {
      "cell_type": "code",
      "source": [
        "params = {\n",
        "    \"objective\": \"lambdarank\",\n",
        "    \"learning_rate\": 0.1,\n",
        "    \"n_estimators\": 1000,\n",
        "    \"max_depth\": 30,\n",
        "    \"subsample\": 0.8,\n",
        "    \"colsample_bytree\": 0.8,\n",
        "    \"first_metric_only\": True,\n",
        "    \"metric\": (\n",
        "        \"lambdarank\", \"map\", \"auc\"\n",
        "    ),\n",
        "    \"reg_lambda\": 0.001,\n",
        "    \"eval_at\": (20)\n",
        "}"
      ],
      "metadata": {
        "id": "XZFXAXKTNXwj"
      },
      "execution_count": null,
      "outputs": []
    },
    {
      "cell_type": "code",
      "source": [
        "booster = lgbm.train(\n",
        "    params=params,\n",
        "    train_set=train_lgbm_dataset,\n",
        "    num_boost_round=1500,\n",
        "    valid_sets=[train_lgbm_dataset, val_lgbm_dataset],\n",
        "    early_stopping_rounds=200,\n",
        "    verbose_eval=20\n",
        ")"
      ],
      "metadata": {
        "id": "zv-6E7JTNmCZ",
        "colab": {
          "base_uri": "https://localhost:8080/"
        },
        "outputId": "abe179a3-e51a-4fe6-d45e-2afe7be39113"
      },
      "execution_count": null,
      "outputs": [
        {
          "output_type": "stream",
          "name": "stderr",
          "text": [
            "/usr/local/lib/python3.10/dist-packages/lightgbm/engine.py:181: UserWarning: 'early_stopping_rounds' argument is deprecated and will be removed in a future release of LightGBM. Pass 'early_stopping()' callback via 'callbacks' argument instead.\n",
            "  _log_warning(\"'early_stopping_rounds' argument is deprecated and will be removed in a future release of LightGBM. \"\n",
            "/usr/local/lib/python3.10/dist-packages/lightgbm/engine.py:239: UserWarning: 'verbose_eval' argument is deprecated and will be removed in a future release of LightGBM. Pass 'log_evaluation()' callback via 'callbacks' argument instead.\n",
            "  _log_warning(\"'verbose_eval' argument is deprecated and will be removed in a future release of LightGBM. \"\n"
          ]
        },
        {
          "output_type": "stream",
          "name": "stdout",
          "text": [
            "[LightGBM] [Info] Total groups: 400706, total data: 2879509\n",
            "[LightGBM] [Warning] Auto-choosing col-wise multi-threading, the overhead of testing was 0.158292 seconds.\n",
            "You can set `force_col_wise=true` to remove the overhead.\n",
            "[LightGBM] [Info] Total Bins 568\n",
            "[LightGBM] [Info] Number of data points in the train set: 2879509, number of used features: 4\n",
            "[LightGBM] [Info] Total groups: 171750, total data: 1232861\n",
            "Training until validation scores don't improve for 100 rounds\n",
            "[20]\ttraining's ndcg@20: 0.809139\ttraining's map@20: 0.72895\ttraining's auc: 0.697773\tvalid_1's ndcg@20: 0.8077\tvalid_1's map@20: 0.727064\tvalid_1's auc: 0.695817\n",
            "[40]\ttraining's ndcg@20: 0.811632\ttraining's map@20: 0.73226\ttraining's auc: 0.702439\tvalid_1's ndcg@20: 0.809971\tvalid_1's map@20: 0.730115\tvalid_1's auc: 0.700494\n",
            "[60]\ttraining's ndcg@20: 0.813192\ttraining's map@20: 0.734358\ttraining's auc: 0.706132\tvalid_1's ndcg@20: 0.81149\tvalid_1's map@20: 0.732169\tvalid_1's auc: 0.704099\n",
            "[80]\ttraining's ndcg@20: 0.814381\ttraining's map@20: 0.73594\ttraining's auc: 0.708763\tvalid_1's ndcg@20: 0.812802\tvalid_1's map@20: 0.733934\tvalid_1's auc: 0.706708\n",
            "[100]\ttraining's ndcg@20: 0.815412\ttraining's map@20: 0.737309\ttraining's auc: 0.710823\tvalid_1's ndcg@20: 0.813625\tvalid_1's map@20: 0.735047\tvalid_1's auc: 0.708713\n",
            "[120]\ttraining's ndcg@20: 0.816144\ttraining's map@20: 0.738288\ttraining's auc: 0.712114\tvalid_1's ndcg@20: 0.81419\tvalid_1's map@20: 0.735811\tvalid_1's auc: 0.709921\n",
            "[140]\ttraining's ndcg@20: 0.816626\ttraining's map@20: 0.73894\ttraining's auc: 0.712908\tvalid_1's ndcg@20: 0.814525\tvalid_1's map@20: 0.736253\tvalid_1's auc: 0.710643\n",
            "[160]\ttraining's ndcg@20: 0.817047\ttraining's map@20: 0.739487\ttraining's auc: 0.71334\tvalid_1's ndcg@20: 0.814697\tvalid_1's map@20: 0.736483\tvalid_1's auc: 0.710948\n",
            "[180]\ttraining's ndcg@20: 0.817477\ttraining's map@20: 0.740054\ttraining's auc: 0.713968\tvalid_1's ndcg@20: 0.814835\tvalid_1's map@20: 0.736658\tvalid_1's auc: 0.711402\n",
            "[200]\ttraining's ndcg@20: 0.817801\ttraining's map@20: 0.740484\ttraining's auc: 0.714413\tvalid_1's ndcg@20: 0.815044\tvalid_1's map@20: 0.736924\tvalid_1's auc: 0.711726\n",
            "[220]\ttraining's ndcg@20: 0.818172\ttraining's map@20: 0.740971\ttraining's auc: 0.714788\tvalid_1's ndcg@20: 0.815154\tvalid_1's map@20: 0.737079\tvalid_1's auc: 0.711943\n",
            "[240]\ttraining's ndcg@20: 0.818434\ttraining's map@20: 0.741324\ttraining's auc: 0.715096\tvalid_1's ndcg@20: 0.815218\tvalid_1's map@20: 0.737169\tvalid_1's auc: 0.71208\n",
            "[260]\ttraining's ndcg@20: 0.818706\ttraining's map@20: 0.74168\ttraining's auc: 0.715364\tvalid_1's ndcg@20: 0.815305\tvalid_1's map@20: 0.737273\tvalid_1's auc: 0.712202\n",
            "[280]\ttraining's ndcg@20: 0.819015\ttraining's map@20: 0.742083\ttraining's auc: 0.715725\tvalid_1's ndcg@20: 0.815373\tvalid_1's map@20: 0.737368\tvalid_1's auc: 0.712438\n",
            "[300]\ttraining's ndcg@20: 0.819306\ttraining's map@20: 0.742467\ttraining's auc: 0.716033\tvalid_1's ndcg@20: 0.815509\tvalid_1's map@20: 0.737542\tvalid_1's auc: 0.712568\n",
            "[320]\ttraining's ndcg@20: 0.819594\ttraining's map@20: 0.742843\ttraining's auc: 0.716294\tvalid_1's ndcg@20: 0.815573\tvalid_1's map@20: 0.737636\tvalid_1's auc: 0.712675\n",
            "[340]\ttraining's ndcg@20: 0.81981\ttraining's map@20: 0.743121\ttraining's auc: 0.716473\tvalid_1's ndcg@20: 0.815621\tvalid_1's map@20: 0.737696\tvalid_1's auc: 0.712729\n",
            "[360]\ttraining's ndcg@20: 0.819971\ttraining's map@20: 0.743335\ttraining's auc: 0.716617\tvalid_1's ndcg@20: 0.815648\tvalid_1's map@20: 0.737733\tvalid_1's auc: 0.712767\n",
            "[380]\ttraining's ndcg@20: 0.820244\ttraining's map@20: 0.74369\ttraining's auc: 0.716798\tvalid_1's ndcg@20: 0.815655\tvalid_1's map@20: 0.737742\tvalid_1's auc: 0.712805\n",
            "[400]\ttraining's ndcg@20: 0.820451\ttraining's map@20: 0.743961\ttraining's auc: 0.716973\tvalid_1's ndcg@20: 0.815663\tvalid_1's map@20: 0.737757\tvalid_1's auc: 0.712824\n",
            "[420]\ttraining's ndcg@20: 0.820689\ttraining's map@20: 0.744282\ttraining's auc: 0.717213\tvalid_1's ndcg@20: 0.815704\tvalid_1's map@20: 0.737814\tvalid_1's auc: 0.712896\n",
            "[440]\ttraining's ndcg@20: 0.820936\ttraining's map@20: 0.744605\ttraining's auc: 0.717455\tvalid_1's ndcg@20: 0.815742\tvalid_1's map@20: 0.737856\tvalid_1's auc: 0.712974\n",
            "[460]\ttraining's ndcg@20: 0.821173\ttraining's map@20: 0.744914\ttraining's auc: 0.717693\tvalid_1's ndcg@20: 0.8158\tvalid_1's map@20: 0.737926\tvalid_1's auc: 0.713075\n",
            "[480]\ttraining's ndcg@20: 0.821401\ttraining's map@20: 0.745211\ttraining's auc: 0.717845\tvalid_1's ndcg@20: 0.815714\tvalid_1's map@20: 0.737814\tvalid_1's auc: 0.713078\n",
            "[500]\ttraining's ndcg@20: 0.821637\ttraining's map@20: 0.745512\ttraining's auc: 0.718086\tvalid_1's ndcg@20: 0.815779\tvalid_1's map@20: 0.73791\tvalid_1's auc: 0.713162\n",
            "[520]\ttraining's ndcg@20: 0.821848\ttraining's map@20: 0.745792\ttraining's auc: 0.718278\tvalid_1's ndcg@20: 0.815798\tvalid_1's map@20: 0.737935\tvalid_1's auc: 0.713189\n",
            "[540]\ttraining's ndcg@20: 0.822083\ttraining's map@20: 0.746102\ttraining's auc: 0.718497\tvalid_1's ndcg@20: 0.81585\tvalid_1's map@20: 0.738001\tvalid_1's auc: 0.71325\n",
            "[560]\ttraining's ndcg@20: 0.822211\ttraining's map@20: 0.746273\ttraining's auc: 0.718673\tvalid_1's ndcg@20: 0.815838\tvalid_1's map@20: 0.737987\tvalid_1's auc: 0.713278\n",
            "[580]\ttraining's ndcg@20: 0.8224\ttraining's map@20: 0.746519\ttraining's auc: 0.718847\tvalid_1's ndcg@20: 0.815834\tvalid_1's map@20: 0.737992\tvalid_1's auc: 0.713306\n",
            "[600]\ttraining's ndcg@20: 0.822622\ttraining's map@20: 0.74681\ttraining's auc: 0.719025\tvalid_1's ndcg@20: 0.815801\tvalid_1's map@20: 0.737964\tvalid_1's auc: 0.713323\n",
            "[620]\ttraining's ndcg@20: 0.822844\ttraining's map@20: 0.747099\ttraining's auc: 0.719204\tvalid_1's ndcg@20: 0.815832\tvalid_1's map@20: 0.738001\tvalid_1's auc: 0.713339\n",
            "Early stopping, best iteration is:\n",
            "[537]\ttraining's ndcg@20: 0.822047\ttraining's map@20: 0.746053\ttraining's auc: 0.718466\tvalid_1's ndcg@20: 0.815866\tvalid_1's map@20: 0.738024\tvalid_1's auc: 0.713249\n",
            "Evaluated only: ndcg@20\n"
          ]
        }
      ]
    },
    {
      "cell_type": "markdown",
      "source": [
        "## Оценка гибридной модели"
      ],
      "metadata": {
        "id": "KKENcnPPN3ga"
      }
    },
    {
      "cell_type": "markdown",
      "source": [
        "Отберём по 30 кандидатов для каждого пользователя для предсказания на test периоде."
      ],
      "metadata": {
        "id": "yuEPXy3OU88r"
      }
    },
    {
      "cell_type": "code",
      "source": [
        "predictions_first_test = predict_lightfm(\n",
        "    model_warp_kos,\n",
        "    lfm_train,\n",
        "    test,\n",
        "    all_cols,\n",
        "    lightfm_mapping,\n",
        "    top_N=30,\n",
        "    relevances_needed=False\n",
        ")"
      ],
      "metadata": {
        "id": "7xcQT2dGN80v"
      },
      "execution_count": null,
      "outputs": []
    },
    {
      "cell_type": "code",
      "source": [
        "del model_warp_kos\n",
        "\n",
        "gc.collect()"
      ],
      "metadata": {
        "id": "NF2sKkyoHWb0"
      },
      "execution_count": null,
      "outputs": []
    },
    {
      "cell_type": "code",
      "source": [
        "predictions_second_test = predict_lightfm(\n",
        "    model_warp,\n",
        "    lfm_train,\n",
        "    test,\n",
        "    all_cols,\n",
        "    lightfm_mapping,\n",
        "    top_N=30,\n",
        "    relevances_needed=False\n",
        ")"
      ],
      "metadata": {
        "id": "iIoMclb2Hatc"
      },
      "execution_count": null,
      "outputs": []
    },
    {
      "cell_type": "code",
      "source": [
        "del model_warp\n",
        "del lfm_train, all_cols, lightfm_mapping\n",
        "\n",
        "gc.collect()"
      ],
      "metadata": {
        "id": "60iOrLpPV-YL",
        "colab": {
          "base_uri": "https://localhost:8080/"
        },
        "outputId": "8ae0a797-30d5-4f1e-ee06-f6ae4fa2c98a"
      },
      "execution_count": null,
      "outputs": [
        {
          "output_type": "execute_result",
          "data": {
            "text/plain": [
              "0"
            ]
          },
          "metadata": {},
          "execution_count": 39
        }
      ]
    },
    {
      "cell_type": "code",
      "source": [
        "predictions_first_test = predictions_first_test.rename(columns={\"rank\": \"rank_first\"})\n",
        "predictions_second_test = predictions_second_test.rename(columns={\"rank\": \"rank_second\"})"
      ],
      "metadata": {
        "id": "8_GjYqGcYG6n"
      },
      "execution_count": null,
      "outputs": []
    },
    {
      "cell_type": "markdown",
      "source": [
        "Объединим кандидатов."
      ],
      "metadata": {
        "id": "7994FHg_HfhF"
      }
    },
    {
      "cell_type": "code",
      "source": [
        "predictions_test = pd.merge(\n",
        "    predictions_first_test,\n",
        "    predictions_second_test,\n",
        "    on=[\"user_id\", \"item_id\"],\n",
        "    how=\"outer\"\n",
        ")"
      ],
      "metadata": {
        "colab": {
          "base_uri": "https://localhost:8080/"
        },
        "id": "Cwfh6MucXdfx",
        "outputId": "43eb87d3-9d16-42d2-a5b3-ee68e985763a"
      },
      "execution_count": null,
      "outputs": [
        {
          "output_type": "stream",
          "name": "stderr",
          "text": [
            "<ipython-input-44-d6a3b5f68fa4>:1: FutureWarning: In a future version, the Index constructor will not infer numeric dtypes when passed object-dtype sequences (matching Series behavior)\n",
            "  predictions_test = pd.merge(predictions_first_test, predictions_second_test, on=[\"user_id\", \"item_id\"], how=\"outer\")\n"
          ]
        }
      ]
    },
    {
      "cell_type": "code",
      "source": [
        "predictions_test[\"item_id\"] = predictions_test[\"item_id\"].astype(np.int64)"
      ],
      "metadata": {
        "id": "XRf9HjFkKyKK"
      },
      "execution_count": null,
      "outputs": []
    },
    {
      "cell_type": "code",
      "source": [
        "del predictions_first_test, predictions_second_test, lfm_pred\n",
        "del train_test, transform_interactions, make_dataset, generate_lightfm_recs_mapper\n",
        "del predict_lightfm, candidates_relevances, get_query_id, positive_negative_sampling\n",
        "del interaction_matrix_train, interaction_matrix_test, interactions, params, path, train_lgbm_dataset, val_lgbm_dataset\n",
        "\n",
        "gc.collect()"
      ],
      "metadata": {
        "id": "fzI8DMXcYMaS",
        "colab": {
          "base_uri": "https://localhost:8080/"
        },
        "outputId": "a7b3aac8-fec8-4d06-a934-1fb83760de49"
      },
      "execution_count": null,
      "outputs": [
        {
          "output_type": "execute_result",
          "data": {
            "text/plain": [
              "0"
            ]
          },
          "metadata": {},
          "execution_count": 46
        }
      ]
    },
    {
      "cell_type": "markdown",
      "source": [
        "Посчитаем прогнозы скоров от бустинга."
      ],
      "metadata": {
        "id": "Fqjr_2yViwJS"
      }
    },
    {
      "cell_type": "code",
      "source": [
        "predictions_test[\"lgbm_pred\"] = booster.predict(predictions_test)"
      ],
      "metadata": {
        "id": "dIzl3OotivZZ"
      },
      "execution_count": null,
      "outputs": []
    },
    {
      "cell_type": "code",
      "source": [
        "del booster\n",
        "\n",
        "gc.collect()"
      ],
      "metadata": {
        "colab": {
          "base_uri": "https://localhost:8080/"
        },
        "id": "bY4MF5bva6j8",
        "outputId": "921c5e6c-6758-43fd-bdf7-4ed46a992f0e"
      },
      "execution_count": null,
      "outputs": [
        {
          "output_type": "execute_result",
          "data": {
            "text/plain": [
              "0"
            ]
          },
          "metadata": {},
          "execution_count": 50
        }
      ]
    },
    {
      "cell_type": "markdown",
      "source": [
        "Проставим значения релевантности."
      ],
      "metadata": {
        "id": "xn_ZEd9wjc-V"
      }
    },
    {
      "cell_type": "code",
      "source": [
        "test = test.drop(columns=\"amount\")\n",
        "test[\"relevance\"] = 1"
      ],
      "metadata": {
        "id": "Rxla7WqWbN0j"
      },
      "execution_count": null,
      "outputs": []
    },
    {
      "cell_type": "code",
      "source": [
        "predictions_test = predictions_test.sort_values(\n",
        "    by=[\"user_id\", \"lgbm_pred\"], ascending=[True, False])"
      ],
      "metadata": {
        "id": "K_v0cH7uK5Ux"
      },
      "execution_count": null,
      "outputs": []
    },
    {
      "cell_type": "code",
      "source": [
        "predictions_test = pd.merge(\n",
        "    predictions_test,\n",
        "    test,\n",
        "    on=[\"user_id\", \"item_id\"],\n",
        "    how=\"left\"\n",
        ")"
      ],
      "metadata": {
        "id": "hs5aZMqajDJW"
      },
      "execution_count": null,
      "outputs": []
    },
    {
      "cell_type": "code",
      "source": [
        "predictions_test[\"relevance\"] = predictions_test[\"relevance\"].fillna(0)\n",
        "predictions_test[\"relevance\"] = predictions_test[\"relevance\"].astype(int)"
      ],
      "metadata": {
        "id": "6Yjzv2ybLAxd"
      },
      "execution_count": null,
      "outputs": []
    },
    {
      "cell_type": "code",
      "source": [
        "predictions_test.head()"
      ],
      "metadata": {
        "colab": {
          "base_uri": "https://localhost:8080/",
          "height": 206
        },
        "id": "Inu_ZVGNdpZU",
        "outputId": "3e706bf1-7941-4fad-f1e6-2ebd3737aefd"
      },
      "execution_count": null,
      "outputs": [
        {
          "output_type": "execute_result",
          "data": {
            "text/plain": [
              "   user_id  item_id  rank_first  rank_second  lgbm_pred  relevance\n",
              "0        2     1571         8.0          NaN   0.774534          0\n",
              "1        2      406         6.0          NaN   0.614867          0\n",
              "2        2      593         2.0          NaN   0.485930          0\n",
              "3        2      360         NaN         25.0   0.443464          0\n",
              "4        2      504         1.0          NaN   0.381070          0"
            ],
            "text/html": [
              "\n",
              "\n",
              "  <div id=\"df-b1b6cfba-bf0e-4f3a-8d04-e4079eed86a1\">\n",
              "    <div class=\"colab-df-container\">\n",
              "      <div>\n",
              "<style scoped>\n",
              "    .dataframe tbody tr th:only-of-type {\n",
              "        vertical-align: middle;\n",
              "    }\n",
              "\n",
              "    .dataframe tbody tr th {\n",
              "        vertical-align: top;\n",
              "    }\n",
              "\n",
              "    .dataframe thead th {\n",
              "        text-align: right;\n",
              "    }\n",
              "</style>\n",
              "<table border=\"1\" class=\"dataframe\">\n",
              "  <thead>\n",
              "    <tr style=\"text-align: right;\">\n",
              "      <th></th>\n",
              "      <th>user_id</th>\n",
              "      <th>item_id</th>\n",
              "      <th>rank_first</th>\n",
              "      <th>rank_second</th>\n",
              "      <th>lgbm_pred</th>\n",
              "      <th>relevance</th>\n",
              "    </tr>\n",
              "  </thead>\n",
              "  <tbody>\n",
              "    <tr>\n",
              "      <th>0</th>\n",
              "      <td>2</td>\n",
              "      <td>1571</td>\n",
              "      <td>8.0</td>\n",
              "      <td>NaN</td>\n",
              "      <td>0.774534</td>\n",
              "      <td>0</td>\n",
              "    </tr>\n",
              "    <tr>\n",
              "      <th>1</th>\n",
              "      <td>2</td>\n",
              "      <td>406</td>\n",
              "      <td>6.0</td>\n",
              "      <td>NaN</td>\n",
              "      <td>0.614867</td>\n",
              "      <td>0</td>\n",
              "    </tr>\n",
              "    <tr>\n",
              "      <th>2</th>\n",
              "      <td>2</td>\n",
              "      <td>593</td>\n",
              "      <td>2.0</td>\n",
              "      <td>NaN</td>\n",
              "      <td>0.485930</td>\n",
              "      <td>0</td>\n",
              "    </tr>\n",
              "    <tr>\n",
              "      <th>3</th>\n",
              "      <td>2</td>\n",
              "      <td>360</td>\n",
              "      <td>NaN</td>\n",
              "      <td>25.0</td>\n",
              "      <td>0.443464</td>\n",
              "      <td>0</td>\n",
              "    </tr>\n",
              "    <tr>\n",
              "      <th>4</th>\n",
              "      <td>2</td>\n",
              "      <td>504</td>\n",
              "      <td>1.0</td>\n",
              "      <td>NaN</td>\n",
              "      <td>0.381070</td>\n",
              "      <td>0</td>\n",
              "    </tr>\n",
              "  </tbody>\n",
              "</table>\n",
              "</div>\n",
              "      <button class=\"colab-df-convert\" onclick=\"convertToInteractive('df-b1b6cfba-bf0e-4f3a-8d04-e4079eed86a1')\"\n",
              "              title=\"Convert this dataframe to an interactive table.\"\n",
              "              style=\"display:none;\">\n",
              "\n",
              "  <svg xmlns=\"http://www.w3.org/2000/svg\" height=\"24px\"viewBox=\"0 0 24 24\"\n",
              "       width=\"24px\">\n",
              "    <path d=\"M0 0h24v24H0V0z\" fill=\"none\"/>\n",
              "    <path d=\"M18.56 5.44l.94 2.06.94-2.06 2.06-.94-2.06-.94-.94-2.06-.94 2.06-2.06.94zm-11 1L8.5 8.5l.94-2.06 2.06-.94-2.06-.94L8.5 2.5l-.94 2.06-2.06.94zm10 10l.94 2.06.94-2.06 2.06-.94-2.06-.94-.94-2.06-.94 2.06-2.06.94z\"/><path d=\"M17.41 7.96l-1.37-1.37c-.4-.4-.92-.59-1.43-.59-.52 0-1.04.2-1.43.59L10.3 9.45l-7.72 7.72c-.78.78-.78 2.05 0 2.83L4 21.41c.39.39.9.59 1.41.59.51 0 1.02-.2 1.41-.59l7.78-7.78 2.81-2.81c.8-.78.8-2.07 0-2.86zM5.41 20L4 18.59l7.72-7.72 1.47 1.35L5.41 20z\"/>\n",
              "  </svg>\n",
              "      </button>\n",
              "\n",
              "\n",
              "\n",
              "    <div id=\"df-4fac5ac8-a5f8-4330-8032-3f04d4cd25a1\">\n",
              "      <button class=\"colab-df-quickchart\" onclick=\"quickchart('df-4fac5ac8-a5f8-4330-8032-3f04d4cd25a1')\"\n",
              "              title=\"Suggest charts.\"\n",
              "              style=\"display:none;\">\n",
              "\n",
              "<svg xmlns=\"http://www.w3.org/2000/svg\" height=\"24px\"viewBox=\"0 0 24 24\"\n",
              "     width=\"24px\">\n",
              "    <g>\n",
              "        <path d=\"M19 3H5c-1.1 0-2 .9-2 2v14c0 1.1.9 2 2 2h14c1.1 0 2-.9 2-2V5c0-1.1-.9-2-2-2zM9 17H7v-7h2v7zm4 0h-2V7h2v10zm4 0h-2v-4h2v4z\"/>\n",
              "    </g>\n",
              "</svg>\n",
              "      </button>\n",
              "    </div>\n",
              "\n",
              "<style>\n",
              "  .colab-df-quickchart {\n",
              "    background-color: #E8F0FE;\n",
              "    border: none;\n",
              "    border-radius: 50%;\n",
              "    cursor: pointer;\n",
              "    display: none;\n",
              "    fill: #1967D2;\n",
              "    height: 32px;\n",
              "    padding: 0 0 0 0;\n",
              "    width: 32px;\n",
              "  }\n",
              "\n",
              "  .colab-df-quickchart:hover {\n",
              "    background-color: #E2EBFA;\n",
              "    box-shadow: 0px 1px 2px rgba(60, 64, 67, 0.3), 0px 1px 3px 1px rgba(60, 64, 67, 0.15);\n",
              "    fill: #174EA6;\n",
              "  }\n",
              "\n",
              "  [theme=dark] .colab-df-quickchart {\n",
              "    background-color: #3B4455;\n",
              "    fill: #D2E3FC;\n",
              "  }\n",
              "\n",
              "  [theme=dark] .colab-df-quickchart:hover {\n",
              "    background-color: #434B5C;\n",
              "    box-shadow: 0px 1px 3px 1px rgba(0, 0, 0, 0.15);\n",
              "    filter: drop-shadow(0px 1px 2px rgba(0, 0, 0, 0.3));\n",
              "    fill: #FFFFFF;\n",
              "  }\n",
              "</style>\n",
              "\n",
              "    <script>\n",
              "      async function quickchart(key) {\n",
              "        const containerElement = document.querySelector('#' + key);\n",
              "        const charts = await google.colab.kernel.invokeFunction(\n",
              "            'suggestCharts', [key], {});\n",
              "      }\n",
              "    </script>\n",
              "\n",
              "      <script>\n",
              "\n",
              "function displayQuickchartButton(domScope) {\n",
              "  let quickchartButtonEl =\n",
              "    domScope.querySelector('#df-4fac5ac8-a5f8-4330-8032-3f04d4cd25a1 button.colab-df-quickchart');\n",
              "  quickchartButtonEl.style.display =\n",
              "    google.colab.kernel.accessAllowed ? 'block' : 'none';\n",
              "}\n",
              "\n",
              "        displayQuickchartButton(document);\n",
              "      </script>\n",
              "      <style>\n",
              "    .colab-df-container {\n",
              "      display:flex;\n",
              "      flex-wrap:wrap;\n",
              "      gap: 12px;\n",
              "    }\n",
              "\n",
              "    .colab-df-convert {\n",
              "      background-color: #E8F0FE;\n",
              "      border: none;\n",
              "      border-radius: 50%;\n",
              "      cursor: pointer;\n",
              "      display: none;\n",
              "      fill: #1967D2;\n",
              "      height: 32px;\n",
              "      padding: 0 0 0 0;\n",
              "      width: 32px;\n",
              "    }\n",
              "\n",
              "    .colab-df-convert:hover {\n",
              "      background-color: #E2EBFA;\n",
              "      box-shadow: 0px 1px 2px rgba(60, 64, 67, 0.3), 0px 1px 3px 1px rgba(60, 64, 67, 0.15);\n",
              "      fill: #174EA6;\n",
              "    }\n",
              "\n",
              "    [theme=dark] .colab-df-convert {\n",
              "      background-color: #3B4455;\n",
              "      fill: #D2E3FC;\n",
              "    }\n",
              "\n",
              "    [theme=dark] .colab-df-convert:hover {\n",
              "      background-color: #434B5C;\n",
              "      box-shadow: 0px 1px 3px 1px rgba(0, 0, 0, 0.15);\n",
              "      filter: drop-shadow(0px 1px 2px rgba(0, 0, 0, 0.3));\n",
              "      fill: #FFFFFF;\n",
              "    }\n",
              "  </style>\n",
              "\n",
              "      <script>\n",
              "        const buttonEl =\n",
              "          document.querySelector('#df-b1b6cfba-bf0e-4f3a-8d04-e4079eed86a1 button.colab-df-convert');\n",
              "        buttonEl.style.display =\n",
              "          google.colab.kernel.accessAllowed ? 'block' : 'none';\n",
              "\n",
              "        async function convertToInteractive(key) {\n",
              "          const element = document.querySelector('#df-b1b6cfba-bf0e-4f3a-8d04-e4079eed86a1');\n",
              "          const dataTable =\n",
              "            await google.colab.kernel.invokeFunction('convertToInteractive',\n",
              "                                                     [key], {});\n",
              "          if (!dataTable) return;\n",
              "\n",
              "          const docLinkHtml = 'Like what you see? Visit the ' +\n",
              "            '<a target=\"_blank\" href=https://colab.research.google.com/notebooks/data_table.ipynb>data table notebook</a>'\n",
              "            + ' to learn more about interactive tables.';\n",
              "          element.innerHTML = '';\n",
              "          dataTable['output_type'] = 'display_data';\n",
              "          await google.colab.output.renderOutput(dataTable, element);\n",
              "          const docLink = document.createElement('div');\n",
              "          docLink.innerHTML = docLinkHtml;\n",
              "          element.appendChild(docLink);\n",
              "        }\n",
              "      </script>\n",
              "    </div>\n",
              "  </div>\n"
            ]
          },
          "metadata": {},
          "execution_count": 61
        }
      ]
    },
    {
      "cell_type": "code",
      "source": [
        "predictions_test.user_id.nunique(), predictions_test.item_id.nunique()"
      ],
      "metadata": {
        "colab": {
          "base_uri": "https://localhost:8080/"
        },
        "id": "Aa9e7JATiPTN",
        "outputId": "3d5b0cee-e2ea-4864-e2f2-d97582da2879"
      },
      "execution_count": null,
      "outputs": [
        {
          "output_type": "execute_result",
          "data": {
            "text/plain": [
              "(573031, 1137)"
            ]
          },
          "metadata": {},
          "execution_count": 79
        }
      ]
    },
    {
      "cell_type": "markdown",
      "source": [
        "Достанем необходимые векторы значений."
      ],
      "metadata": {
        "id": "7xcEPq7ejqlA"
      }
    },
    {
      "cell_type": "code",
      "source": [
        "preds_array, relevances_array, recommended_items_ids_array, relevant_items_ids_array = extract_vectors(\n",
        "    predictions_test,\n",
        "    test,\n",
        "    rank_column_name=\"lgbm_pred\"\n",
        ")"
      ],
      "metadata": {
        "id": "qrXIyNk5jbqH",
        "colab": {
          "base_uri": "https://localhost:8080/"
        },
        "outputId": "a96b7c59-1b55-451b-bc3d-6da952824f00"
      },
      "execution_count": null,
      "outputs": [
        {
          "output_type": "stream",
          "name": "stderr",
          "text": [
            "100%|██████████| 573031/573031 [00:14<00:00, 38234.13it/s]\n",
            "<ipython-input-5-e0bad87030c7>:20: VisibleDeprecationWarning: Creating an ndarray from ragged nested sequences (which is a list-or-tuple of lists-or-tuples-or ndarrays with different lengths or shapes) is deprecated. If you meant to do this, you must specify 'dtype=object' when creating the ndarray.\n",
            "  ranks_array = np.array(ranks_array)\n",
            "<ipython-input-5-e0bad87030c7>:21: VisibleDeprecationWarning: Creating an ndarray from ragged nested sequences (which is a list-or-tuple of lists-or-tuples-or ndarrays with different lengths or shapes) is deprecated. If you meant to do this, you must specify 'dtype=object' when creating the ndarray.\n",
            "  relevances_array = np.array(relevances_array)\n",
            "<ipython-input-5-e0bad87030c7>:22: VisibleDeprecationWarning: Creating an ndarray from ragged nested sequences (which is a list-or-tuple of lists-or-tuples-or ndarrays with different lengths or shapes) is deprecated. If you meant to do this, you must specify 'dtype=object' when creating the ndarray.\n",
            "  recommended_items_ids_array = np.array(recommended_items_ids_array)\n",
            "<ipython-input-5-e0bad87030c7>:23: VisibleDeprecationWarning: Creating an ndarray from ragged nested sequences (which is a list-or-tuple of lists-or-tuples-or ndarrays with different lengths or shapes) is deprecated. If you meant to do this, you must specify 'dtype=object' when creating the ndarray.\n",
            "  relevant_items_ids_array = np.array(relevant_items_ids_array)\n"
          ]
        }
      ]
    },
    {
      "cell_type": "markdown",
      "source": [
        "Наконец, посмотрим на качество бустинга."
      ],
      "metadata": {
        "id": "9mDIwf_rNY4H"
      }
    },
    {
      "cell_type": "code",
      "source": [
        "get_metrics(\n",
        "    preds_array,\n",
        "    relevances_array,\n",
        "    recommended_items_ids_array,\n",
        "    relevant_items_ids_array,\n",
        "    is_higher_better=True,\n",
        "    k=20\n",
        ")"
      ],
      "metadata": {
        "colab": {
          "base_uri": "https://localhost:8080/"
        },
        "id": "tOyQAdx-LJ1u",
        "outputId": "e6526f4d-bd8b-429d-9ba4-d3235a809de8"
      },
      "execution_count": null,
      "outputs": [
        {
          "output_type": "stream",
          "name": "stderr",
          "text": [
            "100%|██████████| 573031/573031 [00:26<00:00, 21642.74it/s]\n",
            "100%|██████████| 573031/573031 [04:40<00:00, 2043.30it/s]\n",
            "100%|██████████| 573031/573031 [02:57<00:00, 3227.59it/s]\n"
          ]
        },
        {
          "output_type": "execute_result",
          "data": {
            "text/plain": [
              "{'MAP@20': 0.18398346761769038,\n",
              " 'MAR@20': 0.13874130064485937,\n",
              " 'NDCG@20': 0.2579615685570055}"
            ]
          },
          "metadata": {},
          "execution_count": 45
        }
      ]
    },
    {
      "cell_type": "markdown",
      "source": [
        "# Результаты"
      ],
      "metadata": {
        "id": "X7SmxbpDywWt"
      }
    },
    {
      "cell_type": "markdown",
      "source": [
        "![Снимок экрана (1378).png](data:image/png;base64,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)"
      ],
      "metadata": {
        "id": "HZbgGbx_IKZF"
      }
    }
  ]
}
{
  "nbformat": 4,
  "nbformat_minor": 0,
  "metadata": {
    "colab": {
      "provenance": [],
      "toc_visible": true
    },
    "kernelspec": {
      "name": "python3",
      "display_name": "Python 3"
    },
    "language_info": {
      "name": "python"
    },
    "widgets": {
      "application/vnd.jupyter.widget-state+json": {
        "781de31f0076489d99a1e877747f3b28": {
          "model_module": "@jupyter-widgets/controls",
          "model_name": "HBoxModel",
          "model_module_version": "1.5.0",
          "state": {
            "_dom_classes": [],
            "_model_module": "@jupyter-widgets/controls",
            "_model_module_version": "1.5.0",
            "_model_name": "HBoxModel",
            "_view_count": null,
            "_view_module": "@jupyter-widgets/controls",
            "_view_module_version": "1.5.0",
            "_view_name": "HBoxView",
            "box_style": "",
            "children": [
              "IPY_MODEL_11c7ea37411447b4a98143d0d14527d7",
              "IPY_MODEL_2ce9db66d2c348ac8f4effb4562b9386",
              "IPY_MODEL_e36973b20d32458f8aae8238284ffe0c"
            ],
            "layout": "IPY_MODEL_28ed5851321b4464a35a8f5cd6a8c30f"
          }
        },
        "11c7ea37411447b4a98143d0d14527d7": {
          "model_module": "@jupyter-widgets/controls",
          "model_name": "HTMLModel",
          "model_module_version": "1.5.0",
          "state": {
            "_dom_classes": [],
            "_model_module": "@jupyter-widgets/controls",
            "_model_module_version": "1.5.0",
            "_model_name": "HTMLModel",
            "_view_count": null,
            "_view_module": "@jupyter-widgets/controls",
            "_view_module_version": "1.5.0",
            "_view_name": "HTMLView",
            "description": "",
            "description_tooltip": null,
            "layout": "IPY_MODEL_67edd226cb074513bf1ae10e4a214fa3",
            "placeholder": "​",
            "style": "IPY_MODEL_38ffbbaddc38465081b7d6432e4b929e",
            "value": "100%"
          }
        },
        "2ce9db66d2c348ac8f4effb4562b9386": {
          "model_module": "@jupyter-widgets/controls",
          "model_name": "FloatProgressModel",
          "model_module_version": "1.5.0",
          "state": {
            "_dom_classes": [],
            "_model_module": "@jupyter-widgets/controls",
            "_model_module_version": "1.5.0",
            "_model_name": "FloatProgressModel",
            "_view_count": null,
            "_view_module": "@jupyter-widgets/controls",
            "_view_module_version": "1.5.0",
            "_view_name": "ProgressView",
            "bar_style": "success",
            "description": "",
            "description_tooltip": null,
            "layout": "IPY_MODEL_57aa1fa18adf4038a0744b23bd742a6e",
            "max": 20,
            "min": 0,
            "orientation": "horizontal",
            "style": "IPY_MODEL_fb59c2ffb7704ecfae8d55b8eed96c69",
            "value": 20
          }
        },
        "e36973b20d32458f8aae8238284ffe0c": {
          "model_module": "@jupyter-widgets/controls",
          "model_name": "HTMLModel",
          "model_module_version": "1.5.0",
          "state": {
            "_dom_classes": [],
            "_model_module": "@jupyter-widgets/controls",
            "_model_module_version": "1.5.0",
            "_model_name": "HTMLModel",
            "_view_count": null,
            "_view_module": "@jupyter-widgets/controls",
            "_view_module_version": "1.5.0",
            "_view_name": "HTMLView",
            "description": "",
            "description_tooltip": null,
            "layout": "IPY_MODEL_e14ad3ebff924804906295212a89eebe",
            "placeholder": "​",
            "style": "IPY_MODEL_6f2d5bb48ab8484d91565d19b09954e8",
            "value": " 20/20 [18:57&lt;00:00, 51.92s/it]"
          }
        },
        "28ed5851321b4464a35a8f5cd6a8c30f": {
          "model_module": "@jupyter-widgets/base",
          "model_name": "LayoutModel",
          "model_module_version": "1.2.0",
          "state": {
            "_model_module": "@jupyter-widgets/base",
            "_model_module_version": "1.2.0",
            "_model_name": "LayoutModel",
            "_view_count": null,
            "_view_module": "@jupyter-widgets/base",
            "_view_module_version": "1.2.0",
            "_view_name": "LayoutView",
            "align_content": null,
            "align_items": null,
            "align_self": null,
            "border": null,
            "bottom": null,
            "display": null,
            "flex": null,
            "flex_flow": null,
            "grid_area": null,
            "grid_auto_columns": null,
            "grid_auto_flow": null,
            "grid_auto_rows": null,
            "grid_column": null,
            "grid_gap": null,
            "grid_row": null,
            "grid_template_areas": null,
            "grid_template_columns": null,
            "grid_template_rows": null,
            "height": null,
            "justify_content": null,
            "justify_items": null,
            "left": null,
            "margin": null,
            "max_height": null,
            "max_width": null,
            "min_height": null,
            "min_width": null,
            "object_fit": null,
            "object_position": null,
            "order": null,
            "overflow": null,
            "overflow_x": null,
            "overflow_y": null,
            "padding": null,
            "right": null,
            "top": null,
            "visibility": null,
            "width": null
          }
        },
        "67edd226cb074513bf1ae10e4a214fa3": {
          "model_module": "@jupyter-widgets/base",
          "model_name": "LayoutModel",
          "model_module_version": "1.2.0",
          "state": {
            "_model_module": "@jupyter-widgets/base",
            "_model_module_version": "1.2.0",
            "_model_name": "LayoutModel",
            "_view_count": null,
            "_view_module": "@jupyter-widgets/base",
            "_view_module_version": "1.2.0",
            "_view_name": "LayoutView",
            "align_content": null,
            "align_items": null,
            "align_self": null,
            "border": null,
            "bottom": null,
            "display": null,
            "flex": null,
            "flex_flow": null,
            "grid_area": null,
            "grid_auto_columns": null,
            "grid_auto_flow": null,
            "grid_auto_rows": null,
            "grid_column": null,
            "grid_gap": null,
            "grid_row": null,
            "grid_template_areas": null,
            "grid_template_columns": null,
            "grid_template_rows": null,
            "height": null,
            "justify_content": null,
            "justify_items": null,
            "left": null,
            "margin": null,
            "max_height": null,
            "max_width": null,
            "min_height": null,
            "min_width": null,
            "object_fit": null,
            "object_position": null,
            "order": null,
            "overflow": null,
            "overflow_x": null,
            "overflow_y": null,
            "padding": null,
            "right": null,
            "top": null,
            "visibility": null,
            "width": null
          }
        },
        "38ffbbaddc38465081b7d6432e4b929e": {
          "model_module": "@jupyter-widgets/controls",
          "model_name": "DescriptionStyleModel",
          "model_module_version": "1.5.0",
          "state": {
            "_model_module": "@jupyter-widgets/controls",
            "_model_module_version": "1.5.0",
            "_model_name": "DescriptionStyleModel",
            "_view_count": null,
            "_view_module": "@jupyter-widgets/base",
            "_view_module_version": "1.2.0",
            "_view_name": "StyleView",
            "description_width": ""
          }
        },
        "57aa1fa18adf4038a0744b23bd742a6e": {
          "model_module": "@jupyter-widgets/base",
          "model_name": "LayoutModel",
          "model_module_version": "1.2.0",
          "state": {
            "_model_module": "@jupyter-widgets/base",
            "_model_module_version": "1.2.0",
            "_model_name": "LayoutModel",
            "_view_count": null,
            "_view_module": "@jupyter-widgets/base",
            "_view_module_version": "1.2.0",
            "_view_name": "LayoutView",
            "align_content": null,
            "align_items": null,
            "align_self": null,
            "border": null,
            "bottom": null,
            "display": null,
            "flex": null,
            "flex_flow": null,
            "grid_area": null,
            "grid_auto_columns": null,
            "grid_auto_flow": null,
            "grid_auto_rows": null,
            "grid_column": null,
            "grid_gap": null,
            "grid_row": null,
            "grid_template_areas": null,
            "grid_template_columns": null,
            "grid_template_rows": null,
            "height": null,
            "justify_content": null,
            "justify_items": null,
            "left": null,
            "margin": null,
            "max_height": null,
            "max_width": null,
            "min_height": null,
            "min_width": null,
            "object_fit": null,
            "object_position": null,
            "order": null,
            "overflow": null,
            "overflow_x": null,
            "overflow_y": null,
            "padding": null,
            "right": null,
            "top": null,
            "visibility": null,
            "width": null
          }
        },
        "fb59c2ffb7704ecfae8d55b8eed96c69": {
          "model_module": "@jupyter-widgets/controls",
          "model_name": "ProgressStyleModel",
          "model_module_version": "1.5.0",
          "state": {
            "_model_module": "@jupyter-widgets/controls",
            "_model_module_version": "1.5.0",
            "_model_name": "ProgressStyleModel",
            "_view_count": null,
            "_view_module": "@jupyter-widgets/base",
            "_view_module_version": "1.2.0",
            "_view_name": "StyleView",
            "bar_color": null,
            "description_width": ""
          }
        },
        "e14ad3ebff924804906295212a89eebe": {
          "model_module": "@jupyter-widgets/base",
          "model_name": "LayoutModel",
          "model_module_version": "1.2.0",
          "state": {
            "_model_module": "@jupyter-widgets/base",
            "_model_module_version": "1.2.0",
            "_model_name": "LayoutModel",
            "_view_count": null,
            "_view_module": "@jupyter-widgets/base",
            "_view_module_version": "1.2.0",
            "_view_name": "LayoutView",
            "align_content": null,
            "align_items": null,
            "align_self": null,
            "border": null,
            "bottom": null,
            "display": null,
            "flex": null,
            "flex_flow": null,
            "grid_area": null,
            "grid_auto_columns": null,
            "grid_auto_flow": null,
            "grid_auto_rows": null,
            "grid_column": null,
            "grid_gap": null,
            "grid_row": null,
            "grid_template_areas": null,
            "grid_template_columns": null,
            "grid_template_rows": null,
            "height": null,
            "justify_content": null,
            "justify_items": null,
            "left": null,
            "margin": null,
            "max_height": null,
            "max_width": null,
            "min_height": null,
            "min_width": null,
            "object_fit": null,
            "object_position": null,
            "order": null,
            "overflow": null,
            "overflow_x": null,
            "overflow_y": null,
            "padding": null,
            "right": null,
            "top": null,
            "visibility": null,
            "width": null
          }
        },
        "6f2d5bb48ab8484d91565d19b09954e8": {
          "model_module": "@jupyter-widgets/controls",
          "model_name": "DescriptionStyleModel",
          "model_module_version": "1.5.0",
          "state": {
            "_model_module": "@jupyter-widgets/controls",
            "_model_module_version": "1.5.0",
            "_model_name": "DescriptionStyleModel",
            "_view_count": null,
            "_view_module": "@jupyter-widgets/base",
            "_view_module_version": "1.2.0",
            "_view_name": "StyleView",
            "description_width": ""
          }
        }
      }
    }
  },
  "cells": [
    {
      "cell_type": "markdown",
      "source": [
        "Все модели обучаются и тестируются на одних и тех же датасетах."
      ],
      "metadata": {
        "id": "bbNa7JtJUWGa"
      }
    },
    {
      "cell_type": "code",
      "source": [
        "!pip install implicit"
      ],
      "metadata": {
        "colab": {
          "base_uri": "https://localhost:8080/"
        },
        "id": "AGo-GNNvdoeE",
        "outputId": "1de31302-0299-46c8-88de-a719759dd9fb"
      },
      "execution_count": null,
      "outputs": [
        {
          "output_type": "stream",
          "name": "stdout",
          "text": [
            "Collecting implicit\n",
            "  Downloading implicit-0.7.0-cp310-cp310-manylinux2014_x86_64.whl (9.2 MB)\n",
            "\u001b[2K     \u001b[90m━━━━━━━━━━━━━━━━━━━━━━━━━━━━━━━━━━━━━━━━\u001b[0m \u001b[32m9.2/9.2 MB\u001b[0m \u001b[31m40.8 MB/s\u001b[0m eta \u001b[36m0:00:00\u001b[0m\n",
            "\u001b[?25hRequirement already satisfied: numpy in /usr/local/lib/python3.10/dist-packages (from implicit) (1.22.4)\n",
            "Requirement already satisfied: scipy>=0.16 in /usr/local/lib/python3.10/dist-packages (from implicit) (1.10.1)\n",
            "Requirement already satisfied: tqdm>=4.27 in /usr/local/lib/python3.10/dist-packages (from implicit) (4.65.0)\n",
            "Installing collected packages: implicit\n",
            "Successfully installed implicit-0.7.0\n"
          ]
        }
      ]
    },
    {
      "cell_type": "code",
      "execution_count": null,
      "metadata": {
        "colab": {
          "base_uri": "https://localhost:8080/"
        },
        "id": "A8psw6ZgUOyV",
        "outputId": "2d8997d2-efec-436c-9a55-1a56734c68ca"
      },
      "outputs": [
        {
          "output_type": "stream",
          "name": "stdout",
          "text": [
            "Collecting lightfm\n",
            "  Downloading lightfm-1.17.tar.gz (316 kB)\n",
            "\u001b[?25l     \u001b[90m━━━━━━━━━━━━━━━━━━━━━━━━━━━━━━━━━━━━━━━━\u001b[0m \u001b[32m0.0/316.4 kB\u001b[0m \u001b[31m?\u001b[0m eta \u001b[36m-:--:--\u001b[0m\r\u001b[2K     \u001b[91m━━━━━━━━━━━━━━━━━━━━━━━━━━━━━━━━━━━━━\u001b[0m\u001b[91m╸\u001b[0m\u001b[90m━\u001b[0m \u001b[32m307.2/316.4 kB\u001b[0m \u001b[31m9.6 MB/s\u001b[0m eta \u001b[36m0:00:01\u001b[0m\r\u001b[2K     \u001b[90m━━━━━━━━━━━━━━━━━━━━━━━━━━━━━━━━━━━━━━━\u001b[0m \u001b[32m316.4/316.4 kB\u001b[0m \u001b[31m7.7 MB/s\u001b[0m eta \u001b[36m0:00:00\u001b[0m\n",
            "\u001b[?25h  Preparing metadata (setup.py) ... \u001b[?25l\u001b[?25hdone\n",
            "Requirement already satisfied: numpy in /usr/local/lib/python3.10/dist-packages (from lightfm) (1.22.4)\n",
            "Requirement already satisfied: scipy>=0.17.0 in /usr/local/lib/python3.10/dist-packages (from lightfm) (1.10.1)\n",
            "Requirement already satisfied: requests in /usr/local/lib/python3.10/dist-packages (from lightfm) (2.27.1)\n",
            "Requirement already satisfied: scikit-learn in /usr/local/lib/python3.10/dist-packages (from lightfm) (1.2.2)\n",
            "Requirement already satisfied: urllib3<1.27,>=1.21.1 in /usr/local/lib/python3.10/dist-packages (from requests->lightfm) (1.26.16)\n",
            "Requirement already satisfied: certifi>=2017.4.17 in /usr/local/lib/python3.10/dist-packages (from requests->lightfm) (2023.5.7)\n",
            "Requirement already satisfied: charset-normalizer~=2.0.0 in /usr/local/lib/python3.10/dist-packages (from requests->lightfm) (2.0.12)\n",
            "Requirement already satisfied: idna<4,>=2.5 in /usr/local/lib/python3.10/dist-packages (from requests->lightfm) (3.4)\n",
            "Requirement already satisfied: joblib>=1.1.1 in /usr/local/lib/python3.10/dist-packages (from scikit-learn->lightfm) (1.3.1)\n",
            "Requirement already satisfied: threadpoolctl>=2.0.0 in /usr/local/lib/python3.10/dist-packages (from scikit-learn->lightfm) (3.1.0)\n",
            "Building wheels for collected packages: lightfm\n",
            "  Building wheel for lightfm (setup.py) ... \u001b[?25l\u001b[?25hdone\n",
            "  Created wheel for lightfm: filename=lightfm-1.17-cp310-cp310-linux_x86_64.whl size=879172 sha256=66bb0d314521e56f8eafd985d20eaccfbfd994ce6fc1c46c3eff6b6282ff9b30\n",
            "  Stored in directory: /root/.cache/pip/wheels/4f/9b/7e/0b256f2168511d8fa4dae4fae0200fdbd729eb424a912ad636\n",
            "Successfully built lightfm\n",
            "Installing collected packages: lightfm\n",
            "Successfully installed lightfm-1.17\n"
          ]
        }
      ],
      "source": [
        "pip install lightfm"
      ]
    },
    {
      "cell_type": "code",
      "source": [
        "import gc\n",
        "import pandas as pd\n",
        "import numpy as np\n",
        "import tqdm\n",
        "from scipy.sparse import csr_matrix, coo_matrix\n",
        "\n",
        "from lightfm.data import Dataset\n",
        "from lightfm import LightFM\n",
        "from lightfm.evaluation import recall_at_k, precision_at_k, auc_score\n",
        "import lightgbm as lgbm\n",
        "\n",
        "from sklearn.model_selection import train_test_split\n",
        "from sklearn.utils import shuffle\n",
        "from sklearn.preprocessing import LabelEncoder\n",
        "\n",
        "from implicit.als import AlternatingLeastSquares\n",
        "from implicit.evaluation import mean_average_precision_at_k, ndcg_at_k, AUC_at_k"
      ],
      "metadata": {
        "id": "k3d3ebHhVHRW"
      },
      "execution_count": null,
      "outputs": []
    },
    {
      "cell_type": "markdown",
      "source": [
        "# Подготовка"
      ],
      "metadata": {
        "id": "WCkF7OD2S0kT"
      }
    },
    {
      "cell_type": "markdown",
      "source": [
        "## Данные"
      ],
      "metadata": {
        "id": "tE7rA02TTcYE"
      }
    },
    {
      "cell_type": "code",
      "source": [
        "path = \"/content/drive/MyDrive/WB School/data.csv.gzip\"\n",
        "interactions = pd.read_csv(path, compression=\"gzip\")\n",
        "interactions[\"order_ts\"] = pd.to_datetime(interactions[\"order_ts\"])"
      ],
      "metadata": {
        "id": "xW_ws1qrTjNK"
      },
      "execution_count": null,
      "outputs": []
    },
    {
      "cell_type": "markdown",
      "source": [
        "2 месяца отнесём в обучающую выборку, последний месяц - в тестовую:"
      ],
      "metadata": {
        "id": "LhrHaA5yUh4u"
      }
    },
    {
      "cell_type": "code",
      "source": [
        "train = interactions[interactions.order_ts <= \"2023-02-28 23:59:59.947831\"]\n",
        "test = interactions[interactions.order_ts > \"2023-02-28 23:59:59.947831\"]\n",
        "\n",
        "del interactions\n",
        "gc.collect()"
      ],
      "metadata": {
        "id": "3gmVqc1NTg71"
      },
      "execution_count": null,
      "outputs": []
    },
    {
      "cell_type": "markdown",
      "source": [
        "Оставим в тестовой выборке только тех пользователей и те товары, которые информация о взаимодействиях которых (с которыми) есть в обучающей выборке:"
      ],
      "metadata": {
        "id": "XzcS_wnaUpWp"
      }
    },
    {
      "cell_type": "code",
      "source": [
        "test = test[test[\"user_id\"].isin(train[\"user_id\"].unique())]\n",
        "test = test[test[\"item_id\"].isin(train[\"item_id\"].unique())]"
      ],
      "metadata": {
        "id": "RRR8L2TGTpYp"
      },
      "execution_count": null,
      "outputs": []
    },
    {
      "cell_type": "code",
      "source": [
        "train = train.drop_duplicates()\n",
        "test = test.drop_duplicates()"
      ],
      "metadata": {
        "id": "WxBKIzdNTwjT"
      },
      "execution_count": null,
      "outputs": []
    },
    {
      "cell_type": "markdown",
      "source": [
        "Приведём данные к необходимому для библиотек формату:"
      ],
      "metadata": {
        "id": "PwlCB44fU8_e"
      }
    },
    {
      "cell_type": "code",
      "source": [
        "user_ids_buffered = (x for x in train[\"user_id\"].unique())\n",
        "item_ids_buffered = (x for x in train[\"item_id\"].unique())"
      ],
      "metadata": {
        "id": "g9XRY660T2Mh"
      },
      "execution_count": null,
      "outputs": []
    },
    {
      "cell_type": "code",
      "source": [
        "dataset = Dataset()\n",
        "dataset.fit(\n",
        "  users=user_ids_buffered,\n",
        "  items=item_ids_buffered\n",
        ")"
      ],
      "metadata": {
        "id": "Bb1ca5KFT6IL"
      },
      "execution_count": null,
      "outputs": []
    },
    {
      "cell_type": "code",
      "source": [
        "train = train.groupby([\"user_id\", \"item_id\"], as_index=False).count().rename(columns={\"order_ts\": \"amount\"})\n",
        "test = test.groupby([\"user_id\", \"item_id\"], as_index=False).count().rename(columns={\"order_ts\": \"amount\"})"
      ],
      "metadata": {
        "id": "QBxX0kuqUGde"
      },
      "execution_count": null,
      "outputs": []
    },
    {
      "cell_type": "code",
      "source": [
        "def transform_interactions(interactions):\n",
        "  return interactions[[\"user_id\", \"item_id\", \"amount\"]].itertuples(index=False)"
      ],
      "metadata": {
        "id": "Zxd7rJC8UMN2"
      },
      "execution_count": null,
      "outputs": []
    },
    {
      "cell_type": "code",
      "source": [
        "interaction_matrix_train, _ = dataset.build_interactions(\n",
        "    transform_interactions(train))"
      ],
      "metadata": {
        "id": "H9IbH8_HUQIF"
      },
      "execution_count": null,
      "outputs": []
    },
    {
      "cell_type": "code",
      "source": [
        "interaction_matrix_test, _ = dataset.build_interactions(\n",
        "    transform_interactions(test))"
      ],
      "metadata": {
        "id": "4jbhHhgKUWDf"
      },
      "execution_count": null,
      "outputs": []
    },
    {
      "cell_type": "markdown",
      "source": [
        "Проверка:"
      ],
      "metadata": {
        "id": "VuNPxApsUdpC"
      }
    },
    {
      "cell_type": "code",
      "source": [
        "interaction_matrix_train.shape, interaction_matrix_test.shape"
      ],
      "metadata": {
        "id": "-Gj_QZT6UdCz"
      },
      "execution_count": null,
      "outputs": []
    },
    {
      "cell_type": "markdown",
      "source": [
        "## Функции"
      ],
      "metadata": {
        "id": "teTLUMQhTeo2"
      }
    },
    {
      "cell_type": "markdown",
      "source": [
        "В LightFM нет функции для вычисления nDCG@K, поэтому подготовим функцию для этого."
      ],
      "metadata": {
        "id": "xpDMntvlS3vc"
      }
    },
    {
      "cell_type": "code",
      "source": [
        "def ndcg_at_k_custom(users_ranks, users_relevances, k=20):\n",
        "\n",
        "  if len(users_ranks) != len(users_relevances):\n",
        "    raise ValueError(\"Размеры ranks и relevance должны быть одинаковыми.\")\n",
        "\n",
        "  ndcg = 0\n",
        "  n = 0\n",
        "\n",
        "  for i in tqdm(range(len(users_ranks))):\n",
        "\n",
        "    ranks = np.array(users_ranks[i][:k])\n",
        "    relevance = np.array(users_relevances[i][:k])\n",
        "\n",
        "    if relevance.sum() != 0:\n",
        "\n",
        "      n += 1\n",
        "\n",
        "      sorted_indices = np.argsort(relevance)[::-1]\n",
        "      sorted_ranks = ranks[sorted_indices]\n",
        "      sorted_relevance = relevance[sorted_indices]\n",
        "\n",
        "      sorted_indices = sorted_indices[:k]\n",
        "      sorted_ranks = sorted_ranks[:k]\n",
        "      sorted_relevance = sorted_relevance[:k]\n",
        "\n",
        "      ideal_relevance = np.sort(sorted_relevance)[::-1]\n",
        "\n",
        "      dcg = np.sum((2**sorted_relevance - 1) / np.log2(sorted_ranks + 1))\n",
        "\n",
        "      idcg = np.sum((2**ideal_relevance - 1) / np.log2(np.arange(2, len(ideal_relevance) + 2)))\n",
        "\n",
        "      # Вычисление ndcg\n",
        "      ndcg_value = dcg / idcg\n",
        "\n",
        "      ndcg += ndcg_value\n",
        "\n",
        "  mean_ndcg = ndcg / n\n",
        "\n",
        "  return mean_ndcg, n"
      ],
      "metadata": {
        "id": "byhpyi9DTCOB"
      },
      "execution_count": null,
      "outputs": []
    },
    {
      "cell_type": "markdown",
      "source": [
        "# Baseline - ALS"
      ],
      "metadata": {
        "id": "AuO9qdmBWGDz"
      }
    },
    {
      "cell_type": "code",
      "source": [
        "model_ALS = AlternatingLeastSquares(factors=40,\n",
        "                                    iterations=20,\n",
        "                                    regularization=0.00003,\n",
        "                                    alpha=6)\n",
        "model_ALS.fit(interaction_matrix_train)"
      ],
      "metadata": {
        "colab": {
          "base_uri": "https://localhost:8080/",
          "height": 105,
          "referenced_widgets": [
            "781de31f0076489d99a1e877747f3b28",
            "11c7ea37411447b4a98143d0d14527d7",
            "2ce9db66d2c348ac8f4effb4562b9386",
            "e36973b20d32458f8aae8238284ffe0c",
            "28ed5851321b4464a35a8f5cd6a8c30f",
            "67edd226cb074513bf1ae10e4a214fa3",
            "38ffbbaddc38465081b7d6432e4b929e",
            "57aa1fa18adf4038a0744b23bd742a6e",
            "fb59c2ffb7704ecfae8d55b8eed96c69",
            "e14ad3ebff924804906295212a89eebe",
            "6f2d5bb48ab8484d91565d19b09954e8"
          ]
        },
        "id": "T5L4mEFZV5--",
        "outputId": "67125814-eb60-48b9-f95a-a434e89cb90b"
      },
      "execution_count": null,
      "outputs": [
        {
          "output_type": "stream",
          "name": "stderr",
          "text": [
            "/usr/local/lib/python3.10/dist-packages/implicit/utils.py:138: ParameterWarning: Method expects CSR input, and was passed coo_matrix instead. Converting to CSR took 0.5579063892364502 seconds\n",
            "  warnings.warn(\n"
          ]
        },
        {
          "output_type": "display_data",
          "data": {
            "text/plain": [
              "  0%|          | 0/20 [00:00<?, ?it/s]"
            ],
            "application/vnd.jupyter.widget-view+json": {
              "version_major": 2,
              "version_minor": 0,
              "model_id": "781de31f0076489d99a1e877747f3b28"
            }
          },
          "metadata": {}
        }
      ]
    },
    {
      "cell_type": "code",
      "source": [
        "def compute_implicit_metrics(model, train_csr, test_csr, K=20):\n",
        "\n",
        "  ndcg_score = ndcg_at_k(model=model,\n",
        "                         train_user_items=train_csr,\n",
        "                         test_user_items=test_csr,\n",
        "                         K=K,\n",
        "                         show_progress=False)\n",
        "\n",
        "  print(\"NDCG@\" + str(K) + \": \" + str(ndcg_score))\n",
        "\n",
        "  map_score = mean_average_precision_at_k(model=model,\n",
        "                                          train_user_items=train_csr,\n",
        "                                          test_user_items=test_csr,\n",
        "                                          K=K,\n",
        "                                          show_progress=False)\n",
        "\n",
        "  print(\"MAP@\" + str(K) + \": \" + str(map_score))\n",
        "\n",
        "  auc_score = AUC_at_k(model=model,\n",
        "                       train_user_items=train_csr,\n",
        "                       test_user_items=test_csr,\n",
        "                       K=K,\n",
        "                       show_progress=False)\n",
        "\n",
        "  print(\"AUC\" + \": \" + str(auc_score))"
      ],
      "metadata": {
        "id": "eyrGNdLggRs2"
      },
      "execution_count": null,
      "outputs": []
    },
    {
      "cell_type": "code",
      "source": [
        "compute_implicit_metrics(model_ALS, interaction_matrix_train, interaction_matrix_test)"
      ],
      "metadata": {
        "colab": {
          "base_uri": "https://localhost:8080/"
        },
        "id": "zMk1iwIBgQI2",
        "outputId": "66bb2de1-0278-4909-d350-7b9efecdba14"
      },
      "execution_count": null,
      "outputs": [
        {
          "output_type": "stream",
          "name": "stdout",
          "text": [
            "NDCG@20: 0.07799193579648375\n",
            "MAP@20: 0.031611685860117686\n",
            "AUC: 0.550356466518696\n"
          ]
        }
      ]
    },
    {
      "cell_type": "markdown",
      "source": [
        "# LightFM-модели"
      ],
      "metadata": {
        "id": "LtBCgmCuWIOR"
      }
    },
    {
      "cell_type": "markdown",
      "source": [
        "## Обучение"
      ],
      "metadata": {
        "id": "KKi55jcRce6C"
      }
    },
    {
      "cell_type": "markdown",
      "source": [
        "Сначала обучим модели:"
      ],
      "metadata": {
        "id": "Nlb5RfIOV9eN"
      }
    },
    {
      "cell_type": "code",
      "source": [
        "model_warp_kos = LightFM(\n",
        "    no_components=40,\n",
        "    k=3,\n",
        "    n=11,\n",
        "    learning_schedule=\"adagrad\",\n",
        "    loss=\"warp-kos\",\n",
        "    learning_rate=0.027,\n",
        "    item_alpha=0.00001,\n",
        "    user_alpha=0.00014,\n",
        "    max_sampled=42)\n",
        "\n",
        "model_warp_kos.fit(interaction_matrix_train, epochs=20)"
      ],
      "metadata": {
        "id": "UbMo0Imo7ona",
        "colab": {
          "base_uri": "https://localhost:8080/"
        },
        "outputId": "5834a6ad-8bfe-4753-a37f-8955614fd55e"
      },
      "execution_count": null,
      "outputs": [
        {
          "output_type": "execute_result",
          "data": {
            "text/plain": [
              "<lightfm.lightfm.LightFM at 0x7db1ca53a2f0>"
            ]
          },
          "metadata": {},
          "execution_count": 54
        }
      ]
    },
    {
      "cell_type": "code",
      "source": [
        "model_lmf = LightFM(\n",
        "    no_components=40,\n",
        "    learning_schedule=\"adagrad\",\n",
        "    loss=\"logistic\",\n",
        "    learning_rate=0.019,\n",
        "    item_alpha=0.0001,\n",
        "    user_alpha=0.00001\n",
        ")\n",
        "\n",
        "model_lmf.fit(interaction_matrix_train, epochs=20)"
      ],
      "metadata": {
        "colab": {
          "base_uri": "https://localhost:8080/"
        },
        "id": "e_pctsTR_frM",
        "outputId": "9b85b90b-1530-4a64-f101-cd59d820ea00"
      },
      "execution_count": null,
      "outputs": [
        {
          "output_type": "execute_result",
          "data": {
            "text/plain": [
              "<lightfm.lightfm.LightFM at 0x799f11cfd0c0>"
            ]
          },
          "metadata": {},
          "execution_count": 33
        }
      ]
    },
    {
      "cell_type": "code",
      "source": [
        "model_bpr = LightFM(\n",
        "    no_components=40,\n",
        "    learning_schedule=\"adagrad\",\n",
        "    loss=\"bpr\",\n",
        "    learning_rate=0.035,\n",
        "    item_alpha=0.00001,\n",
        "    user_alpha=0.0001\n",
        ")\n",
        "\n",
        "model_bpr.fit(interaction_matrix_train, epochs = 20)"
      ],
      "metadata": {
        "colab": {
          "base_uri": "https://localhost:8080/"
        },
        "id": "t65KqgHIebl_",
        "outputId": "f53f6821-fa51-4e5b-d0d6-8fc56add4413"
      },
      "execution_count": null,
      "outputs": [
        {
          "output_type": "execute_result",
          "data": {
            "text/plain": [
              "<lightfm.lightfm.LightFM at 0x799f62740880>"
            ]
          },
          "metadata": {},
          "execution_count": 15
        }
      ]
    },
    {
      "cell_type": "code",
      "source": [
        "model_warp = LightFM(\n",
        "    no_components=40,\n",
        "    learning_schedule=\"adagrad\",\n",
        "    loss=\"warp\",\n",
        "    learning_rate=0.04,\n",
        "    item_alpha=0.0001,\n",
        "    user_alpha=0.00005,\n",
        "    max_sampled=40\n",
        ")\n",
        "\n",
        "model_warp.fit(interaction_matrix_train, epochs=20)"
      ],
      "metadata": {
        "colab": {
          "base_uri": "https://localhost:8080/"
        },
        "id": "JKcXZo5ze-wO",
        "outputId": "6fc1c6c6-b78c-401b-9f99-5b2af7bf5f77"
      },
      "execution_count": null,
      "outputs": [
        {
          "output_type": "execute_result",
          "data": {
            "text/plain": [
              "<lightfm.lightfm.LightFM at 0x7955145bab30>"
            ]
          },
          "metadata": {},
          "execution_count": 12
        }
      ]
    },
    {
      "cell_type": "markdown",
      "source": [
        "Занулим константы при скорах айтемов, т.к. происходит сильный перекос в сторону популярных товаров. Особенно это сказывается на результатах LMF и BPR."
      ],
      "metadata": {
        "id": "-f77u5FxWjzf"
      }
    },
    {
      "cell_type": "code",
      "source": [
        "model_warp_kos.item_biases = np.zeros_like(model_warp_kos.item_biases)\n",
        "model_bpr.item_biases = np.zeros_like(model_bpr.item_biases)\n",
        "model_lmf.item_biases = np.zeros_like(model_lmf.item_biases)\n",
        "model_warp.item_biases = np.zeros_like(model_warp.item_biases)"
      ],
      "metadata": {
        "id": "LIuAj_EzWhRL"
      },
      "execution_count": null,
      "outputs": []
    },
    {
      "cell_type": "markdown",
      "source": [
        "## Метрики из LightFM"
      ],
      "metadata": {
        "id": "mDTyS-iucjGL"
      }
    },
    {
      "cell_type": "markdown",
      "source": [
        "Для удобства соберём функцию с метриками, реализованными в самой LightFM:"
      ],
      "metadata": {
        "id": "8F57QF9cWFE4"
      }
    },
    {
      "cell_type": "code",
      "source": [
        "def compute_lightfm_metrics(model, test_csr, K=20):\n",
        "\n",
        "  mar_score = recall_at_k(\n",
        "      model=model,\n",
        "      test_interactions=test_csr,\n",
        "      k=K).mean()\n",
        "\n",
        "  print(\"MAR@\" + str(K) + \": \" + str(mar_score))\n",
        "\n",
        "  map_score = precision_at_k(\n",
        "      model=model,\n",
        "      test_interactions=test_csr,\n",
        "      k=K).mean()\n",
        "\n",
        "  print(\"MAP@\" + str(K) + \": \" + str(map_score))\n",
        "\n",
        "  auc = auc_score(\n",
        "      model=model,\n",
        "      test_interactions=test_csr).mean()\n",
        "\n",
        "  print(\"AUC\" + \": \" + str(auc))"
      ],
      "metadata": {
        "id": "-Rob-57tBbIY"
      },
      "execution_count": null,
      "outputs": []
    },
    {
      "cell_type": "code",
      "source": [
        "compute_lightfm_metrics(model_warp_kos, interaction_matrix_test)"
      ],
      "metadata": {
        "colab": {
          "base_uri": "https://localhost:8080/"
        },
        "id": "fBC4rXNkExdf",
        "outputId": "5a390d24-18a9-4130-dc31-dc24ff9fd14a"
      },
      "execution_count": null,
      "outputs": [
        {
          "output_type": "stream",
          "name": "stdout",
          "text": [
            "MAR@20: 0.1911407042967994\n",
            "MAP@20: 0.068257414\n",
            "AUC: 0.9306624\n"
          ]
        }
      ]
    },
    {
      "cell_type": "code",
      "source": [
        "compute_lightfm_metrics(model_lmf, interaction_matrix_test)"
      ],
      "metadata": {
        "id": "r27Yj3HEEyc2"
      },
      "execution_count": null,
      "outputs": []
    },
    {
      "cell_type": "code",
      "source": [
        "compute_lightfm_metrics(model_bpr, interaction_matrix_test)"
      ],
      "metadata": {
        "colab": {
          "base_uri": "https://localhost:8080/"
        },
        "id": "Nkm23Cakev7G",
        "outputId": "78fd408d-6d13-4356-868f-ec7f2abb204e"
      },
      "execution_count": null,
      "outputs": [
        {
          "output_type": "stream",
          "name": "stdout",
          "text": [
            "MAR@20: 0.18752204383479343\n",
            "MAP@20: 0.06689085\n",
            "AUC: 0.6460498\n"
          ]
        }
      ]
    },
    {
      "cell_type": "code",
      "source": [
        "compute_lightfm_metrics(model_warp, interaction_matrix_test)"
      ],
      "metadata": {
        "colab": {
          "base_uri": "https://localhost:8080/"
        },
        "id": "XCXJ8epfev3G",
        "outputId": "6a15a3a1-4232-421e-abbf-238c50960cdb"
      },
      "execution_count": null,
      "outputs": [
        {
          "output_type": "stream",
          "name": "stdout",
          "text": [
            "MAR@20: 0.1977219490418296\n",
            "MAP@20: 0.06926053\n",
            "AUC: 0.93269706\n"
          ]
        }
      ]
    },
    {
      "cell_type": "markdown",
      "source": [
        "## nDCG@K для LightFM моделей"
      ],
      "metadata": {
        "id": "Na-2UHXmcnam"
      }
    },
    {
      "cell_type": "markdown",
      "source": [
        "Подготовим отображения товаров и пользователей:"
      ],
      "metadata": {
        "id": "xX61jhZFXB_v"
      }
    },
    {
      "cell_type": "code",
      "source": [
        "lightfm_mapping = dataset.mapping()\n",
        "lightfm_mapping = {\"users_mapping\": lightfm_mapping[0],\n",
        "                   \"items_mapping\": lightfm_mapping[2]}\n",
        "\n",
        "lightfm_mapping[\"users_inv_mapping\"] = {v: k for k, v in lightfm_mapping[\"users_mapping\"].items()}\n",
        "lightfm_mapping[\"items_inv_mapping\"] = {v: k for k, v in lightfm_mapping[\"items_mapping\"].items()}\n",
        "\n",
        "all_cols = list(lightfm_mapping[\"items_mapping\"].values())"
      ],
      "metadata": {
        "id": "ZQNPQWIJW_x3"
      },
      "execution_count": null,
      "outputs": []
    },
    {
      "cell_type": "markdown",
      "source": [
        "Инициализируем функцию, с помощью которой будем отбирать кандидатов:"
      ],
      "metadata": {
        "id": "bd9F_0YcXUJU"
      }
    },
    {
      "cell_type": "code",
      "source": [
        "def generate_lightfm_recs_mapper(model, item_ids, known_items, user_features, item_features, N, user_mapping, item_inv_mapping, num_threads=4):\n",
        "  def _recs_mapper(user):\n",
        "    user_id = user_mapping[user]\n",
        "    recs = model.predict(user_id, item_ids, user_features=user_features, item_features=item_features, num_threads=num_threads)\n",
        "\n",
        "    additional_N = len(known_items[user_id]) if user_id in known_items else 0\n",
        "    total_N = N + additional_N\n",
        "    top_cols = np.argpartition(recs, -np.arange(total_N))[-total_N:][::-1]\n",
        "\n",
        "    final_recs = [item_inv_mapping[item] for item in top_cols]\n",
        "    if additional_N > 0:\n",
        "        filter_items = known_items[user_id]\n",
        "        final_recs = [item for item in final_recs if item not in filter_items]\n",
        "    return final_recs[:N]\n",
        "  return _recs_mapper"
      ],
      "metadata": {
        "id": "z6_IuBcvXSVZ"
      },
      "execution_count": null,
      "outputs": []
    },
    {
      "cell_type": "markdown",
      "source": [
        "Будем считать nDCG@20, поэтому возьмём по 20 товаров для каждого пользователя."
      ],
      "metadata": {
        "id": "_hJWBeE0XrCM"
      }
    },
    {
      "cell_type": "code",
      "source": [
        "def extract_candidates(train, test, model, lightfm_mapping, top_N=20):\n",
        "\n",
        "  if model == \"warp\":\n",
        "\n",
        "    prediction = pd.DataFrame({\"user_id\": test[\"user_id\"].unique()})\n",
        "    prediction = prediction[prediction[\"user_id\"].isin(train[\"user_id\"].unique())]\n",
        "    known_items = train.groupby(\"user_id\")[\"item_id\"].apply(list).to_dict()\n",
        "\n",
        "    all_cols = list(lightfm_mapping[\"items_mapping\"].values())\n",
        "\n",
        "    mapper = generate_lightfm_recs_mapper(\n",
        "        model_warp,\n",
        "        item_ids=all_cols,\n",
        "        known_items=known_items,\n",
        "        N=top_N,\n",
        "        user_features=None,\n",
        "        item_features=None,\n",
        "        user_mapping=lightfm_mapping[\"users_mapping\"],\n",
        "        item_inv_mapping=lightfm_mapping[\"items_inv_mapping\"],\n",
        "        num_threads=20\n",
        "    )\n",
        "\n",
        "    prediction[\"item_id\"] = prediction[\"user_id\"].map(mapper)\n",
        "    prediction = prediction.explode(\"item_id\").reset_index(drop=True)\n",
        "    prediction[\"rank_warp\"] = prediction.groupby(\"user_id\").cumcount() + 1\n",
        "\n",
        "  elif model == \"lmf\":\n",
        "\n",
        "    prediction = pd.DataFrame({\"user_id\": test[\"user_id\"].unique()})\n",
        "    prediction = prediction[prediction[\"user_id\"].isin(train[\"user_id\"].unique())]\n",
        "    known_items = train.groupby(\"user_id\")[\"item_id\"].apply(list).to_dict()\n",
        "\n",
        "    all_cols = list(lightfm_mapping[\"items_mapping\"].values())\n",
        "\n",
        "    mapper = generate_lightfm_recs_mapper(\n",
        "        model_lmf,\n",
        "        item_ids=all_cols,\n",
        "        known_items=known_items,\n",
        "        N=top_N,\n",
        "        user_features=None,\n",
        "        item_features=None,\n",
        "        user_mapping=lightfm_mapping[\"users_mapping\"],\n",
        "        item_inv_mapping=lightfm_mapping[\"items_inv_mapping\"],\n",
        "        num_threads=20\n",
        "    )\n",
        "\n",
        "    prediction[\"item_id\"] = prediction[\"user_id\"].map(mapper)\n",
        "    prediction = prediction.explode(\"item_id\").reset_index(drop=True)\n",
        "    prediction[\"rank_lmf\"] = prediction.groupby(\"user_id\").cumcount() + 1\n",
        "\n",
        "  elif model == \"bpr\":\n",
        "\n",
        "    prediction = pd.DataFrame({\"user_id\": test[\"user_id\"].unique()})\n",
        "    prediction = prediction[prediction[\"user_id\"].isin(train[\"user_id\"].unique())]\n",
        "    known_items = train.groupby(\"user_id\")[\"item_id\"].apply(list).to_dict()\n",
        "\n",
        "    all_cols = list(lightfm_mapping[\"items_mapping\"].values())\n",
        "\n",
        "    mapper = generate_lightfm_recs_mapper(\n",
        "        model_bpr,\n",
        "        item_ids=all_cols,\n",
        "        known_items=known_items,\n",
        "        N=top_N,\n",
        "        user_features=None,\n",
        "        item_features=None,\n",
        "        user_mapping=lightfm_mapping[\"users_mapping\"],\n",
        "        item_inv_mapping=lightfm_mapping[\"items_inv_mapping\"],\n",
        "        num_threads=20\n",
        "    )\n",
        "\n",
        "    prediction[\"item_id\"] = prediction[\"user_id\"].map(mapper)\n",
        "    prediction = prediction.explode(\"item_id\").reset_index(drop=True)\n",
        "    prediction[\"rank_bpr\"] = prediction.groupby(\"user_id\").cumcount() + 1\n",
        "\n",
        "  elif model == \"warp_kos\":\n",
        "\n",
        "    prediction = pd.DataFrame({\"user_id\": test[\"user_id\"].unique()})\n",
        "    prediction = prediction[prediction[\"user_id\"].isin(train[\"user_id\"].unique())]\n",
        "    known_items = train.groupby(\"user_id\")[\"item_id\"].apply(list).to_dict()\n",
        "\n",
        "    all_cols = list(lightfm_mapping[\"items_mapping\"].values())\n",
        "\n",
        "    mapper = generate_lightfm_recs_mapper(\n",
        "        model_warp_kos,\n",
        "        item_ids=all_cols,\n",
        "        known_items=known_items,\n",
        "        N=top_N,\n",
        "        user_features=None,\n",
        "        item_features=None,\n",
        "        user_mapping=lightfm_mapping[\"users_mapping\"],\n",
        "        item_inv_mapping=lightfm_mapping[\"items_inv_mapping\"],\n",
        "        num_threads=20\n",
        "    )\n",
        "\n",
        "    prediction[\"item_id\"] = prediction[\"user_id\"].map(mapper)\n",
        "    prediction = prediction.explode(\"item_id\").reset_index(drop=True)\n",
        "    prediction[\"rank_warp_kos\"] = prediction.groupby(\"user_id\").cumcount() + 1\n",
        "\n",
        "  else:\n",
        "\n",
        "    print(\"Возможно 4 варианта моделей: warp, bpr, lmf и warp_kos.\")"
      ],
      "metadata": {
        "id": "Sv5L4MhxX2Uz"
      },
      "execution_count": null,
      "outputs": []
    },
    {
      "cell_type": "markdown",
      "source": [
        "Как правило, составление отображения занимает 30 минут, поэтому лучше запускать последовательно (поэтому остальные 3 закоменчены):"
      ],
      "metadata": {
        "id": "IyUZUTNPZvOr"
      }
    },
    {
      "cell_type": "code",
      "source": [
        "prediction = extract_candidates(train, test, \"warp\", lightfm_mapping)\n",
        "# prediction = extract_candidates(train, test, \"bpr\", lightfm_mapping)\n",
        "# prediction = extract_candidates(train, test, \"lmf\", lightfm_mapping)\n",
        "# prediction = extract_candidates(train, test, \"warp_kos\", lightfm_mapping)"
      ],
      "metadata": {
        "id": "T7DN41JcZHH2"
      },
      "execution_count": null,
      "outputs": []
    },
    {
      "cell_type": "markdown",
      "source": [
        "Проверим, всем ли пользователям порекомендовалось 20 товаров."
      ],
      "metadata": {
        "id": "KfoGYczPaEPB"
      }
    },
    {
      "cell_type": "code",
      "source": [
        "prediction.user_id.value_counts(normalize=True)"
      ],
      "metadata": {
        "id": "UWbprlC2aFJN"
      },
      "execution_count": null,
      "outputs": []
    },
    {
      "cell_type": "markdown",
      "source": [
        "Добавим колонку со значениями релевантности, где 1 соответствует тому, что в тестовом периоде пользователь с товаром **взаимодействовал**."
      ],
      "metadata": {
        "id": "j2aao46ObTRg"
      }
    },
    {
      "cell_type": "code",
      "source": [
        "test = test.drop(columns=\"amount\")\n",
        "test[\"relevance\"] = 1\n",
        "prediction = pd.merge(prediction, test, on=[\"user_id\", \"item_id\"], how=\"left\")\n",
        "prediction[\"relevance\"] = prediction[\"relevance\"].fillna(0)\n",
        "prediction[\"relevance\"] = prediction[\"relevance\"].astype(int)"
      ],
      "metadata": {
        "id": "SVM1da9wbRgx"
      },
      "execution_count": null,
      "outputs": []
    },
    {
      "cell_type": "markdown",
      "source": [
        "Посмотрим на соотношение:"
      ],
      "metadata": {
        "id": "ZeugKSXvbgAf"
      }
    },
    {
      "cell_type": "code",
      "source": [
        "prediction.relevance.value_counts(normalize=True)"
      ],
      "metadata": {
        "id": "ugtdTnVGbiWs"
      },
      "execution_count": null,
      "outputs": []
    },
    {
      "cell_type": "markdown",
      "source": [
        "Достанем ранги, проставленные моделью, и соответствующие значения релевантности:"
      ],
      "metadata": {
        "id": "GFIUNaIhbvNS"
      }
    },
    {
      "cell_type": "code",
      "source": [
        "ranks = prediction.groupby(\"user_id\")[\"rank_warp\"].apply(list).values\n",
        "relevances = prediction.groupby(\"user_id\")[\"relevance\"].apply(list).values"
      ],
      "metadata": {
        "id": "Rj8fA--wbvtJ"
      },
      "execution_count": null,
      "outputs": []
    },
    {
      "cell_type": "markdown",
      "source": [
        "Проверка:"
      ],
      "metadata": {
        "id": "2ntFkm7-cAcx"
      }
    },
    {
      "cell_type": "code",
      "source": [
        "len(ranks) ==  len(relevances)"
      ],
      "metadata": {
        "id": "8SOEFKKjcBfJ"
      },
      "execution_count": null,
      "outputs": []
    },
    {
      "cell_type": "markdown",
      "source": [
        "Посчитаем nDCG@K с помощью функции, инициализированной выше:"
      ],
      "metadata": {
        "id": "PKrcalOMWPy0"
      }
    },
    {
      "cell_type": "code",
      "source": [
        "ndcg_at_k_custom(\n",
        "    users_ranks=ranks,\n",
        "    users_relevances=relevances,\n",
        "    k=20\n",
        ")"
      ],
      "metadata": {
        "id": "6tI4inU0XSCc"
      },
      "execution_count": null,
      "outputs": []
    },
    {
      "cell_type": "markdown",
      "source": [
        "# Top-Recommender"
      ],
      "metadata": {
        "id": "-GGVlKbqLoMn"
      }
    },
    {
      "cell_type": "markdown",
      "source": [
        "Для модели, рекомендующей товары на основе их популярности, не надо преобразовывать данные как для остальных моделей, поэтому заново инициализируем исходные данные:"
      ],
      "metadata": {
        "id": "GbAp4xxmctyy"
      }
    },
    {
      "cell_type": "code",
      "source": [
        "path = \"/content/drive/MyDrive/WB School/data.csv.gzip\"\n",
        "interactions = pd.read_csv(path, compression=\"gzip\")\n",
        "interactions[\"order_ts\"] = pd.to_datetime(interactions[\"order_ts\"])"
      ],
      "metadata": {
        "id": "VqNdy65NNAdP"
      },
      "execution_count": null,
      "outputs": []
    },
    {
      "cell_type": "code",
      "source": [
        "train = interactions[interactions.order_ts <= \"2023-02-28 23:59:59.947831\"]\n",
        "test = interactions[interactions.order_ts > \"2023-02-28 23:59:59.947831\"]\n",
        "\n",
        "del interactions\n",
        "gc.collect()"
      ],
      "metadata": {
        "id": "_yRBuzkBu4MN"
      },
      "execution_count": null,
      "outputs": []
    },
    {
      "cell_type": "code",
      "source": [
        "test = test[test[\"user_id\"].isin(train[\"user_id\"].unique())]\n",
        "test = test[test[\"item_id\"].isin(train[\"item_id\"].unique())]\n",
        "\n",
        "train = train.drop_duplicates()\n",
        "test = test.drop_duplicates()"
      ],
      "metadata": {
        "id": "5SZNKnUvvFz9"
      },
      "execution_count": null,
      "outputs": []
    },
    {
      "cell_type": "markdown",
      "source": [
        "Для всех пользователей будут рекомендоваться самые популярные за 2 обучающих месяца товары. Забираем 20 наиболее популярных товаров."
      ],
      "metadata": {
        "id": "_DMGso_9vUzU"
      }
    },
    {
      "cell_type": "code",
      "source": [
        "train = train.drop(columns=\"order_ts\").groupby(\"item_id\", as_index=False).count().rename(columns={\"user_id\": \"amount\"}).sort_values(\"amount\", ascending=False)\n",
        "items = train.item_id.values[:20]"
      ],
      "metadata": {
        "id": "xTWU69anvUQ9"
      },
      "execution_count": null,
      "outputs": []
    },
    {
      "cell_type": "markdown",
      "source": [
        "Для расчёта nDCG@K добавим значения релевантности:"
      ],
      "metadata": {
        "id": "2SX1IT_IdTn_"
      }
    },
    {
      "cell_type": "code",
      "source": [
        "test = test.groupby([\"user_id\", \"item_id\"], as_index=False).count().rename(columns={\"order_ts\": \"amount\"})\n",
        "test = test.drop(columns=\"amount\")\n",
        "test[\"relevance\"] = 1"
      ],
      "metadata": {
        "id": "7wsg7Gsiz0YV"
      },
      "execution_count": null,
      "outputs": []
    },
    {
      "cell_type": "markdown",
      "source": [
        "Проранжируем рекомендуемые товары:"
      ],
      "metadata": {
        "id": "Kjny09CGdgHj"
      }
    },
    {
      "cell_type": "code",
      "source": [
        "prediction = pd.DataFrame({\"user_id\": test[\"user_id\"].unique()})\n",
        "prediction[\"item_id\"] = [items for i in prediction.index]\n",
        "prediction = prediction.explode(\"item_id\").reset_index(drop=True)\n",
        "prediction[\"rank_pop\"] = prediction.groupby(\"user_id\").cumcount() + 1"
      ],
      "metadata": {
        "id": "jGH1Dbe60Mg8"
      },
      "execution_count": null,
      "outputs": []
    },
    {
      "cell_type": "markdown",
      "source": [
        "Соберём данные:"
      ],
      "metadata": {
        "id": "pWUiOEsqdr_x"
      }
    },
    {
      "cell_type": "code",
      "source": [
        "prediction = pd.merge(prediction, test, on=[\"user_id\", \"item_id\"], how=\"left\")\n",
        "prediction[\"relevance\"] = prediction[\"relevance\"].fillna(0)\n",
        "prediction[\"relevance\"] = prediction[\"relevance\"].astype(int)"
      ],
      "metadata": {
        "id": "m_5J_DTD3N0P"
      },
      "execution_count": null,
      "outputs": []
    },
    {
      "cell_type": "markdown",
      "source": [
        "Посмотрим на соотношение positive и negative:"
      ],
      "metadata": {
        "id": "SiduX8PXdmlj"
      }
    },
    {
      "cell_type": "code",
      "source": [
        "prediction.relevance.value_counts(normalize=True)"
      ],
      "metadata": {
        "colab": {
          "base_uri": "https://localhost:8080/"
        },
        "id": "f76Z_sKn3Ny-",
        "outputId": "99fc7aa6-3952-4641-8276-8d2262257503"
      },
      "execution_count": null,
      "outputs": [
        {
          "output_type": "execute_result",
          "data": {
            "text/plain": [
              "0    0.931309\n",
              "1    0.068691\n",
              "Name: relevance, dtype: float64"
            ]
          },
          "metadata": {},
          "execution_count": 69
        }
      ]
    },
    {
      "cell_type": "markdown",
      "source": [
        "Достанем ранги и релевантности:"
      ],
      "metadata": {
        "id": "J3_NTOBjdyqr"
      }
    },
    {
      "cell_type": "code",
      "source": [
        "ranks = prediction.groupby(\"user_id\")[\"rank_pop\"].apply(list).values\n",
        "relevances = prediction.groupby(\"user_id\")[\"relevance\"].apply(list).values"
      ],
      "metadata": {
        "id": "jxtlBI8k4J61"
      },
      "execution_count": null,
      "outputs": []
    },
    {
      "cell_type": "markdown",
      "source": [
        "Наконец, посчитаем значение метрики nDCG@20:"
      ],
      "metadata": {
        "id": "iXHjcpDvd13Y"
      }
    },
    {
      "cell_type": "code",
      "source": [
        "ndcg_at_k_custom(\n",
        "    users_ranks=ranks,\n",
        "    users_relevances=relevances,\n",
        "    k=20\n",
        ")"
      ],
      "metadata": {
        "colab": {
          "base_uri": "https://localhost:8080/"
        },
        "id": "FtU5axSI4Zqu",
        "outputId": "a8cc4cfc-7968-4d5d-f6b6-f0d6878d50db"
      },
      "execution_count": null,
      "outputs": [
        {
          "output_type": "stream",
          "name": "stderr",
          "text": [
            "100%|██████████| 720401/720401 [00:29<00:00, 24312.38it/s]\n"
          ]
        },
        {
          "output_type": "execute_result",
          "data": {
            "text/plain": [
              "0.5045415311383252"
            ]
          },
          "metadata": {},
          "execution_count": 72
        }
      ]
    },
    {
      "cell_type": "markdown",
      "source": [
        "# nDCG@K для гибридной модели"
      ],
      "metadata": {
        "id": "rNagC-aWta77"
      }
    },
    {
      "cell_type": "code",
      "source": [
        "from numpy import load"
      ],
      "metadata": {
        "id": "zOcBQygl3c7w"
      },
      "execution_count": null,
      "outputs": []
    },
    {
      "cell_type": "markdown",
      "source": [
        "Подгрузим полученные заранее ранги и релевантности гибридной модели"
      ],
      "metadata": {
        "id": "Ap5bPMgbegaB"
      }
    },
    {
      "cell_type": "code",
      "source": [
        "lgbm_ranks = load(\"/content/drive/MyDrive/WB School/L4/lgbm_ranks.npy\", allow_pickle=True)\n",
        "lgbm_relevances = load(\"/content/drive/MyDrive/WB School/L4/lgbm_relevances.npy\", allow_pickle=True)"
      ],
      "metadata": {
        "id": "XA5PG6epGXwU"
      },
      "execution_count": null,
      "outputs": []
    },
    {
      "cell_type": "code",
      "source": [
        "ndcg_at_k_custom(\n",
        "    users_ranks=lgbm_ranks,\n",
        "    users_relevances=lgbm_relevances,\n",
        "    k=20\n",
        ")"
      ],
      "metadata": {
        "colab": {
          "base_uri": "https://localhost:8080/"
        },
        "id": "CO16gG8i33E6",
        "outputId": "e9a9acc0-728c-451e-cdb9-82b0dce1ba39"
      },
      "execution_count": null,
      "outputs": [
        {
          "output_type": "stream",
          "name": "stderr",
          "text": [
            "100%|██████████| 726266/726266 [00:25<00:00, 28246.71it/s]\n"
          ]
        }
      ]
    },
    {
      "cell_type": "code",
      "source": [
        "ndcg, n"
      ],
      "metadata": {
        "colab": {
          "base_uri": "https://localhost:8080/"
        },
        "id": "xdN8ifoP49rN",
        "outputId": "8a28c21a-2bbd-455c-b906-77e75c10a911"
      },
      "execution_count": null,
      "outputs": [
        {
          "output_type": "execute_result",
          "data": {
            "text/plain": [
              "(0.5077892906497211, 426451)"
            ]
          },
          "metadata": {},
          "execution_count": 18
        }
      ]
    },
    {
      "cell_type": "markdown",
      "source": [
        "# Итоги"
      ],
      "metadata": {
        "id": "k39g97aKfsJO"
      }
    },
    {
      "cell_type": "markdown",
      "source": [
        "Качество моделей получилось следующим:![Снимок экрана (1364).png](data:image/png;base64,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)"
      ],
      "metadata": {
        "id": "z_FFa4i_fu7t"
      }
    },
    {
      "cell_type": "markdown",
      "source": [
        "Разнообразие:"
      ],
      "metadata": {
        "id": "XgnygT1sf8E0"
      }
    },
    {
      "cell_type": "markdown",
      "source": [
        "Идея для конструирования train и test датасетов в нужном формате: https://www.kaggle.com/code/parthplc/interview-building-recommendation-system-lightfm"
      ],
      "metadata": {
        "id": "rEkK2U80V2nE"
      }
    }
  ]
}